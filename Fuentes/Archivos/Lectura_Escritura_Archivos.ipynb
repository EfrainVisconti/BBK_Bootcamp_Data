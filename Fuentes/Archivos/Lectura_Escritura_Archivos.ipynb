{
 "cells": [
  {
   "cell_type": "markdown",
   "metadata": {},
   "source": [
    "![imagen](./img/python.jpg)\n",
    "\n",
    "# Lectura Escritura\n",
    "\n",
    "En este módulo vas a ver diferentes maneras de leer y escribir datos desde archivos locales. Rara vez trabajarás únicamente con los datos que genere tu programa de Python, sino que lo normal será acudir a una fuente de datos, o leer de algún archivo.\n",
    "\n",
    "1. [Archivos](#1.-Archivos)\n",
    "2. [Abrir ficheros](#2.-Abrir-ficheros)\n",
    "3. [CSV](#3.-CSV)\n",
    "4. [Excel](#4.-Excel)\n",
    "5. [JSON](#5.-JSON)\n",
    "6. [TXT](#6.-TXT)\n",
    "7. [ZIP](#7.-ZIP)\n",
    "8. [pickle](#8.-pickle)\n",
    "9. [Encoding](#9.-Encoding)\n",
    "10. [Archivos y carpetas](#10.-Archivos-y-carpetas)"
   ]
  },
  {
   "cell_type": "markdown",
   "metadata": {},
   "source": [
    "## 1. Archivos\n",
    "Antes de ir a leer o escribir archivos, es importante saber exáctamente qué es un archivo. **Un archivo es un conjunto de datos almacenados en el ordenador en forma de bits.** Los datos se organizan en un formato específico, pudiendo ser un archivo de texto, un ejecutable... pero en el fondo todos esos archivos se traducen a nivel binario para el procesado del ordenador. Los archivos se componen de:\n",
    "\n",
    "1. **Header**: metadatos del archivo (nombre, tamaño, tipo...)\n",
    "2. **Data**: contenido del archivo\n",
    "3. **End of file (EOF)**: caracter especial que indica el final del archivo.\n",
    "\n",
    "![imagen](./img/file.png)\n",
    "\n",
    "#### File path\n",
    "Hay tres elementos que tenemos que conocer cuando leamos un archivo:\n",
    "1. **Folder path**: en que lugar del ordenador está el archivo. Y no solo eso, si no en qué directorio está apuntando el programa de Python.\n",
    "2. **File name**\n",
    "3. **Extension**: lo que va después del punto\n",
    "\n",
    "Fíjate en la siguiente imagen:\n",
    "\n",
    "![imagen](./img/path.png)\n",
    "\n",
    "* Si estamos trabajando en el directorio *to*, accederemos a *cats.gif* como `cats.gif`\n",
    "* Si queremos leer *dog_breeds.txt*, hay que ir un directorio hacia atrás, `../dog_breeds.txt`\n",
    "* Y si queremos acceder a `animals.csv`, son dos directorios hacia atrás: `../../animals.csv`\n",
    "\n",
    "Siempre podemos poner la ruta absoluta (`C/Users/usuario/Archivos/Bootcamp/Python/animals.csv`) para el acceso a cada archivo, **aunque no es lo recomendable**.\n",
    "\n",
    "[Buena guía para iniciarse en la lectura/escritura de archivos con Python.](https://realpython.com/read-write-files-python/)"
   ]
  },
  {
   "cell_type": "markdown",
   "metadata": {},
   "source": [
    "## 2. Abrir ficheros\n",
    "A lo largo de este notebook verás diferentes funciones para leer archivos, en función de la extensión cada uno. Estas funciones provienen de otras librerías y nos facilitan mucho la vida a la hora de leer o escribir archivos. No obstante, Python tiene sus propias funciones *built-in*, con las que no es necesario utilizar otros paquetes. \n",
    "\n",
    "Para ello **usaremos la función `open`**, que devuelve un objeto de tipo `File`, con unos métodos y atributos propios empleados para obtener información de los archivos abiertos. `open` sigue la siguiente sitaxis:\n",
    "\n",
    "```Python\n",
    "file_object  = open(\"filename\", \"mode\")\n",
    "```\n",
    "\n",
    "El primer argumento es el nombre del archivo, mientras que en el modo tendremos que especificar si queremos leer, o escribir. Por defecto leerá, es decir, el parámetro valdrá *r*, de read. [Te dejo el enlace a la documentación para consultar el resto de modos](https://docs.python.org/3/library/functions.html#open).\n",
    "\n",
    "Vamos a probar a leer un archivo. La siguiente sintaxis de línea se utiliza porque en algún momento se tiene que cerrar el archivo. Se abre, leemos, realizamos operaciones, y cuando acaba el `with open()`, se cierra el archivo. **Leer y escribir mientras los archivos están abiertos nos dará errores**."
   ]
  },
  {
   "cell_type": "code",
   "execution_count": 1,
   "metadata": {},
   "outputs": [
    {
     "name": "stdout",
     "output_type": "stream",
     "text": [
      "<class 'str'>\n",
      "Pug\n",
      "Jack Russell Terrier\n",
      "English Springer Spaniel\n",
      "German Shepherd\n",
      "Staffordshire Bull Terrier\n",
      "Cavalier King Charles Spaniel\n",
      "Golden Retriever\n",
      "West Highland White Terrier\n",
      "Boxer\n",
      "Border Terrier\n"
     ]
    }
   ],
   "source": [
    "with open('data/dog_breeds.txt', 'r') as open_file:\n",
    "    all_text = open_file.read()\n",
    "    print(type(all_text))\n",
    "\n",
    "    print(all_text)"
   ]
  },
  {
   "cell_type": "markdown",
   "metadata": {},
   "source": [
    "El método `.read()` nos devuelve un string con todo el texto, que no es lo ideal para tratar luego los datos.\n",
    "\n",
    "En el siguiente ejemplo vemos como también lo leemos, pero en este caso cada línea la guarda en una lista."
   ]
  },
  {
   "cell_type": "code",
   "execution_count": 2,
   "metadata": {},
   "outputs": [
    {
     "name": "stdout",
     "output_type": "stream",
     "text": [
      "<class 'list'>\n",
      "['Pug\\n', 'Jack Russell Terrier\\n', 'English Springer Spaniel\\n', 'German Shepherd\\n', 'Staffordshire Bull Terrier\\n', 'Cavalier King Charles Spaniel\\n', 'Golden Retriever\\n', 'West Highland White Terrier\\n', 'Boxer\\n', 'Border Terrier']\n"
     ]
    }
   ],
   "source": [
    "with open('data/dog_breeds.txt', 'r') as open_file:\n",
    "    all_text = open_file.readlines()\n",
    "    print(type(all_text))\n",
    "    print(all_text)\n"
   ]
  },
  {
   "cell_type": "code",
   "execution_count": 3,
   "metadata": {},
   "outputs": [
    {
     "name": "stdout",
     "output_type": "stream",
     "text": [
      "Pug\n",
      "Jack Russell Terrier\n",
      "English Springer Spaniel\n",
      "German Shepherd\n",
      "Staffordshire Bull Terrier\n",
      "Cavalier King Charles Spaniel\n",
      "Golden Retriever\n",
      "West Highland White Terrier\n",
      "Boxer\n",
      "Border TerrierFin\n"
     ]
    }
   ],
   "source": [
    "with open('data/dog_breeds.txt', 'r') as open_file:\n",
    "    for line in open_file.readlines():\n",
    "        print(line, end = '')\n",
    "\n",
    "print('Fin')"
   ]
  },
  {
   "cell_type": "code",
   "execution_count": 4,
   "metadata": {},
   "outputs": [
    {
     "name": "stdout",
     "output_type": "stream",
     "text": [
      "Pug\n",
      "Jack Russell Terrier\n",
      "English Springer Spaniel\n",
      "German Shepherd\n",
      "Staffordshire Bull Terrier\n",
      "Cavalier King Charles Spaniel\n",
      "Golden Retriever\n",
      "West Highland White Terrier\n",
      "Boxer\n",
      "Border Terrier"
     ]
    }
   ],
   "source": [
    "with open('data/dog_breeds.txt', 'r') as reader:\n",
    "    # Read and print the entire file line by line\n",
    "    for line in reader:\n",
    "        print(line, end='')"
   ]
  },
  {
   "cell_type": "code",
   "execution_count": 5,
   "metadata": {},
   "outputs": [
    {
     "name": "stdout",
     "output_type": "stream",
     "text": [
      "['Pug\\n', 'Jack Russell Terrier\\n', 'English Springer Spaniel\\n', 'German Shepherd\\n']\n"
     ]
    }
   ],
   "source": [
    "with open('data/dog_breeds.txt', 'r') as input_file:\n",
    "    head = [next(input_file) for _ in range(4)]\n",
    "print(head)"
   ]
  },
  {
   "cell_type": "markdown",
   "metadata": {},
   "source": [
    "Si queremos escribir"
   ]
  },
  {
   "cell_type": "code",
   "execution_count": 7,
   "metadata": {},
   "outputs": [
    {
     "name": "stdout",
     "output_type": "stream",
     "text": [
      "Ya se ha escrito\n",
      "print('Esto se crea?')\n",
      "\n",
      "print('Segunda linea')\n",
      "\n",
      "print('Tercera linea')\n",
      "\n"
     ]
    }
   ],
   "source": [
    "with open('data/preguntas.py', 'w') as new_file:\n",
    "    new_file.write(\"print('Esto se crea?')\\n\")\n",
    "    new_file.write(\"print('Segunda linea')\\n\")\n",
    "    new_file.write(\"print('Tercera linea')\\n\")\n",
    "    print(\"Ya se ha escrito\")\n",
    "\n",
    "\n",
    "with open(\"data/preguntas.py\", \"r\") as new_file:\n",
    "    linea = new_file.readline()\n",
    "    print(linea)\n",
    "    print(new_file.readline())\n",
    "    print(new_file.readline())\n"
   ]
  },
  {
   "cell_type": "code",
   "execution_count": 8,
   "metadata": {},
   "outputs": [
    {
     "name": "stdout",
     "output_type": "stream",
     "text": [
      "Ya se ha escrito\n"
     ]
    }
   ],
   "source": [
    "with open('data/class_hlf.py', 'w') as new_file:\n",
    "    new_file.write(\"class Barco():\\n\")\n",
    "    new_file.write(\"\\teslora = 4\")\n",
    "    print(\"Ya se ha escrito\")"
   ]
  },
  {
   "cell_type": "code",
   "execution_count": 9,
   "metadata": {},
   "outputs": [
    {
     "name": "stdout",
     "output_type": "stream",
     "text": [
      "Ya se ha escrito\n"
     ]
    }
   ],
   "source": [
    "with open('data/prueba.py', 'w') as new_file:\n",
    "    new_file.write(\"for i in range(5):\\n\")\n",
    "    new_file.write(\"\\tprint(i)\")\n",
    "    print(\"Ya se ha escrito\")"
   ]
  },
  {
   "cell_type": "markdown",
   "metadata": {},
   "source": [
    "## 3. CSV\n",
    "***Comma Separated Values*. Es el estándar de la industria que se utiliza para leer/escribir datos en formato tabla**, en dos dimensiones. Se llaman *Comma Separeted Values* ya que todos los valores de las columnas van separados por comas, y las filas por saltos de línea. **Su extension de archivo es `.csv`**. Además, el 99% de las veces llevan la cabecera de columnas en la primera línea. Aunque no siempre se dará el caso, depende de la manera en la que se haya generado el CSV.\n",
    "\n",
    "**Es el archivo más común utilizado para guardar datos tabulares, puesto que ocupa muy poco espacio** ya que es simplemente un archivo de texto plano, con todos los datos separados por el caracter coma. Y además, sencillo de entender, los datos no van en un árbol json o xml... Si lo abrimos como texto plano, son los datos separados por coma, tal cual. \n",
    "\n",
    "Por supuesto, tenemos el otro gran protagonista en cuanto a almacenamiento de datos en formato tabla, **el Excel**. A ver, son cosas diferentes. El Excel tiene sus formatos (.xlsx, .xls), que encima son muy eficientes ya que el dato va comprimido, pero no deja de ser un software de pago para tratar los datos, mientras que **el CSV es un formato estándar que se utiliza en todos los sistemas operativos para el exportado/importado de datos**.\n",
    "\n",
    "Como decíamos al principio, los CSVs se llaman *Comma Separated Values* porque todos los valores van separados por comas... bueno, esto no es del todo cierto ya que **puede haber otro caracter que no sea la coma**, como por ejemplo el punto y coma. ¿Por qué? Simplemente porque si tenemos datos decimales, separados por comas, no vamos a saber distinguir cuando una coma es de un decimal, o es el separador de columnas.\n",
    "\n",
    "**¿Cómo podemos leer un CSV en Python?** Con Pandas! [Aquí tienes la documentación](https://pandas.pydata.org/pandas-docs/stable/reference/api/pandas.read_csv.html)"
   ]
  },
  {
   "cell_type": "code",
   "execution_count": 15,
   "metadata": {},
   "outputs": [
    {
     "data": {
      "text/html": [
       "<div>\n",
       "<style scoped>\n",
       "    .dataframe tbody tr th:only-of-type {\n",
       "        vertical-align: middle;\n",
       "    }\n",
       "\n",
       "    .dataframe tbody tr th {\n",
       "        vertical-align: top;\n",
       "    }\n",
       "\n",
       "    .dataframe thead th {\n",
       "        text-align: right;\n",
       "    }\n",
       "</style>\n",
       "<table border=\"1\" class=\"dataframe\">\n",
       "  <thead>\n",
       "    <tr style=\"text-align: right;\">\n",
       "      <th></th>\n",
       "      <th>Unnamed: 0</th>\n",
       "      <th>season</th>\n",
       "      <th>division</th>\n",
       "      <th>round</th>\n",
       "      <th>localTeam</th>\n",
       "      <th>visitorTeam</th>\n",
       "      <th>localGoals</th>\n",
       "      <th>visitorGoals</th>\n",
       "      <th>date</th>\n",
       "      <th>timestamp</th>\n",
       "    </tr>\n",
       "  </thead>\n",
       "  <tbody>\n",
       "    <tr>\n",
       "      <th>0</th>\n",
       "      <td>26201</td>\n",
       "      <td>2005-06</td>\n",
       "      <td>1</td>\n",
       "      <td>1</td>\n",
       "      <td>Atletico de Bilbao</td>\n",
       "      <td>Real Sociedad</td>\n",
       "      <td>3</td>\n",
       "      <td>0</td>\n",
       "      <td>27/08/2005</td>\n",
       "      <td>1125093600</td>\n",
       "    </tr>\n",
       "    <tr>\n",
       "      <th>1</th>\n",
       "      <td>26202</td>\n",
       "      <td>2005-06</td>\n",
       "      <td>1</td>\n",
       "      <td>1</td>\n",
       "      <td>Alaves</td>\n",
       "      <td>Barcelona</td>\n",
       "      <td>0</td>\n",
       "      <td>0</td>\n",
       "      <td>27/08/2005</td>\n",
       "      <td>1125093600</td>\n",
       "    </tr>\n",
       "    <tr>\n",
       "      <th>2</th>\n",
       "      <td>26203</td>\n",
       "      <td>2005-06</td>\n",
       "      <td>1</td>\n",
       "      <td>1</td>\n",
       "      <td>Valencia</td>\n",
       "      <td>Betis</td>\n",
       "      <td>1</td>\n",
       "      <td>0</td>\n",
       "      <td>27/08/2005</td>\n",
       "      <td>1125093600</td>\n",
       "    </tr>\n",
       "    <tr>\n",
       "      <th>3</th>\n",
       "      <td>26204</td>\n",
       "      <td>2005-06</td>\n",
       "      <td>1</td>\n",
       "      <td>1</td>\n",
       "      <td>Atletico de Madrid</td>\n",
       "      <td>Zaragoza</td>\n",
       "      <td>0</td>\n",
       "      <td>0</td>\n",
       "      <td>28/08/2005</td>\n",
       "      <td>1125180000</td>\n",
       "    </tr>\n",
       "    <tr>\n",
       "      <th>4</th>\n",
       "      <td>26205</td>\n",
       "      <td>2005-06</td>\n",
       "      <td>1</td>\n",
       "      <td>1</td>\n",
       "      <td>Cadiz</td>\n",
       "      <td>Real Madrid</td>\n",
       "      <td>1</td>\n",
       "      <td>2</td>\n",
       "      <td>28/08/2005</td>\n",
       "      <td>1125180000</td>\n",
       "    </tr>\n",
       "  </tbody>\n",
       "</table>\n",
       "</div>"
      ],
      "text/plain": [
       "   Unnamed: 0   season  division  round           localTeam    visitorTeam  \\\n",
       "0       26201  2005-06         1      1  Atletico de Bilbao  Real Sociedad   \n",
       "1       26202  2005-06         1      1              Alaves      Barcelona   \n",
       "2       26203  2005-06         1      1            Valencia          Betis   \n",
       "3       26204  2005-06         1      1  Atletico de Madrid       Zaragoza   \n",
       "4       26205  2005-06         1      1               Cadiz    Real Madrid   \n",
       "\n",
       "   localGoals  visitorGoals        date   timestamp  \n",
       "0           3             0  27/08/2005  1125093600  \n",
       "1           0             0  27/08/2005  1125093600  \n",
       "2           1             0  27/08/2005  1125093600  \n",
       "3           0             0  28/08/2005  1125180000  \n",
       "4           1             2  28/08/2005  1125180000  "
      ]
     },
     "execution_count": 15,
     "metadata": {},
     "output_type": "execute_result"
    }
   ],
   "source": [
    "import pandas as pd\n",
    "import numpy as np\n",
    "\n",
    "df = pd.read_csv('data/laliga.csv')\n",
    "df.head()"
   ]
  },
  {
   "cell_type": "markdown",
   "metadata": {},
   "source": [
    "**Parámetros interesantes del `read_csv()`**\n",
    "1. `filepath_or_buffer`: ruta donde está el CSV\n",
    "2. `sep`: el separador de los datos, por defecto es coma, pero podría ser otro como veremos en ejemplos posteriores.\n",
    "3. `header`: dónde se encuentran los nombre de columnas. Por defecto es en la primera línea.\n",
    "\n",
    "Probemos a leer el CSV desde otra ruta del ordenador"
   ]
  },
  {
   "cell_type": "code",
   "execution_count": 16,
   "metadata": {
    "collapsed": true,
    "jupyter": {
     "outputs_hidden": true
    },
    "tags": []
   },
   "outputs": [
    {
     "data": {
      "text/html": [
       "<div>\n",
       "<style scoped>\n",
       "    .dataframe tbody tr th:only-of-type {\n",
       "        vertical-align: middle;\n",
       "    }\n",
       "\n",
       "    .dataframe tbody tr th {\n",
       "        vertical-align: top;\n",
       "    }\n",
       "\n",
       "    .dataframe thead th {\n",
       "        text-align: right;\n",
       "    }\n",
       "</style>\n",
       "<table border=\"1\" class=\"dataframe\">\n",
       "  <thead>\n",
       "    <tr style=\"text-align: right;\">\n",
       "      <th></th>\n",
       "      <th>Unnamed: 0</th>\n",
       "      <th>season</th>\n",
       "      <th>division</th>\n",
       "      <th>round</th>\n",
       "      <th>localTeam</th>\n",
       "      <th>visitorTeam</th>\n",
       "      <th>localGoals</th>\n",
       "      <th>visitorGoals</th>\n",
       "      <th>date</th>\n",
       "      <th>timestamp</th>\n",
       "    </tr>\n",
       "  </thead>\n",
       "  <tbody>\n",
       "    <tr>\n",
       "      <th>0</th>\n",
       "      <td>26201</td>\n",
       "      <td>2005-06</td>\n",
       "      <td>1</td>\n",
       "      <td>1</td>\n",
       "      <td>Atletico de Bilbao</td>\n",
       "      <td>Real Sociedad</td>\n",
       "      <td>3</td>\n",
       "      <td>0</td>\n",
       "      <td>27/08/2005</td>\n",
       "      <td>1125093600</td>\n",
       "    </tr>\n",
       "    <tr>\n",
       "      <th>1</th>\n",
       "      <td>26202</td>\n",
       "      <td>2005-06</td>\n",
       "      <td>1</td>\n",
       "      <td>1</td>\n",
       "      <td>Alaves</td>\n",
       "      <td>Barcelona</td>\n",
       "      <td>0</td>\n",
       "      <td>0</td>\n",
       "      <td>27/08/2005</td>\n",
       "      <td>1125093600</td>\n",
       "    </tr>\n",
       "    <tr>\n",
       "      <th>2</th>\n",
       "      <td>26203</td>\n",
       "      <td>2005-06</td>\n",
       "      <td>1</td>\n",
       "      <td>1</td>\n",
       "      <td>Valencia</td>\n",
       "      <td>Betis</td>\n",
       "      <td>1</td>\n",
       "      <td>0</td>\n",
       "      <td>27/08/2005</td>\n",
       "      <td>1125093600</td>\n",
       "    </tr>\n",
       "    <tr>\n",
       "      <th>3</th>\n",
       "      <td>26204</td>\n",
       "      <td>2005-06</td>\n",
       "      <td>1</td>\n",
       "      <td>1</td>\n",
       "      <td>Atletico de Madrid</td>\n",
       "      <td>Zaragoza</td>\n",
       "      <td>0</td>\n",
       "      <td>0</td>\n",
       "      <td>28/08/2005</td>\n",
       "      <td>1125180000</td>\n",
       "    </tr>\n",
       "    <tr>\n",
       "      <th>4</th>\n",
       "      <td>26205</td>\n",
       "      <td>2005-06</td>\n",
       "      <td>1</td>\n",
       "      <td>1</td>\n",
       "      <td>Cadiz</td>\n",
       "      <td>Real Madrid</td>\n",
       "      <td>1</td>\n",
       "      <td>2</td>\n",
       "      <td>28/08/2005</td>\n",
       "      <td>1125180000</td>\n",
       "    </tr>\n",
       "  </tbody>\n",
       "</table>\n",
       "</div>"
      ],
      "text/plain": [
       "   Unnamed: 0   season  division  round           localTeam    visitorTeam  \\\n",
       "0       26201  2005-06         1      1  Atletico de Bilbao  Real Sociedad   \n",
       "1       26202  2005-06         1      1              Alaves      Barcelona   \n",
       "2       26203  2005-06         1      1            Valencia          Betis   \n",
       "3       26204  2005-06         1      1  Atletico de Madrid       Zaragoza   \n",
       "4       26205  2005-06         1      1               Cadiz    Real Madrid   \n",
       "\n",
       "   localGoals  visitorGoals        date   timestamp  \n",
       "0           3             0  27/08/2005  1125093600  \n",
       "1           0             0  27/08/2005  1125093600  \n",
       "2           1             0  27/08/2005  1125093600  \n",
       "3           0             0  28/08/2005  1125180000  \n",
       "4           1             2  28/08/2005  1125180000  "
      ]
     },
     "execution_count": 16,
     "metadata": {},
     "output_type": "execute_result"
    }
   ],
   "source": [
    "tu_ruta = 'data/laliga.csv'\n",
    "df = pd.read_csv(tu_ruta)\n",
    "\n",
    "df.head()"
   ]
  },
  {
   "cell_type": "markdown",
   "metadata": {},
   "source": [
    "Una de las columnas, la podremos usar como index"
   ]
  },
  {
   "cell_type": "code",
   "execution_count": 17,
   "metadata": {},
   "outputs": [
    {
     "data": {
      "text/html": [
       "<div>\n",
       "<style scoped>\n",
       "    .dataframe tbody tr th:only-of-type {\n",
       "        vertical-align: middle;\n",
       "    }\n",
       "\n",
       "    .dataframe tbody tr th {\n",
       "        vertical-align: top;\n",
       "    }\n",
       "\n",
       "    .dataframe thead th {\n",
       "        text-align: right;\n",
       "    }\n",
       "</style>\n",
       "<table border=\"1\" class=\"dataframe\">\n",
       "  <thead>\n",
       "    <tr style=\"text-align: right;\">\n",
       "      <th></th>\n",
       "      <th>season</th>\n",
       "      <th>division</th>\n",
       "      <th>round</th>\n",
       "      <th>localTeam</th>\n",
       "      <th>visitorTeam</th>\n",
       "      <th>localGoals</th>\n",
       "      <th>visitorGoals</th>\n",
       "      <th>date</th>\n",
       "      <th>timestamp</th>\n",
       "    </tr>\n",
       "  </thead>\n",
       "  <tbody>\n",
       "    <tr>\n",
       "      <th>26201</th>\n",
       "      <td>2005-06</td>\n",
       "      <td>1</td>\n",
       "      <td>1</td>\n",
       "      <td>Atletico de Bilbao</td>\n",
       "      <td>Real Sociedad</td>\n",
       "      <td>3</td>\n",
       "      <td>0</td>\n",
       "      <td>27/08/2005</td>\n",
       "      <td>1125093600</td>\n",
       "    </tr>\n",
       "    <tr>\n",
       "      <th>26202</th>\n",
       "      <td>2005-06</td>\n",
       "      <td>1</td>\n",
       "      <td>1</td>\n",
       "      <td>Alaves</td>\n",
       "      <td>Barcelona</td>\n",
       "      <td>0</td>\n",
       "      <td>0</td>\n",
       "      <td>27/08/2005</td>\n",
       "      <td>1125093600</td>\n",
       "    </tr>\n",
       "    <tr>\n",
       "      <th>26203</th>\n",
       "      <td>2005-06</td>\n",
       "      <td>1</td>\n",
       "      <td>1</td>\n",
       "      <td>Valencia</td>\n",
       "      <td>Betis</td>\n",
       "      <td>1</td>\n",
       "      <td>0</td>\n",
       "      <td>27/08/2005</td>\n",
       "      <td>1125093600</td>\n",
       "    </tr>\n",
       "    <tr>\n",
       "      <th>26204</th>\n",
       "      <td>2005-06</td>\n",
       "      <td>1</td>\n",
       "      <td>1</td>\n",
       "      <td>Atletico de Madrid</td>\n",
       "      <td>Zaragoza</td>\n",
       "      <td>0</td>\n",
       "      <td>0</td>\n",
       "      <td>28/08/2005</td>\n",
       "      <td>1125180000</td>\n",
       "    </tr>\n",
       "    <tr>\n",
       "      <th>26205</th>\n",
       "      <td>2005-06</td>\n",
       "      <td>1</td>\n",
       "      <td>1</td>\n",
       "      <td>Cadiz</td>\n",
       "      <td>Real Madrid</td>\n",
       "      <td>1</td>\n",
       "      <td>2</td>\n",
       "      <td>28/08/2005</td>\n",
       "      <td>1125180000</td>\n",
       "    </tr>\n",
       "  </tbody>\n",
       "</table>\n",
       "</div>"
      ],
      "text/plain": [
       "        season  division  round           localTeam    visitorTeam  \\\n",
       "26201  2005-06         1      1  Atletico de Bilbao  Real Sociedad   \n",
       "26202  2005-06         1      1              Alaves      Barcelona   \n",
       "26203  2005-06         1      1            Valencia          Betis   \n",
       "26204  2005-06         1      1  Atletico de Madrid       Zaragoza   \n",
       "26205  2005-06         1      1               Cadiz    Real Madrid   \n",
       "\n",
       "       localGoals  visitorGoals        date   timestamp  \n",
       "26201           3             0  27/08/2005  1125093600  \n",
       "26202           0             0  27/08/2005  1125093600  \n",
       "26203           1             0  27/08/2005  1125093600  \n",
       "26204           0             0  28/08/2005  1125180000  \n",
       "26205           1             2  28/08/2005  1125180000  "
      ]
     },
     "execution_count": 17,
     "metadata": {},
     "output_type": "execute_result"
    }
   ],
   "source": [
    "df = pd.read_csv('data/laliga.csv', index_col = \"Unnamed: 0\")\n",
    "df.head()"
   ]
  },
  {
   "cell_type": "markdown",
   "metadata": {},
   "source": [
    "Si queremos pasar el índice a una nueva columna, simplemente creamos una columna nueva"
   ]
  },
  {
   "cell_type": "code",
   "execution_count": 18,
   "metadata": {},
   "outputs": [],
   "source": [
    "df['nueva columna'] = df.index\n",
    "df.reset_index(inplace=True, drop=True)"
   ]
  },
  {
   "cell_type": "code",
   "execution_count": 19,
   "metadata": {},
   "outputs": [
    {
     "data": {
      "text/html": [
       "<div>\n",
       "<style scoped>\n",
       "    .dataframe tbody tr th:only-of-type {\n",
       "        vertical-align: middle;\n",
       "    }\n",
       "\n",
       "    .dataframe tbody tr th {\n",
       "        vertical-align: top;\n",
       "    }\n",
       "\n",
       "    .dataframe thead th {\n",
       "        text-align: right;\n",
       "    }\n",
       "</style>\n",
       "<table border=\"1\" class=\"dataframe\">\n",
       "  <thead>\n",
       "    <tr style=\"text-align: right;\">\n",
       "      <th></th>\n",
       "      <th>season</th>\n",
       "      <th>division</th>\n",
       "      <th>round</th>\n",
       "      <th>localTeam</th>\n",
       "      <th>visitorTeam</th>\n",
       "      <th>localGoals</th>\n",
       "      <th>visitorGoals</th>\n",
       "      <th>date</th>\n",
       "      <th>timestamp</th>\n",
       "      <th>nueva columna</th>\n",
       "    </tr>\n",
       "  </thead>\n",
       "  <tbody>\n",
       "    <tr>\n",
       "      <th>0</th>\n",
       "      <td>2005-06</td>\n",
       "      <td>1</td>\n",
       "      <td>1</td>\n",
       "      <td>Atletico de Bilbao</td>\n",
       "      <td>Real Sociedad</td>\n",
       "      <td>3</td>\n",
       "      <td>0</td>\n",
       "      <td>27/08/2005</td>\n",
       "      <td>1125093600</td>\n",
       "      <td>26201</td>\n",
       "    </tr>\n",
       "    <tr>\n",
       "      <th>1</th>\n",
       "      <td>2005-06</td>\n",
       "      <td>1</td>\n",
       "      <td>1</td>\n",
       "      <td>Alaves</td>\n",
       "      <td>Barcelona</td>\n",
       "      <td>0</td>\n",
       "      <td>0</td>\n",
       "      <td>27/08/2005</td>\n",
       "      <td>1125093600</td>\n",
       "      <td>26202</td>\n",
       "    </tr>\n",
       "    <tr>\n",
       "      <th>2</th>\n",
       "      <td>2005-06</td>\n",
       "      <td>1</td>\n",
       "      <td>1</td>\n",
       "      <td>Valencia</td>\n",
       "      <td>Betis</td>\n",
       "      <td>1</td>\n",
       "      <td>0</td>\n",
       "      <td>27/08/2005</td>\n",
       "      <td>1125093600</td>\n",
       "      <td>26203</td>\n",
       "    </tr>\n",
       "    <tr>\n",
       "      <th>3</th>\n",
       "      <td>2005-06</td>\n",
       "      <td>1</td>\n",
       "      <td>1</td>\n",
       "      <td>Atletico de Madrid</td>\n",
       "      <td>Zaragoza</td>\n",
       "      <td>0</td>\n",
       "      <td>0</td>\n",
       "      <td>28/08/2005</td>\n",
       "      <td>1125180000</td>\n",
       "      <td>26204</td>\n",
       "    </tr>\n",
       "    <tr>\n",
       "      <th>4</th>\n",
       "      <td>2005-06</td>\n",
       "      <td>1</td>\n",
       "      <td>1</td>\n",
       "      <td>Cadiz</td>\n",
       "      <td>Real Madrid</td>\n",
       "      <td>1</td>\n",
       "      <td>2</td>\n",
       "      <td>28/08/2005</td>\n",
       "      <td>1125180000</td>\n",
       "      <td>26205</td>\n",
       "    </tr>\n",
       "  </tbody>\n",
       "</table>\n",
       "</div>"
      ],
      "text/plain": [
       "    season  division  round           localTeam    visitorTeam  localGoals  \\\n",
       "0  2005-06         1      1  Atletico de Bilbao  Real Sociedad           3   \n",
       "1  2005-06         1      1              Alaves      Barcelona           0   \n",
       "2  2005-06         1      1            Valencia          Betis           1   \n",
       "3  2005-06         1      1  Atletico de Madrid       Zaragoza           0   \n",
       "4  2005-06         1      1               Cadiz    Real Madrid           1   \n",
       "\n",
       "   visitorGoals        date   timestamp  nueva columna  \n",
       "0             0  27/08/2005  1125093600          26201  \n",
       "1             0  27/08/2005  1125093600          26202  \n",
       "2             0  27/08/2005  1125093600          26203  \n",
       "3             0  28/08/2005  1125180000          26204  \n",
       "4             2  28/08/2005  1125180000          26205  "
      ]
     },
     "execution_count": 19,
     "metadata": {},
     "output_type": "execute_result"
    }
   ],
   "source": [
    "df.head()"
   ]
  },
  {
   "cell_type": "markdown",
   "metadata": {},
   "source": [
    "Podemos resetear también el índice, y poner ahi un numérico que vaya desde el 0 al número de filas."
   ]
  },
  {
   "cell_type": "code",
   "execution_count": 20,
   "metadata": {
    "collapsed": true,
    "jupyter": {
     "outputs_hidden": true
    },
    "tags": []
   },
   "outputs": [
    {
     "data": {
      "text/html": [
       "<div>\n",
       "<style scoped>\n",
       "    .dataframe tbody tr th:only-of-type {\n",
       "        vertical-align: middle;\n",
       "    }\n",
       "\n",
       "    .dataframe tbody tr th {\n",
       "        vertical-align: top;\n",
       "    }\n",
       "\n",
       "    .dataframe thead th {\n",
       "        text-align: right;\n",
       "    }\n",
       "</style>\n",
       "<table border=\"1\" class=\"dataframe\">\n",
       "  <thead>\n",
       "    <tr style=\"text-align: right;\">\n",
       "      <th></th>\n",
       "      <th>season</th>\n",
       "      <th>division</th>\n",
       "      <th>round</th>\n",
       "      <th>localTeam</th>\n",
       "      <th>visitorTeam</th>\n",
       "      <th>localGoals</th>\n",
       "      <th>visitorGoals</th>\n",
       "      <th>date</th>\n",
       "      <th>timestamp</th>\n",
       "      <th>nueva columna</th>\n",
       "    </tr>\n",
       "  </thead>\n",
       "  <tbody>\n",
       "    <tr>\n",
       "      <th>0</th>\n",
       "      <td>2005-06</td>\n",
       "      <td>1</td>\n",
       "      <td>1</td>\n",
       "      <td>Atletico de Bilbao</td>\n",
       "      <td>Real Sociedad</td>\n",
       "      <td>3</td>\n",
       "      <td>0</td>\n",
       "      <td>27/08/2005</td>\n",
       "      <td>1125093600</td>\n",
       "      <td>26201</td>\n",
       "    </tr>\n",
       "    <tr>\n",
       "      <th>1</th>\n",
       "      <td>2005-06</td>\n",
       "      <td>1</td>\n",
       "      <td>1</td>\n",
       "      <td>Alaves</td>\n",
       "      <td>Barcelona</td>\n",
       "      <td>0</td>\n",
       "      <td>0</td>\n",
       "      <td>27/08/2005</td>\n",
       "      <td>1125093600</td>\n",
       "      <td>26202</td>\n",
       "    </tr>\n",
       "    <tr>\n",
       "      <th>2</th>\n",
       "      <td>2005-06</td>\n",
       "      <td>1</td>\n",
       "      <td>1</td>\n",
       "      <td>Valencia</td>\n",
       "      <td>Betis</td>\n",
       "      <td>1</td>\n",
       "      <td>0</td>\n",
       "      <td>27/08/2005</td>\n",
       "      <td>1125093600</td>\n",
       "      <td>26203</td>\n",
       "    </tr>\n",
       "    <tr>\n",
       "      <th>3</th>\n",
       "      <td>2005-06</td>\n",
       "      <td>1</td>\n",
       "      <td>1</td>\n",
       "      <td>Atletico de Madrid</td>\n",
       "      <td>Zaragoza</td>\n",
       "      <td>0</td>\n",
       "      <td>0</td>\n",
       "      <td>28/08/2005</td>\n",
       "      <td>1125180000</td>\n",
       "      <td>26204</td>\n",
       "    </tr>\n",
       "    <tr>\n",
       "      <th>4</th>\n",
       "      <td>2005-06</td>\n",
       "      <td>1</td>\n",
       "      <td>1</td>\n",
       "      <td>Cadiz</td>\n",
       "      <td>Real Madrid</td>\n",
       "      <td>1</td>\n",
       "      <td>2</td>\n",
       "      <td>28/08/2005</td>\n",
       "      <td>1125180000</td>\n",
       "      <td>26205</td>\n",
       "    </tr>\n",
       "    <tr>\n",
       "      <th>...</th>\n",
       "      <td>...</td>\n",
       "      <td>...</td>\n",
       "      <td>...</td>\n",
       "      <td>...</td>\n",
       "      <td>...</td>\n",
       "      <td>...</td>\n",
       "      <td>...</td>\n",
       "      <td>...</td>\n",
       "      <td>...</td>\n",
       "      <td>...</td>\n",
       "    </tr>\n",
       "    <tr>\n",
       "      <th>4935</th>\n",
       "      <td>2017-18</td>\n",
       "      <td>1</td>\n",
       "      <td>38</td>\n",
       "      <td>Villarreal</td>\n",
       "      <td>Real Madrid</td>\n",
       "      <td>2</td>\n",
       "      <td>2</td>\n",
       "      <td>19/05/2018</td>\n",
       "      <td>1526680800</td>\n",
       "      <td>36680</td>\n",
       "    </tr>\n",
       "    <tr>\n",
       "      <th>4936</th>\n",
       "      <td>2017-18</td>\n",
       "      <td>1</td>\n",
       "      <td>38</td>\n",
       "      <td>Atletico de Bilbao</td>\n",
       "      <td>Espanol</td>\n",
       "      <td>0</td>\n",
       "      <td>1</td>\n",
       "      <td>20/05/2018</td>\n",
       "      <td>1526767200</td>\n",
       "      <td>36681</td>\n",
       "    </tr>\n",
       "    <tr>\n",
       "      <th>4937</th>\n",
       "      <td>2017-18</td>\n",
       "      <td>1</td>\n",
       "      <td>38</td>\n",
       "      <td>Barcelona</td>\n",
       "      <td>Real Sociedad</td>\n",
       "      <td>1</td>\n",
       "      <td>0</td>\n",
       "      <td>20/05/2018</td>\n",
       "      <td>1526767200</td>\n",
       "      <td>36682</td>\n",
       "    </tr>\n",
       "    <tr>\n",
       "      <th>4938</th>\n",
       "      <td>2017-18</td>\n",
       "      <td>1</td>\n",
       "      <td>38</td>\n",
       "      <td>Valencia</td>\n",
       "      <td>Deportivo</td>\n",
       "      <td>2</td>\n",
       "      <td>1</td>\n",
       "      <td>20/05/2018</td>\n",
       "      <td>1526767200</td>\n",
       "      <td>36683</td>\n",
       "    </tr>\n",
       "    <tr>\n",
       "      <th>4939</th>\n",
       "      <td>2017-18</td>\n",
       "      <td>1</td>\n",
       "      <td>38</td>\n",
       "      <td>Atletico de Madrid</td>\n",
       "      <td>Eibar</td>\n",
       "      <td>2</td>\n",
       "      <td>2</td>\n",
       "      <td>20/05/2018</td>\n",
       "      <td>1526767200</td>\n",
       "      <td>36684</td>\n",
       "    </tr>\n",
       "  </tbody>\n",
       "</table>\n",
       "<p>4940 rows × 10 columns</p>\n",
       "</div>"
      ],
      "text/plain": [
       "       season  division  round           localTeam    visitorTeam  localGoals  \\\n",
       "0     2005-06         1      1  Atletico de Bilbao  Real Sociedad           3   \n",
       "1     2005-06         1      1              Alaves      Barcelona           0   \n",
       "2     2005-06         1      1            Valencia          Betis           1   \n",
       "3     2005-06         1      1  Atletico de Madrid       Zaragoza           0   \n",
       "4     2005-06         1      1               Cadiz    Real Madrid           1   \n",
       "...       ...       ...    ...                 ...            ...         ...   \n",
       "4935  2017-18         1     38          Villarreal    Real Madrid           2   \n",
       "4936  2017-18         1     38  Atletico de Bilbao        Espanol           0   \n",
       "4937  2017-18         1     38           Barcelona  Real Sociedad           1   \n",
       "4938  2017-18         1     38            Valencia      Deportivo           2   \n",
       "4939  2017-18         1     38  Atletico de Madrid          Eibar           2   \n",
       "\n",
       "      visitorGoals        date   timestamp  nueva columna  \n",
       "0                0  27/08/2005  1125093600          26201  \n",
       "1                0  27/08/2005  1125093600          26202  \n",
       "2                0  27/08/2005  1125093600          26203  \n",
       "3                0  28/08/2005  1125180000          26204  \n",
       "4                2  28/08/2005  1125180000          26205  \n",
       "...            ...         ...         ...            ...  \n",
       "4935             2  19/05/2018  1526680800          36680  \n",
       "4936             1  20/05/2018  1526767200          36681  \n",
       "4937             0  20/05/2018  1526767200          36682  \n",
       "4938             1  20/05/2018  1526767200          36683  \n",
       "4939             2  20/05/2018  1526767200          36684  \n",
       "\n",
       "[4940 rows x 10 columns]"
      ]
     },
     "execution_count": 20,
     "metadata": {},
     "output_type": "execute_result"
    }
   ],
   "source": [
    "# Resetear el index. Drop=True para que no lo conserve\n",
    "df.reset_index(drop=True)"
   ]
  },
  {
   "cell_type": "code",
   "execution_count": 21,
   "metadata": {
    "collapsed": true,
    "jupyter": {
     "outputs_hidden": true
    },
    "tags": []
   },
   "outputs": [
    {
     "data": {
      "text/html": [
       "<div>\n",
       "<style scoped>\n",
       "    .dataframe tbody tr th:only-of-type {\n",
       "        vertical-align: middle;\n",
       "    }\n",
       "\n",
       "    .dataframe tbody tr th {\n",
       "        vertical-align: top;\n",
       "    }\n",
       "\n",
       "    .dataframe thead th {\n",
       "        text-align: right;\n",
       "    }\n",
       "</style>\n",
       "<table border=\"1\" class=\"dataframe\">\n",
       "  <thead>\n",
       "    <tr style=\"text-align: right;\">\n",
       "      <th></th>\n",
       "      <th>season</th>\n",
       "      <th>division</th>\n",
       "      <th>round</th>\n",
       "      <th>localTeam</th>\n",
       "      <th>visitorTeam</th>\n",
       "      <th>localGoals</th>\n",
       "      <th>visitorGoals</th>\n",
       "      <th>date</th>\n",
       "      <th>timestamp</th>\n",
       "      <th>nueva columna</th>\n",
       "    </tr>\n",
       "  </thead>\n",
       "  <tbody>\n",
       "    <tr>\n",
       "      <th>1</th>\n",
       "      <td>2005-06</td>\n",
       "      <td>1</td>\n",
       "      <td>1</td>\n",
       "      <td>Atletico de Bilbao</td>\n",
       "      <td>Real Sociedad</td>\n",
       "      <td>3</td>\n",
       "      <td>0</td>\n",
       "      <td>27/08/2005</td>\n",
       "      <td>1125093600</td>\n",
       "      <td>26201</td>\n",
       "    </tr>\n",
       "    <tr>\n",
       "      <th>2</th>\n",
       "      <td>2005-06</td>\n",
       "      <td>1</td>\n",
       "      <td>1</td>\n",
       "      <td>Alaves</td>\n",
       "      <td>Barcelona</td>\n",
       "      <td>0</td>\n",
       "      <td>0</td>\n",
       "      <td>27/08/2005</td>\n",
       "      <td>1125093600</td>\n",
       "      <td>26202</td>\n",
       "    </tr>\n",
       "    <tr>\n",
       "      <th>3</th>\n",
       "      <td>2005-06</td>\n",
       "      <td>1</td>\n",
       "      <td>1</td>\n",
       "      <td>Valencia</td>\n",
       "      <td>Betis</td>\n",
       "      <td>1</td>\n",
       "      <td>0</td>\n",
       "      <td>27/08/2005</td>\n",
       "      <td>1125093600</td>\n",
       "      <td>26203</td>\n",
       "    </tr>\n",
       "    <tr>\n",
       "      <th>4</th>\n",
       "      <td>2005-06</td>\n",
       "      <td>1</td>\n",
       "      <td>1</td>\n",
       "      <td>Atletico de Madrid</td>\n",
       "      <td>Zaragoza</td>\n",
       "      <td>0</td>\n",
       "      <td>0</td>\n",
       "      <td>28/08/2005</td>\n",
       "      <td>1125180000</td>\n",
       "      <td>26204</td>\n",
       "    </tr>\n",
       "    <tr>\n",
       "      <th>5</th>\n",
       "      <td>2005-06</td>\n",
       "      <td>1</td>\n",
       "      <td>1</td>\n",
       "      <td>Cadiz</td>\n",
       "      <td>Real Madrid</td>\n",
       "      <td>1</td>\n",
       "      <td>2</td>\n",
       "      <td>28/08/2005</td>\n",
       "      <td>1125180000</td>\n",
       "      <td>26205</td>\n",
       "    </tr>\n",
       "  </tbody>\n",
       "</table>\n",
       "</div>"
      ],
      "text/plain": [
       "    season  division  round           localTeam    visitorTeam  localGoals  \\\n",
       "1  2005-06         1      1  Atletico de Bilbao  Real Sociedad           3   \n",
       "2  2005-06         1      1              Alaves      Barcelona           0   \n",
       "3  2005-06         1      1            Valencia          Betis           1   \n",
       "4  2005-06         1      1  Atletico de Madrid       Zaragoza           0   \n",
       "5  2005-06         1      1               Cadiz    Real Madrid           1   \n",
       "\n",
       "   visitorGoals        date   timestamp  nueva columna  \n",
       "1             0  27/08/2005  1125093600          26201  \n",
       "2             0  27/08/2005  1125093600          26202  \n",
       "3             0  27/08/2005  1125093600          26203  \n",
       "4             0  28/08/2005  1125180000          26204  \n",
       "5             2  28/08/2005  1125180000          26205  "
      ]
     },
     "execution_count": 21,
     "metadata": {},
     "output_type": "execute_result"
    }
   ],
   "source": [
    "# Para cambiar el indice\n",
    "df.index = range(1, df.shape[0] + 1)\n",
    "df.head()"
   ]
  },
  {
   "cell_type": "code",
   "execution_count": 22,
   "metadata": {},
   "outputs": [
    {
     "name": "stdout",
     "output_type": "stream",
     "text": [
      "(4940, 10)\n",
      "4940\n",
      "10\n",
      "4940\n"
     ]
    }
   ],
   "source": [
    "# Dimensiones\n",
    "print(df.shape) # Ambas\n",
    "print(df.shape[0]) # Filas\n",
    "print(df.shape[1]) # columnas\n",
    "print(len(df)) # Filas tambien"
   ]
  },
  {
   "cell_type": "code",
   "execution_count": 23,
   "metadata": {},
   "outputs": [
    {
     "data": {
      "text/html": [
       "<div>\n",
       "<style scoped>\n",
       "    .dataframe tbody tr th:only-of-type {\n",
       "        vertical-align: middle;\n",
       "    }\n",
       "\n",
       "    .dataframe tbody tr th {\n",
       "        vertical-align: top;\n",
       "    }\n",
       "\n",
       "    .dataframe thead th {\n",
       "        text-align: right;\n",
       "    }\n",
       "</style>\n",
       "<table border=\"1\" class=\"dataframe\">\n",
       "  <thead>\n",
       "    <tr style=\"text-align: right;\">\n",
       "      <th></th>\n",
       "      <th>season</th>\n",
       "      <th>division</th>\n",
       "      <th>round</th>\n",
       "      <th>localTeam</th>\n",
       "      <th>visitorTeam</th>\n",
       "      <th>localGoals</th>\n",
       "      <th>visitorGoals</th>\n",
       "      <th>date</th>\n",
       "      <th>timestamp</th>\n",
       "      <th>nueva columna</th>\n",
       "    </tr>\n",
       "  </thead>\n",
       "  <tbody>\n",
       "    <tr>\n",
       "      <th>1</th>\n",
       "      <td>2005-06</td>\n",
       "      <td>1</td>\n",
       "      <td>1</td>\n",
       "      <td>Atletico de Bilbao</td>\n",
       "      <td>Real Sociedad</td>\n",
       "      <td>3</td>\n",
       "      <td>0</td>\n",
       "      <td>27/08/2005</td>\n",
       "      <td>1125093600</td>\n",
       "      <td>26201</td>\n",
       "    </tr>\n",
       "    <tr>\n",
       "      <th>2</th>\n",
       "      <td>2005-06</td>\n",
       "      <td>1</td>\n",
       "      <td>1</td>\n",
       "      <td>Alaves</td>\n",
       "      <td>Barcelona</td>\n",
       "      <td>0</td>\n",
       "      <td>0</td>\n",
       "      <td>27/08/2005</td>\n",
       "      <td>1125093600</td>\n",
       "      <td>26202</td>\n",
       "    </tr>\n",
       "  </tbody>\n",
       "</table>\n",
       "</div>"
      ],
      "text/plain": [
       "    season  division  round           localTeam    visitorTeam  localGoals  \\\n",
       "1  2005-06         1      1  Atletico de Bilbao  Real Sociedad           3   \n",
       "2  2005-06         1      1              Alaves      Barcelona           0   \n",
       "\n",
       "   visitorGoals        date   timestamp  nueva columna  \n",
       "1             0  27/08/2005  1125093600          26201  \n",
       "2             0  27/08/2005  1125093600          26202  "
      ]
     },
     "execution_count": 23,
     "metadata": {},
     "output_type": "execute_result"
    }
   ],
   "source": [
    "df.head(2)"
   ]
  },
  {
   "cell_type": "markdown",
   "metadata": {},
   "source": [
    "También es posible aplicarle nombres de columnas en la lectura de los datos"
   ]
  },
  {
   "cell_type": "code",
   "execution_count": 24,
   "metadata": {},
   "outputs": [
    {
     "data": {
      "text/plain": [
       "Index(['season', 'division', 'round', 'localTeam', 'visitorTeam', 'localGoals',\n",
       "       'visitorGoals', 'date', 'timestamp', 'nueva columna'],\n",
       "      dtype='object')"
      ]
     },
     "execution_count": 24,
     "metadata": {},
     "output_type": "execute_result"
    }
   ],
   "source": [
    "df.columns"
   ]
  },
  {
   "cell_type": "code",
   "execution_count": 25,
   "metadata": {
    "collapsed": true,
    "jupyter": {
     "outputs_hidden": true
    },
    "tags": []
   },
   "outputs": [
    {
     "data": {
      "text/html": [
       "<div>\n",
       "<style scoped>\n",
       "    .dataframe tbody tr th:only-of-type {\n",
       "        vertical-align: middle;\n",
       "    }\n",
       "\n",
       "    .dataframe tbody tr th {\n",
       "        vertical-align: top;\n",
       "    }\n",
       "\n",
       "    .dataframe thead th {\n",
       "        text-align: right;\n",
       "    }\n",
       "</style>\n",
       "<table border=\"1\" class=\"dataframe\">\n",
       "  <thead>\n",
       "    <tr style=\"text-align: right;\">\n",
       "      <th></th>\n",
       "      <th>Indice</th>\n",
       "      <th>Temporada</th>\n",
       "      <th>Division</th>\n",
       "      <th>Jornada</th>\n",
       "      <th>Equipo local</th>\n",
       "      <th>Equipo visitante</th>\n",
       "      <th>Goles local</th>\n",
       "      <th>Goles visitante</th>\n",
       "      <th>fecha</th>\n",
       "      <th>timestamp</th>\n",
       "    </tr>\n",
       "  </thead>\n",
       "  <tbody>\n",
       "    <tr>\n",
       "      <th>0</th>\n",
       "      <td>26201</td>\n",
       "      <td>2005-06</td>\n",
       "      <td>1</td>\n",
       "      <td>1</td>\n",
       "      <td>Atletico de Bilbao</td>\n",
       "      <td>Real Sociedad</td>\n",
       "      <td>3</td>\n",
       "      <td>0</td>\n",
       "      <td>27/08/2005</td>\n",
       "      <td>1125093600</td>\n",
       "    </tr>\n",
       "    <tr>\n",
       "      <th>1</th>\n",
       "      <td>26202</td>\n",
       "      <td>2005-06</td>\n",
       "      <td>1</td>\n",
       "      <td>1</td>\n",
       "      <td>Alaves</td>\n",
       "      <td>Barcelona</td>\n",
       "      <td>0</td>\n",
       "      <td>0</td>\n",
       "      <td>27/08/2005</td>\n",
       "      <td>1125093600</td>\n",
       "    </tr>\n",
       "    <tr>\n",
       "      <th>2</th>\n",
       "      <td>26203</td>\n",
       "      <td>2005-06</td>\n",
       "      <td>1</td>\n",
       "      <td>1</td>\n",
       "      <td>Valencia</td>\n",
       "      <td>Betis</td>\n",
       "      <td>1</td>\n",
       "      <td>0</td>\n",
       "      <td>27/08/2005</td>\n",
       "      <td>1125093600</td>\n",
       "    </tr>\n",
       "    <tr>\n",
       "      <th>3</th>\n",
       "      <td>26204</td>\n",
       "      <td>2005-06</td>\n",
       "      <td>1</td>\n",
       "      <td>1</td>\n",
       "      <td>Atletico de Madrid</td>\n",
       "      <td>Zaragoza</td>\n",
       "      <td>0</td>\n",
       "      <td>0</td>\n",
       "      <td>28/08/2005</td>\n",
       "      <td>1125180000</td>\n",
       "    </tr>\n",
       "    <tr>\n",
       "      <th>4</th>\n",
       "      <td>26205</td>\n",
       "      <td>2005-06</td>\n",
       "      <td>1</td>\n",
       "      <td>1</td>\n",
       "      <td>Cadiz</td>\n",
       "      <td>Real Madrid</td>\n",
       "      <td>1</td>\n",
       "      <td>2</td>\n",
       "      <td>28/08/2005</td>\n",
       "      <td>1125180000</td>\n",
       "    </tr>\n",
       "  </tbody>\n",
       "</table>\n",
       "</div>"
      ],
      "text/plain": [
       "   Indice Temporada  Division  Jornada        Equipo local Equipo visitante  \\\n",
       "0   26201   2005-06         1        1  Atletico de Bilbao    Real Sociedad   \n",
       "1   26202   2005-06         1        1              Alaves        Barcelona   \n",
       "2   26203   2005-06         1        1            Valencia            Betis   \n",
       "3   26204   2005-06         1        1  Atletico de Madrid         Zaragoza   \n",
       "4   26205   2005-06         1        1               Cadiz      Real Madrid   \n",
       "\n",
       "   Goles local  Goles visitante       fecha   timestamp  \n",
       "0            3                0  27/08/2005  1125093600  \n",
       "1            0                0  27/08/2005  1125093600  \n",
       "2            1                0  27/08/2005  1125093600  \n",
       "3            0                0  28/08/2005  1125180000  \n",
       "4            1                2  28/08/2005  1125180000  "
      ]
     },
     "execution_count": 25,
     "metadata": {},
     "output_type": "execute_result"
    }
   ],
   "source": [
    "df = pd.read_csv('data/laliga.csv',\n",
    "                 names = ['Indice', 'Temporada', 'Division', 'Jornada',\n",
    "                          'Equipo local', 'Equipo visitante', 'Goles local',\n",
    "                          'Goles visitante', 'fecha', 'timestamp'],\n",
    "                header = 0)\n",
    "df.head()"
   ]
  },
  {
   "cell_type": "markdown",
   "metadata": {},
   "source": [
    "Si queremos cambiar los tipos de los datos, en la propia lectura"
   ]
  },
  {
   "cell_type": "code",
   "execution_count": 26,
   "metadata": {
    "collapsed": true,
    "jupyter": {
     "outputs_hidden": true
    },
    "tags": []
   },
   "outputs": [
    {
     "data": {
      "text/plain": [
       "Indice               int64\n",
       "Temporada           object\n",
       "Division             int64\n",
       "Jornada              int64\n",
       "Equipo local        object\n",
       "Equipo visitante    object\n",
       "Goles local          int64\n",
       "Goles visitante      int64\n",
       "fecha               object\n",
       "timestamp            int64\n",
       "dtype: object"
      ]
     },
     "execution_count": 26,
     "metadata": {},
     "output_type": "execute_result"
    }
   ],
   "source": [
    "df.dtypes"
   ]
  },
  {
   "cell_type": "code",
   "execution_count": 27,
   "metadata": {},
   "outputs": [
    {
     "data": {
      "text/html": [
       "<div>\n",
       "<style scoped>\n",
       "    .dataframe tbody tr th:only-of-type {\n",
       "        vertical-align: middle;\n",
       "    }\n",
       "\n",
       "    .dataframe tbody tr th {\n",
       "        vertical-align: top;\n",
       "    }\n",
       "\n",
       "    .dataframe thead th {\n",
       "        text-align: right;\n",
       "    }\n",
       "</style>\n",
       "<table border=\"1\" class=\"dataframe\">\n",
       "  <thead>\n",
       "    <tr style=\"text-align: right;\">\n",
       "      <th></th>\n",
       "      <th>Unnamed: 0</th>\n",
       "      <th>division</th>\n",
       "      <th>localTeam</th>\n",
       "    </tr>\n",
       "  </thead>\n",
       "  <tbody>\n",
       "    <tr>\n",
       "      <th>0</th>\n",
       "      <td>26201</td>\n",
       "      <td>1</td>\n",
       "      <td>Atletico de Bilbao</td>\n",
       "    </tr>\n",
       "    <tr>\n",
       "      <th>1</th>\n",
       "      <td>26202</td>\n",
       "      <td>1</td>\n",
       "      <td>Alaves</td>\n",
       "    </tr>\n",
       "    <tr>\n",
       "      <th>2</th>\n",
       "      <td>26203</td>\n",
       "      <td>1</td>\n",
       "      <td>Valencia</td>\n",
       "    </tr>\n",
       "    <tr>\n",
       "      <th>3</th>\n",
       "      <td>26204</td>\n",
       "      <td>1</td>\n",
       "      <td>Atletico de Madrid</td>\n",
       "    </tr>\n",
       "    <tr>\n",
       "      <th>4</th>\n",
       "      <td>26205</td>\n",
       "      <td>1</td>\n",
       "      <td>Cadiz</td>\n",
       "    </tr>\n",
       "  </tbody>\n",
       "</table>\n",
       "</div>"
      ],
      "text/plain": [
       "  Unnamed: 0  division           localTeam\n",
       "0      26201         1  Atletico de Bilbao\n",
       "1      26202         1              Alaves\n",
       "2      26203         1            Valencia\n",
       "3      26204         1  Atletico de Madrid\n",
       "4      26205         1               Cadiz"
      ]
     },
     "execution_count": 27,
     "metadata": {},
     "output_type": "execute_result"
    }
   ],
   "source": [
    "df = pd.read_csv(\"data/laliga.csv\",\n",
    "                usecols = ['Unnamed: 0', 'division', 'localTeam'],\n",
    "                dtype = {'Unnamed: 0': object,\n",
    "                         'division': np.int64,\n",
    "                         'localTeam': object})\n",
    "# usecols me trae las columnas que he especificado\n",
    "\n",
    "df.head()"
   ]
  },
  {
   "cell_type": "code",
   "execution_count": 28,
   "metadata": {},
   "outputs": [
    {
     "data": {
      "text/plain": [
       "Unnamed: 0    object\n",
       "division       int64\n",
       "localTeam     object\n",
       "dtype: object"
      ]
     },
     "execution_count": 28,
     "metadata": {},
     "output_type": "execute_result"
    }
   ],
   "source": [
    "df.dtypes"
   ]
  },
  {
   "cell_type": "markdown",
   "metadata": {},
   "source": [
    "**¿Cómo leer un archivo CSV que no esté separado por comas?**\n",
    "Probemos a leer un archivo CSV, que no tiene comas como delimitador"
   ]
  },
  {
   "cell_type": "code",
   "execution_count": 29,
   "metadata": {},
   "outputs": [
    {
     "data": {
      "text/html": [
       "<div>\n",
       "<style scoped>\n",
       "    .dataframe tbody tr th:only-of-type {\n",
       "        vertical-align: middle;\n",
       "    }\n",
       "\n",
       "    .dataframe tbody tr th {\n",
       "        vertical-align: top;\n",
       "    }\n",
       "\n",
       "    .dataframe thead th {\n",
       "        text-align: right;\n",
       "    }\n",
       "</style>\n",
       "<table border=\"1\" class=\"dataframe\">\n",
       "  <thead>\n",
       "    <tr style=\"text-align: right;\">\n",
       "      <th></th>\n",
       "      <th>Unnamed: 0;season;division;round;localTeam;visitorTeam;localGoals;visitorGoals;date;timestamp</th>\n",
       "    </tr>\n",
       "  </thead>\n",
       "  <tbody>\n",
       "    <tr>\n",
       "      <th>0</th>\n",
       "      <td>26201;2005-06;1;1;Atletico de Bilbao;Real Soci...</td>\n",
       "    </tr>\n",
       "    <tr>\n",
       "      <th>1</th>\n",
       "      <td>26202;2005-06;1;1;Alaves;Barcelona;0;0;27/08/2...</td>\n",
       "    </tr>\n",
       "    <tr>\n",
       "      <th>2</th>\n",
       "      <td>26203;2005-06;1;1;Valencia;Betis;1;0;27/08/200...</td>\n",
       "    </tr>\n",
       "    <tr>\n",
       "      <th>3</th>\n",
       "      <td>26204;2005-06;1;1;Atletico de Madrid;Zaragoza;...</td>\n",
       "    </tr>\n",
       "    <tr>\n",
       "      <th>4</th>\n",
       "      <td>26205;2005-06;1;1;Cadiz;Real Madrid;1;2;28/08/...</td>\n",
       "    </tr>\n",
       "  </tbody>\n",
       "</table>\n",
       "</div>"
      ],
      "text/plain": [
       "  Unnamed: 0;season;division;round;localTeam;visitorTeam;localGoals;visitorGoals;date;timestamp\n",
       "0  26201;2005-06;1;1;Atletico de Bilbao;Real Soci...                                           \n",
       "1  26202;2005-06;1;1;Alaves;Barcelona;0;0;27/08/2...                                           \n",
       "2  26203;2005-06;1;1;Valencia;Betis;1;0;27/08/200...                                           \n",
       "3  26204;2005-06;1;1;Atletico de Madrid;Zaragoza;...                                           \n",
       "4  26205;2005-06;1;1;Cadiz;Real Madrid;1;2;28/08/...                                           "
      ]
     },
     "execution_count": 29,
     "metadata": {},
     "output_type": "execute_result"
    }
   ],
   "source": [
    "df = pd.read_csv(\"data/laligaPC.csv\")\n",
    "df.head()"
   ]
  },
  {
   "cell_type": "markdown",
   "metadata": {},
   "source": [
    "Lo lee todo como una única línea ya que no encuentra comas. **Se recomienda trabajar con CSVs cuyo separador sea el ; así evitamos problemas por los decimales**."
   ]
  },
  {
   "cell_type": "code",
   "execution_count": 30,
   "metadata": {
    "collapsed": true,
    "jupyter": {
     "outputs_hidden": true
    },
    "tags": []
   },
   "outputs": [
    {
     "data": {
      "text/html": [
       "<div>\n",
       "<style scoped>\n",
       "    .dataframe tbody tr th:only-of-type {\n",
       "        vertical-align: middle;\n",
       "    }\n",
       "\n",
       "    .dataframe tbody tr th {\n",
       "        vertical-align: top;\n",
       "    }\n",
       "\n",
       "    .dataframe thead th {\n",
       "        text-align: right;\n",
       "    }\n",
       "</style>\n",
       "<table border=\"1\" class=\"dataframe\">\n",
       "  <thead>\n",
       "    <tr style=\"text-align: right;\">\n",
       "      <th></th>\n",
       "      <th>Unnamed: 0</th>\n",
       "      <th>season</th>\n",
       "      <th>division</th>\n",
       "      <th>round</th>\n",
       "      <th>localTeam</th>\n",
       "      <th>visitorTeam</th>\n",
       "      <th>localGoals</th>\n",
       "      <th>visitorGoals</th>\n",
       "      <th>date</th>\n",
       "      <th>timestamp</th>\n",
       "    </tr>\n",
       "  </thead>\n",
       "  <tbody>\n",
       "    <tr>\n",
       "      <th>0</th>\n",
       "      <td>26201</td>\n",
       "      <td>2005-06</td>\n",
       "      <td>1</td>\n",
       "      <td>1</td>\n",
       "      <td>Atletico de Bilbao</td>\n",
       "      <td>Real Sociedad</td>\n",
       "      <td>3</td>\n",
       "      <td>0</td>\n",
       "      <td>27/08/2005</td>\n",
       "      <td>1125093600</td>\n",
       "    </tr>\n",
       "    <tr>\n",
       "      <th>1</th>\n",
       "      <td>26202</td>\n",
       "      <td>2005-06</td>\n",
       "      <td>1</td>\n",
       "      <td>1</td>\n",
       "      <td>Alaves</td>\n",
       "      <td>Barcelona</td>\n",
       "      <td>0</td>\n",
       "      <td>0</td>\n",
       "      <td>27/08/2005</td>\n",
       "      <td>1125093600</td>\n",
       "    </tr>\n",
       "    <tr>\n",
       "      <th>2</th>\n",
       "      <td>26203</td>\n",
       "      <td>2005-06</td>\n",
       "      <td>1</td>\n",
       "      <td>1</td>\n",
       "      <td>Valencia</td>\n",
       "      <td>Betis</td>\n",
       "      <td>1</td>\n",
       "      <td>0</td>\n",
       "      <td>27/08/2005</td>\n",
       "      <td>1125093600</td>\n",
       "    </tr>\n",
       "    <tr>\n",
       "      <th>3</th>\n",
       "      <td>26204</td>\n",
       "      <td>2005-06</td>\n",
       "      <td>1</td>\n",
       "      <td>1</td>\n",
       "      <td>Atletico de Madrid</td>\n",
       "      <td>Zaragoza</td>\n",
       "      <td>0</td>\n",
       "      <td>0</td>\n",
       "      <td>28/08/2005</td>\n",
       "      <td>1125180000</td>\n",
       "    </tr>\n",
       "    <tr>\n",
       "      <th>4</th>\n",
       "      <td>26205</td>\n",
       "      <td>2005-06</td>\n",
       "      <td>1</td>\n",
       "      <td>1</td>\n",
       "      <td>Cadiz</td>\n",
       "      <td>Real Madrid</td>\n",
       "      <td>1</td>\n",
       "      <td>2</td>\n",
       "      <td>28/08/2005</td>\n",
       "      <td>1125180000</td>\n",
       "    </tr>\n",
       "  </tbody>\n",
       "</table>\n",
       "</div>"
      ],
      "text/plain": [
       "   Unnamed: 0   season  division  round           localTeam    visitorTeam  \\\n",
       "0       26201  2005-06         1      1  Atletico de Bilbao  Real Sociedad   \n",
       "1       26202  2005-06         1      1              Alaves      Barcelona   \n",
       "2       26203  2005-06         1      1            Valencia          Betis   \n",
       "3       26204  2005-06         1      1  Atletico de Madrid       Zaragoza   \n",
       "4       26205  2005-06         1      1               Cadiz    Real Madrid   \n",
       "\n",
       "   localGoals  visitorGoals        date   timestamp  \n",
       "0           3             0  27/08/2005  1125093600  \n",
       "1           0             0  27/08/2005  1125093600  \n",
       "2           1             0  27/08/2005  1125093600  \n",
       "3           0             0  28/08/2005  1125180000  \n",
       "4           1             2  28/08/2005  1125180000  "
      ]
     },
     "execution_count": 30,
     "metadata": {},
     "output_type": "execute_result"
    }
   ],
   "source": [
    "df = pd.read_csv(\"data/laligaPC.csv\", sep=';')\n",
    "df.head()"
   ]
  },
  {
   "cell_type": "markdown",
   "metadata": {},
   "source": [
    "¿Podemos tener otros caracteres que separen los datos?"
   ]
  },
  {
   "cell_type": "code",
   "execution_count": 31,
   "metadata": {
    "collapsed": true,
    "jupyter": {
     "outputs_hidden": true
    },
    "tags": []
   },
   "outputs": [
    {
     "data": {
      "text/html": [
       "<div>\n",
       "<style scoped>\n",
       "    .dataframe tbody tr th:only-of-type {\n",
       "        vertical-align: middle;\n",
       "    }\n",
       "\n",
       "    .dataframe tbody tr th {\n",
       "        vertical-align: top;\n",
       "    }\n",
       "\n",
       "    .dataframe thead th {\n",
       "        text-align: right;\n",
       "    }\n",
       "</style>\n",
       "<table border=\"1\" class=\"dataframe\">\n",
       "  <thead>\n",
       "    <tr style=\"text-align: right;\">\n",
       "      <th></th>\n",
       "      <th>Unnamed: 0~season~division~round~localTeam~visitorTeam~localGoals~visitorGoals~date~timestamp</th>\n",
       "    </tr>\n",
       "  </thead>\n",
       "  <tbody>\n",
       "    <tr>\n",
       "      <th>0</th>\n",
       "      <td>26201~2005-06~1~1~Atletico de Bilbao~Real Soci...</td>\n",
       "    </tr>\n",
       "    <tr>\n",
       "      <th>1</th>\n",
       "      <td>26202~2005-06~1~1~Alaves~Barcelona~0~0~27/08/2...</td>\n",
       "    </tr>\n",
       "    <tr>\n",
       "      <th>2</th>\n",
       "      <td>26203~2005-06~1~1~Valencia~Betis~1~0~27/08/200...</td>\n",
       "    </tr>\n",
       "    <tr>\n",
       "      <th>3</th>\n",
       "      <td>26204~2005-06~1~1~Atletico de Madrid~Zaragoza~...</td>\n",
       "    </tr>\n",
       "    <tr>\n",
       "      <th>4</th>\n",
       "      <td>26205~2005-06~1~1~Cadiz~Real Madrid~1~2~28/08/...</td>\n",
       "    </tr>\n",
       "  </tbody>\n",
       "</table>\n",
       "</div>"
      ],
      "text/plain": [
       "  Unnamed: 0~season~division~round~localTeam~visitorTeam~localGoals~visitorGoals~date~timestamp\n",
       "0  26201~2005-06~1~1~Atletico de Bilbao~Real Soci...                                           \n",
       "1  26202~2005-06~1~1~Alaves~Barcelona~0~0~27/08/2...                                           \n",
       "2  26203~2005-06~1~1~Valencia~Betis~1~0~27/08/200...                                           \n",
       "3  26204~2005-06~1~1~Atletico de Madrid~Zaragoza~...                                           \n",
       "4  26205~2005-06~1~1~Cadiz~Real Madrid~1~2~28/08/...                                           "
      ]
     },
     "execution_count": 31,
     "metadata": {},
     "output_type": "execute_result"
    }
   ],
   "source": [
    "df = pd.read_csv(\"data/laliga4.csv\")\n",
    "df.head()"
   ]
  },
  {
   "cell_type": "code",
   "execution_count": 32,
   "metadata": {},
   "outputs": [
    {
     "data": {
      "text/html": [
       "<div>\n",
       "<style scoped>\n",
       "    .dataframe tbody tr th:only-of-type {\n",
       "        vertical-align: middle;\n",
       "    }\n",
       "\n",
       "    .dataframe tbody tr th {\n",
       "        vertical-align: top;\n",
       "    }\n",
       "\n",
       "    .dataframe thead th {\n",
       "        text-align: right;\n",
       "    }\n",
       "</style>\n",
       "<table border=\"1\" class=\"dataframe\">\n",
       "  <thead>\n",
       "    <tr style=\"text-align: right;\">\n",
       "      <th></th>\n",
       "      <th>Unnamed: 0</th>\n",
       "      <th>season</th>\n",
       "      <th>division</th>\n",
       "      <th>round</th>\n",
       "      <th>localTeam</th>\n",
       "      <th>visitorTeam</th>\n",
       "      <th>localGoals</th>\n",
       "      <th>visitorGoals</th>\n",
       "      <th>date</th>\n",
       "      <th>timestamp</th>\n",
       "    </tr>\n",
       "  </thead>\n",
       "  <tbody>\n",
       "    <tr>\n",
       "      <th>0</th>\n",
       "      <td>26201</td>\n",
       "      <td>2005-06</td>\n",
       "      <td>1</td>\n",
       "      <td>1</td>\n",
       "      <td>Atletico de Bilbao</td>\n",
       "      <td>Real Sociedad</td>\n",
       "      <td>3</td>\n",
       "      <td>0</td>\n",
       "      <td>27/08/2005</td>\n",
       "      <td>1125093600</td>\n",
       "    </tr>\n",
       "    <tr>\n",
       "      <th>1</th>\n",
       "      <td>26202</td>\n",
       "      <td>2005-06</td>\n",
       "      <td>1</td>\n",
       "      <td>1</td>\n",
       "      <td>Alaves</td>\n",
       "      <td>Barcelona</td>\n",
       "      <td>0</td>\n",
       "      <td>0</td>\n",
       "      <td>27/08/2005</td>\n",
       "      <td>1125093600</td>\n",
       "    </tr>\n",
       "    <tr>\n",
       "      <th>2</th>\n",
       "      <td>26203</td>\n",
       "      <td>2005-06</td>\n",
       "      <td>1</td>\n",
       "      <td>1</td>\n",
       "      <td>Valencia</td>\n",
       "      <td>Betis</td>\n",
       "      <td>1</td>\n",
       "      <td>0</td>\n",
       "      <td>27/08/2005</td>\n",
       "      <td>1125093600</td>\n",
       "    </tr>\n",
       "    <tr>\n",
       "      <th>3</th>\n",
       "      <td>26204</td>\n",
       "      <td>2005-06</td>\n",
       "      <td>1</td>\n",
       "      <td>1</td>\n",
       "      <td>Atletico de Madrid</td>\n",
       "      <td>Zaragoza</td>\n",
       "      <td>0</td>\n",
       "      <td>0</td>\n",
       "      <td>28/08/2005</td>\n",
       "      <td>1125180000</td>\n",
       "    </tr>\n",
       "    <tr>\n",
       "      <th>4</th>\n",
       "      <td>26205</td>\n",
       "      <td>2005-06</td>\n",
       "      <td>1</td>\n",
       "      <td>1</td>\n",
       "      <td>Cadiz</td>\n",
       "      <td>Real Madrid</td>\n",
       "      <td>1</td>\n",
       "      <td>2</td>\n",
       "      <td>28/08/2005</td>\n",
       "      <td>1125180000</td>\n",
       "    </tr>\n",
       "  </tbody>\n",
       "</table>\n",
       "</div>"
      ],
      "text/plain": [
       "   Unnamed: 0   season  division  round           localTeam    visitorTeam  \\\n",
       "0       26201  2005-06         1      1  Atletico de Bilbao  Real Sociedad   \n",
       "1       26202  2005-06         1      1              Alaves      Barcelona   \n",
       "2       26203  2005-06         1      1            Valencia          Betis   \n",
       "3       26204  2005-06         1      1  Atletico de Madrid       Zaragoza   \n",
       "4       26205  2005-06         1      1               Cadiz    Real Madrid   \n",
       "\n",
       "   localGoals  visitorGoals        date   timestamp  \n",
       "0           3             0  27/08/2005  1125093600  \n",
       "1           0             0  27/08/2005  1125093600  \n",
       "2           1             0  27/08/2005  1125093600  \n",
       "3           0             0  28/08/2005  1125180000  \n",
       "4           1             2  28/08/2005  1125180000  "
      ]
     },
     "execution_count": 32,
     "metadata": {},
     "output_type": "execute_result"
    }
   ],
   "source": [
    "df = pd.read_csv(\"data/laliga4.csv\", sep='~')\n",
    "df.head()"
   ]
  },
  {
   "cell_type": "markdown",
   "metadata": {},
   "source": [
    "**Escritura de CSV**\n",
    "\n",
    "Para escribir un CSV usamos el método `to_csv()`. Tienes [el enlace a la documentación para ver más detalle](https://pandas.pydata.org/pandas-docs/stable/reference/api/pandas.DataFrame.to_csv.html)."
   ]
  },
  {
   "cell_type": "code",
   "execution_count": 33,
   "metadata": {},
   "outputs": [],
   "source": [
    "df.to_csv(\"data/laligaWrite.csv\", sep = ';', index = False)\n",
    "# index=False no me mete el indice en el csv"
   ]
  },
  {
   "cell_type": "markdown",
   "metadata": {},
   "source": [
    "<table align=\"left\">\n",
    " <tr><td width=\"80\"><img src=\"./img/ejercicio.png\" style=\"width:auto;height:auto\"></td>\n",
    "     <td style=\"text-align:left\">\n",
    "         <h3>Ejercicio CSV</h3>\n",
    "\n",
    "Crea un fichero de CSV a partir de estas Series con separador de ; y leelo a continuación\n",
    "         \n",
    " </td></tr>\n",
    "</table>"
   ]
  },
  {
   "cell_type": "code",
   "execution_count": 41,
   "metadata": {},
   "outputs": [],
   "source": [
    "poblacion = pd.Series({\"Madrid\": 6685471, \"Galicia\": 2698764,\n",
    "                       \"Murcia\": 1494442, \"Andalucia\": 8446561})\n",
    "\n",
    "\n",
    "superficie = pd.Series([8028, 29575, 11314, 87599],\n",
    "                       index = [\"Madrid\", \"Galicia\", \"Murcia\", \"Andalucia\"])"
   ]
  },
  {
   "cell_type": "code",
   "execution_count": 42,
   "metadata": {},
   "outputs": [
    {
     "data": {
      "text/html": [
       "<div>\n",
       "<style scoped>\n",
       "    .dataframe tbody tr th:only-of-type {\n",
       "        vertical-align: middle;\n",
       "    }\n",
       "\n",
       "    .dataframe tbody tr th {\n",
       "        vertical-align: top;\n",
       "    }\n",
       "\n",
       "    .dataframe thead th {\n",
       "        text-align: right;\n",
       "    }\n",
       "</style>\n",
       "<table border=\"1\" class=\"dataframe\">\n",
       "  <thead>\n",
       "    <tr style=\"text-align: right;\">\n",
       "      <th></th>\n",
       "      <th>Población</th>\n",
       "      <th>Superficie</th>\n",
       "    </tr>\n",
       "  </thead>\n",
       "  <tbody>\n",
       "    <tr>\n",
       "      <th>Madrid</th>\n",
       "      <td>6685471</td>\n",
       "      <td>8028</td>\n",
       "    </tr>\n",
       "    <tr>\n",
       "      <th>Galicia</th>\n",
       "      <td>2698764</td>\n",
       "      <td>29575</td>\n",
       "    </tr>\n",
       "    <tr>\n",
       "      <th>Murcia</th>\n",
       "      <td>1494442</td>\n",
       "      <td>11314</td>\n",
       "    </tr>\n",
       "    <tr>\n",
       "      <th>Andalucia</th>\n",
       "      <td>8446561</td>\n",
       "      <td>87599</td>\n",
       "    </tr>\n",
       "  </tbody>\n",
       "</table>\n",
       "</div>"
      ],
      "text/plain": [
       "           Población  Superficie\n",
       "Madrid       6685471        8028\n",
       "Galicia      2698764       29575\n",
       "Murcia       1494442       11314\n",
       "Andalucia    8446561       87599"
      ]
     },
     "execution_count": 42,
     "metadata": {},
     "output_type": "execute_result"
    }
   ],
   "source": [
    "df = pd.DataFrame({\"Población\" : poblacion,\n",
    "                   \"Superficie\": superficie})\n",
    "df.head()"
   ]
  },
  {
   "cell_type": "code",
   "execution_count": 43,
   "metadata": {},
   "outputs": [],
   "source": [
    "df.to_csv('data/ejercicio_clase.csv', sep=\";\")"
   ]
  },
  {
   "cell_type": "code",
   "execution_count": 44,
   "metadata": {},
   "outputs": [
    {
     "data": {
      "text/html": [
       "<div>\n",
       "<style scoped>\n",
       "    .dataframe tbody tr th:only-of-type {\n",
       "        vertical-align: middle;\n",
       "    }\n",
       "\n",
       "    .dataframe tbody tr th {\n",
       "        vertical-align: top;\n",
       "    }\n",
       "\n",
       "    .dataframe thead th {\n",
       "        text-align: right;\n",
       "    }\n",
       "</style>\n",
       "<table border=\"1\" class=\"dataframe\">\n",
       "  <thead>\n",
       "    <tr style=\"text-align: right;\">\n",
       "      <th></th>\n",
       "      <th>Población</th>\n",
       "      <th>Superficie</th>\n",
       "    </tr>\n",
       "  </thead>\n",
       "  <tbody>\n",
       "    <tr>\n",
       "      <th>Madrid</th>\n",
       "      <td>6685471</td>\n",
       "      <td>8028</td>\n",
       "    </tr>\n",
       "    <tr>\n",
       "      <th>Galicia</th>\n",
       "      <td>2698764</td>\n",
       "      <td>29575</td>\n",
       "    </tr>\n",
       "    <tr>\n",
       "      <th>Murcia</th>\n",
       "      <td>1494442</td>\n",
       "      <td>11314</td>\n",
       "    </tr>\n",
       "    <tr>\n",
       "      <th>Andalucia</th>\n",
       "      <td>8446561</td>\n",
       "      <td>87599</td>\n",
       "    </tr>\n",
       "  </tbody>\n",
       "</table>\n",
       "</div>"
      ],
      "text/plain": [
       "           Población  Superficie\n",
       "Madrid       6685471        8028\n",
       "Galicia      2698764       29575\n",
       "Murcia       1494442       11314\n",
       "Andalucia    8446561       87599"
      ]
     },
     "execution_count": 44,
     "metadata": {},
     "output_type": "execute_result"
    }
   ],
   "source": [
    "df_read = pd.read_csv('data/ejercicio_clase.csv', sep=\";\", index_col=\"Unnamed: 0\")\n",
    "df_read.head()"
   ]
  },
  {
   "cell_type": "markdown",
   "metadata": {},
   "source": [
    "## 4. Excel\n",
    "¿Qué empresa no trabaja con Excel? **Nos vamos a encontrar los formatos de datos de Excel en cualquier sitio**. Las extensiones de archivo más habituales son `.xlsx` y `.xls`. Por suerte, **`pandas` tiene métodos para leer los formatos de archivo de Excel**.\n",
    "\n",
    "El problema que presenta este tipo de lectura de datos es que **no es un formato tan cerrado como el CSV**. En el CSV tenemos una estructura compacta, con todos los datos separados por comas y con una línea de cabecera en la primera fila. El Excel permite tener datos en un formato mucho más flexible, con tablas en cualquier sitio de las hojas, información en varias hojas y demás.\n",
    "\n",
    "Teniendo esto en cuenta, y sabiendo bien el formato del Excel en cuestión, podremos leerlo sin problemas con `pandas`, debido a la cantidad de argumentos que tiene la función `read_excel`. [En la documentación tienes todo el detalle](https://pandas.pydata.org/pandas-docs/stable/reference/api/pandas.read_excel.html).\n",
    "\n",
    "Leemos nuestro archivo de laliga, pero en este caso en Excel"
   ]
  },
  {
   "cell_type": "code",
   "execution_count": 46,
   "metadata": {
    "collapsed": true,
    "jupyter": {
     "outputs_hidden": true
    },
    "tags": []
   },
   "outputs": [
    {
     "data": {
      "text/html": [
       "<div>\n",
       "<style scoped>\n",
       "    .dataframe tbody tr th:only-of-type {\n",
       "        vertical-align: middle;\n",
       "    }\n",
       "\n",
       "    .dataframe tbody tr th {\n",
       "        vertical-align: top;\n",
       "    }\n",
       "\n",
       "    .dataframe thead th {\n",
       "        text-align: right;\n",
       "    }\n",
       "</style>\n",
       "<table border=\"1\" class=\"dataframe\">\n",
       "  <thead>\n",
       "    <tr style=\"text-align: right;\">\n",
       "      <th></th>\n",
       "      <th>Column1</th>\n",
       "      <th>season</th>\n",
       "      <th>division</th>\n",
       "      <th>round</th>\n",
       "      <th>localTeam</th>\n",
       "      <th>visitorTeam</th>\n",
       "      <th>localGoals</th>\n",
       "      <th>visitorGoals</th>\n",
       "      <th>date</th>\n",
       "      <th>timestamp</th>\n",
       "    </tr>\n",
       "  </thead>\n",
       "  <tbody>\n",
       "    <tr>\n",
       "      <th>0</th>\n",
       "      <td>26201</td>\n",
       "      <td>2005-06-01</td>\n",
       "      <td>1</td>\n",
       "      <td>1</td>\n",
       "      <td>Atletico de Bilbao</td>\n",
       "      <td>Real Sociedad</td>\n",
       "      <td>3</td>\n",
       "      <td>0</td>\n",
       "      <td>2005-08-27</td>\n",
       "      <td>1125093600</td>\n",
       "    </tr>\n",
       "    <tr>\n",
       "      <th>1</th>\n",
       "      <td>26202</td>\n",
       "      <td>2005-06-01</td>\n",
       "      <td>1</td>\n",
       "      <td>1</td>\n",
       "      <td>Alaves</td>\n",
       "      <td>Barcelona</td>\n",
       "      <td>0</td>\n",
       "      <td>0</td>\n",
       "      <td>2005-08-27</td>\n",
       "      <td>1125093600</td>\n",
       "    </tr>\n",
       "    <tr>\n",
       "      <th>2</th>\n",
       "      <td>26203</td>\n",
       "      <td>2005-06-01</td>\n",
       "      <td>1</td>\n",
       "      <td>1</td>\n",
       "      <td>Valencia</td>\n",
       "      <td>Betis</td>\n",
       "      <td>1</td>\n",
       "      <td>0</td>\n",
       "      <td>2005-08-27</td>\n",
       "      <td>1125093600</td>\n",
       "    </tr>\n",
       "    <tr>\n",
       "      <th>3</th>\n",
       "      <td>26204</td>\n",
       "      <td>2005-06-01</td>\n",
       "      <td>1</td>\n",
       "      <td>1</td>\n",
       "      <td>Atletico de Madrid</td>\n",
       "      <td>Zaragoza</td>\n",
       "      <td>0</td>\n",
       "      <td>0</td>\n",
       "      <td>2005-08-28</td>\n",
       "      <td>1125180000</td>\n",
       "    </tr>\n",
       "    <tr>\n",
       "      <th>4</th>\n",
       "      <td>26205</td>\n",
       "      <td>2005-06-01</td>\n",
       "      <td>1</td>\n",
       "      <td>1</td>\n",
       "      <td>Cadiz</td>\n",
       "      <td>Real Madrid</td>\n",
       "      <td>1</td>\n",
       "      <td>2</td>\n",
       "      <td>2005-08-28</td>\n",
       "      <td>1125180000</td>\n",
       "    </tr>\n",
       "  </tbody>\n",
       "</table>\n",
       "</div>"
      ],
      "text/plain": [
       "   Column1     season  division  round           localTeam    visitorTeam  \\\n",
       "0    26201 2005-06-01         1      1  Atletico de Bilbao  Real Sociedad   \n",
       "1    26202 2005-06-01         1      1              Alaves      Barcelona   \n",
       "2    26203 2005-06-01         1      1            Valencia          Betis   \n",
       "3    26204 2005-06-01         1      1  Atletico de Madrid       Zaragoza   \n",
       "4    26205 2005-06-01         1      1               Cadiz    Real Madrid   \n",
       "\n",
       "   localGoals  visitorGoals       date   timestamp  \n",
       "0           3             0 2005-08-27  1125093600  \n",
       "1           0             0 2005-08-27  1125093600  \n",
       "2           1             0 2005-08-27  1125093600  \n",
       "3           0             0 2005-08-28  1125180000  \n",
       "4           1             2 2005-08-28  1125180000  "
      ]
     },
     "execution_count": 46,
     "metadata": {},
     "output_type": "execute_result"
    }
   ],
   "source": [
    "df = pd.read_excel('data/laliga.xlsx')\n",
    "df.head()"
   ]
  },
  {
   "cell_type": "markdown",
   "metadata": {},
   "source": [
    "No tenemos problemas cuando los datos están perfectos, con una única hoja, y empezando en la celda A1. ¿Qué argumentos nos pueden resultar útiles?\n",
    "\n",
    "1. `io`: dónde está el archivo\n",
    "2. `sheet_name`: el nombre de la hoja\n",
    "3. `header`: dónde está la cabecera\n",
    "4. `usecols`: indica el rango de columnas Excel en el que se encuentran. Por ejemplo: 'A:F'\n",
    "5. `skiprows`: filas que deberia ignorar\n",
    "\n",
    "Veamos más ejemplos. El Excel de `laliga.xlsx` tiene varias pestañas. Por defecto, lee la primera, `Hoja1`, pero podemos especificar otras."
   ]
  },
  {
   "cell_type": "code",
   "execution_count": 47,
   "metadata": {},
   "outputs": [
    {
     "data": {
      "text/html": [
       "<div>\n",
       "<style scoped>\n",
       "    .dataframe tbody tr th:only-of-type {\n",
       "        vertical-align: middle;\n",
       "    }\n",
       "\n",
       "    .dataframe tbody tr th {\n",
       "        vertical-align: top;\n",
       "    }\n",
       "\n",
       "    .dataframe thead th {\n",
       "        text-align: right;\n",
       "    }\n",
       "</style>\n",
       "<table border=\"1\" class=\"dataframe\">\n",
       "  <thead>\n",
       "    <tr style=\"text-align: right;\">\n",
       "      <th></th>\n",
       "      <th>Unnamed: 0</th>\n",
       "      <th>Unnamed: 1</th>\n",
       "      <th>Unnamed: 2</th>\n",
       "      <th>Unnamed: 3</th>\n",
       "      <th>Unnamed: 4</th>\n",
       "      <th>Unnamed: 5</th>\n",
       "      <th>Unnamed: 6</th>\n",
       "      <th>Unnamed: 7</th>\n",
       "      <th>Unnamed: 8</th>\n",
       "      <th>Unnamed: 9</th>\n",
       "    </tr>\n",
       "  </thead>\n",
       "  <tbody>\n",
       "    <tr>\n",
       "      <th>0</th>\n",
       "      <td>NaN</td>\n",
       "      <td>NaN</td>\n",
       "      <td>NaN</td>\n",
       "      <td>NaN</td>\n",
       "      <td>NaN</td>\n",
       "      <td>NaN</td>\n",
       "      <td>NaN</td>\n",
       "      <td>NaN</td>\n",
       "      <td>NaN</td>\n",
       "      <td>NaN</td>\n",
       "    </tr>\n",
       "    <tr>\n",
       "      <th>1</th>\n",
       "      <td>Column1</td>\n",
       "      <td>season</td>\n",
       "      <td>division</td>\n",
       "      <td>round</td>\n",
       "      <td>localTeam</td>\n",
       "      <td>visitorTeam</td>\n",
       "      <td>localGoals</td>\n",
       "      <td>visitorGoals</td>\n",
       "      <td>date</td>\n",
       "      <td>timestamp</td>\n",
       "    </tr>\n",
       "    <tr>\n",
       "      <th>2</th>\n",
       "      <td>26201</td>\n",
       "      <td>2005-06-01 00:00:00</td>\n",
       "      <td>1</td>\n",
       "      <td>1</td>\n",
       "      <td>Atletico de Bilbao</td>\n",
       "      <td>Real Sociedad</td>\n",
       "      <td>3</td>\n",
       "      <td>0</td>\n",
       "      <td>2005-08-27 00:00:00</td>\n",
       "      <td>1125093600</td>\n",
       "    </tr>\n",
       "    <tr>\n",
       "      <th>3</th>\n",
       "      <td>26202</td>\n",
       "      <td>2005-06-01 00:00:00</td>\n",
       "      <td>1</td>\n",
       "      <td>1</td>\n",
       "      <td>Alaves</td>\n",
       "      <td>Barcelona</td>\n",
       "      <td>0</td>\n",
       "      <td>0</td>\n",
       "      <td>2005-08-27 00:00:00</td>\n",
       "      <td>1125093600</td>\n",
       "    </tr>\n",
       "    <tr>\n",
       "      <th>4</th>\n",
       "      <td>26203</td>\n",
       "      <td>2005-06-01 00:00:00</td>\n",
       "      <td>1</td>\n",
       "      <td>1</td>\n",
       "      <td>Valencia</td>\n",
       "      <td>Betis</td>\n",
       "      <td>1</td>\n",
       "      <td>0</td>\n",
       "      <td>2005-08-27 00:00:00</td>\n",
       "      <td>1125093600</td>\n",
       "    </tr>\n",
       "  </tbody>\n",
       "</table>\n",
       "</div>"
      ],
      "text/plain": [
       "  Unnamed: 0           Unnamed: 1 Unnamed: 2 Unnamed: 3          Unnamed: 4  \\\n",
       "0        NaN                  NaN        NaN        NaN                 NaN   \n",
       "1    Column1               season   division      round           localTeam   \n",
       "2      26201  2005-06-01 00:00:00          1          1  Atletico de Bilbao   \n",
       "3      26202  2005-06-01 00:00:00          1          1              Alaves   \n",
       "4      26203  2005-06-01 00:00:00          1          1            Valencia   \n",
       "\n",
       "      Unnamed: 5  Unnamed: 6    Unnamed: 7           Unnamed: 8  Unnamed: 9  \n",
       "0            NaN         NaN           NaN                  NaN         NaN  \n",
       "1    visitorTeam  localGoals  visitorGoals                 date   timestamp  \n",
       "2  Real Sociedad           3             0  2005-08-27 00:00:00  1125093600  \n",
       "3      Barcelona           0             0  2005-08-27 00:00:00  1125093600  \n",
       "4          Betis           1             0  2005-08-27 00:00:00  1125093600  "
      ]
     },
     "execution_count": 47,
     "metadata": {},
     "output_type": "execute_result"
    }
   ],
   "source": [
    "df = pd.read_excel('data/laliga.xlsx', sheet_name = 'Hoja2')\n",
    "df.head()"
   ]
  },
  {
   "cell_type": "markdown",
   "metadata": {},
   "source": [
    "Vemos que hay algún problema con los datos. Las primeras líneas están en blanco en el Excel. Podemos, o bien ignorarlas, o indicarle donde está la cabecera"
   ]
  },
  {
   "cell_type": "code",
   "execution_count": 48,
   "metadata": {
    "collapsed": true,
    "jupyter": {
     "outputs_hidden": true
    },
    "tags": []
   },
   "outputs": [
    {
     "data": {
      "text/html": [
       "<div>\n",
       "<style scoped>\n",
       "    .dataframe tbody tr th:only-of-type {\n",
       "        vertical-align: middle;\n",
       "    }\n",
       "\n",
       "    .dataframe tbody tr th {\n",
       "        vertical-align: top;\n",
       "    }\n",
       "\n",
       "    .dataframe thead th {\n",
       "        text-align: right;\n",
       "    }\n",
       "</style>\n",
       "<table border=\"1\" class=\"dataframe\">\n",
       "  <thead>\n",
       "    <tr style=\"text-align: right;\">\n",
       "      <th></th>\n",
       "      <th>Column1</th>\n",
       "      <th>season</th>\n",
       "      <th>division</th>\n",
       "      <th>round</th>\n",
       "      <th>localTeam</th>\n",
       "      <th>visitorTeam</th>\n",
       "      <th>localGoals</th>\n",
       "      <th>visitorGoals</th>\n",
       "      <th>date</th>\n",
       "      <th>timestamp</th>\n",
       "    </tr>\n",
       "  </thead>\n",
       "  <tbody>\n",
       "    <tr>\n",
       "      <th>0</th>\n",
       "      <td>26201</td>\n",
       "      <td>2005-06-01</td>\n",
       "      <td>1</td>\n",
       "      <td>1</td>\n",
       "      <td>Atletico de Bilbao</td>\n",
       "      <td>Real Sociedad</td>\n",
       "      <td>3</td>\n",
       "      <td>0</td>\n",
       "      <td>2005-08-27</td>\n",
       "      <td>1125093600</td>\n",
       "    </tr>\n",
       "    <tr>\n",
       "      <th>1</th>\n",
       "      <td>26202</td>\n",
       "      <td>2005-06-01</td>\n",
       "      <td>1</td>\n",
       "      <td>1</td>\n",
       "      <td>Alaves</td>\n",
       "      <td>Barcelona</td>\n",
       "      <td>0</td>\n",
       "      <td>0</td>\n",
       "      <td>2005-08-27</td>\n",
       "      <td>1125093600</td>\n",
       "    </tr>\n",
       "    <tr>\n",
       "      <th>2</th>\n",
       "      <td>26203</td>\n",
       "      <td>2005-06-01</td>\n",
       "      <td>1</td>\n",
       "      <td>1</td>\n",
       "      <td>Valencia</td>\n",
       "      <td>Betis</td>\n",
       "      <td>1</td>\n",
       "      <td>0</td>\n",
       "      <td>2005-08-27</td>\n",
       "      <td>1125093600</td>\n",
       "    </tr>\n",
       "    <tr>\n",
       "      <th>3</th>\n",
       "      <td>26204</td>\n",
       "      <td>2005-06-01</td>\n",
       "      <td>1</td>\n",
       "      <td>1</td>\n",
       "      <td>Atletico de Madrid</td>\n",
       "      <td>Zaragoza</td>\n",
       "      <td>0</td>\n",
       "      <td>0</td>\n",
       "      <td>2005-08-28</td>\n",
       "      <td>1125180000</td>\n",
       "    </tr>\n",
       "    <tr>\n",
       "      <th>4</th>\n",
       "      <td>26205</td>\n",
       "      <td>2005-06-01</td>\n",
       "      <td>1</td>\n",
       "      <td>1</td>\n",
       "      <td>Cadiz</td>\n",
       "      <td>Real Madrid</td>\n",
       "      <td>1</td>\n",
       "      <td>2</td>\n",
       "      <td>2005-08-28</td>\n",
       "      <td>1125180000</td>\n",
       "    </tr>\n",
       "  </tbody>\n",
       "</table>\n",
       "</div>"
      ],
      "text/plain": [
       "   Column1     season  division  round           localTeam    visitorTeam  \\\n",
       "0    26201 2005-06-01         1      1  Atletico de Bilbao  Real Sociedad   \n",
       "1    26202 2005-06-01         1      1              Alaves      Barcelona   \n",
       "2    26203 2005-06-01         1      1            Valencia          Betis   \n",
       "3    26204 2005-06-01         1      1  Atletico de Madrid       Zaragoza   \n",
       "4    26205 2005-06-01         1      1               Cadiz    Real Madrid   \n",
       "\n",
       "   localGoals  visitorGoals       date   timestamp  \n",
       "0           3             0 2005-08-27  1125093600  \n",
       "1           0             0 2005-08-27  1125093600  \n",
       "2           1             0 2005-08-27  1125093600  \n",
       "3           0             0 2005-08-28  1125180000  \n",
       "4           1             2 2005-08-28  1125180000  "
      ]
     },
     "execution_count": 48,
     "metadata": {},
     "output_type": "execute_result"
    }
   ],
   "source": [
    "df = pd.read_excel('data/laliga.xlsx', sheet_name = 'Hoja2', header = 2)\n",
    "df.head()"
   ]
  },
  {
   "cell_type": "markdown",
   "metadata": {},
   "source": [
    "Otro problema que nos puede surgir es que la tabla no esté ni en las primeas filas, ni en las primeras columnas"
   ]
  },
  {
   "cell_type": "code",
   "execution_count": 49,
   "metadata": {
    "collapsed": true,
    "jupyter": {
     "outputs_hidden": true
    },
    "tags": []
   },
   "outputs": [
    {
     "data": {
      "text/html": [
       "<div>\n",
       "<style scoped>\n",
       "    .dataframe tbody tr th:only-of-type {\n",
       "        vertical-align: middle;\n",
       "    }\n",
       "\n",
       "    .dataframe tbody tr th {\n",
       "        vertical-align: top;\n",
       "    }\n",
       "\n",
       "    .dataframe thead th {\n",
       "        text-align: right;\n",
       "    }\n",
       "</style>\n",
       "<table border=\"1\" class=\"dataframe\">\n",
       "  <thead>\n",
       "    <tr style=\"text-align: right;\">\n",
       "      <th></th>\n",
       "      <th>Column1</th>\n",
       "      <th>season</th>\n",
       "      <th>division</th>\n",
       "      <th>round</th>\n",
       "      <th>localTeam</th>\n",
       "      <th>visitorTeam</th>\n",
       "      <th>localGoals</th>\n",
       "      <th>visitorGoals</th>\n",
       "      <th>date</th>\n",
       "      <th>timestamp</th>\n",
       "    </tr>\n",
       "  </thead>\n",
       "  <tbody>\n",
       "    <tr>\n",
       "      <th>0</th>\n",
       "      <td>26201</td>\n",
       "      <td>2005-06-01</td>\n",
       "      <td>1</td>\n",
       "      <td>1</td>\n",
       "      <td>Atletico de Bilbao</td>\n",
       "      <td>Real Sociedad</td>\n",
       "      <td>3</td>\n",
       "      <td>0</td>\n",
       "      <td>2005-08-27</td>\n",
       "      <td>1125093600</td>\n",
       "    </tr>\n",
       "    <tr>\n",
       "      <th>1</th>\n",
       "      <td>26202</td>\n",
       "      <td>2005-06-01</td>\n",
       "      <td>1</td>\n",
       "      <td>1</td>\n",
       "      <td>Alaves</td>\n",
       "      <td>Barcelona</td>\n",
       "      <td>0</td>\n",
       "      <td>0</td>\n",
       "      <td>2005-08-27</td>\n",
       "      <td>1125093600</td>\n",
       "    </tr>\n",
       "    <tr>\n",
       "      <th>2</th>\n",
       "      <td>26203</td>\n",
       "      <td>2005-06-01</td>\n",
       "      <td>1</td>\n",
       "      <td>1</td>\n",
       "      <td>Valencia</td>\n",
       "      <td>Betis</td>\n",
       "      <td>1</td>\n",
       "      <td>0</td>\n",
       "      <td>2005-08-27</td>\n",
       "      <td>1125093600</td>\n",
       "    </tr>\n",
       "    <tr>\n",
       "      <th>3</th>\n",
       "      <td>26204</td>\n",
       "      <td>2005-06-01</td>\n",
       "      <td>1</td>\n",
       "      <td>1</td>\n",
       "      <td>Atletico de Madrid</td>\n",
       "      <td>Zaragoza</td>\n",
       "      <td>0</td>\n",
       "      <td>0</td>\n",
       "      <td>2005-08-28</td>\n",
       "      <td>1125180000</td>\n",
       "    </tr>\n",
       "    <tr>\n",
       "      <th>4</th>\n",
       "      <td>26205</td>\n",
       "      <td>2005-06-01</td>\n",
       "      <td>1</td>\n",
       "      <td>1</td>\n",
       "      <td>Cadiz</td>\n",
       "      <td>Real Madrid</td>\n",
       "      <td>1</td>\n",
       "      <td>2</td>\n",
       "      <td>2005-08-28</td>\n",
       "      <td>1125180000</td>\n",
       "    </tr>\n",
       "  </tbody>\n",
       "</table>\n",
       "</div>"
      ],
      "text/plain": [
       "   Column1     season  division  round           localTeam    visitorTeam  \\\n",
       "0    26201 2005-06-01         1      1  Atletico de Bilbao  Real Sociedad   \n",
       "1    26202 2005-06-01         1      1              Alaves      Barcelona   \n",
       "2    26203 2005-06-01         1      1            Valencia          Betis   \n",
       "3    26204 2005-06-01         1      1  Atletico de Madrid       Zaragoza   \n",
       "4    26205 2005-06-01         1      1               Cadiz    Real Madrid   \n",
       "\n",
       "   localGoals  visitorGoals       date   timestamp  \n",
       "0           3             0 2005-08-27  1125093600  \n",
       "1           0             0 2005-08-27  1125093600  \n",
       "2           1             0 2005-08-27  1125093600  \n",
       "3           0             0 2005-08-28  1125180000  \n",
       "4           1             2 2005-08-28  1125180000  "
      ]
     },
     "execution_count": 49,
     "metadata": {},
     "output_type": "execute_result"
    }
   ],
   "source": [
    "df = pd.read_excel('data/laliga.xlsx',\n",
    "                   sheet_name = 'Hoja3',\n",
    "                  header = 2,\n",
    "                  usecols = 'B:K')\n",
    "df.head()"
   ]
  },
  {
   "cell_type": "code",
   "execution_count": 50,
   "metadata": {},
   "outputs": [
    {
     "data": {
      "text/html": [
       "<div>\n",
       "<style scoped>\n",
       "    .dataframe tbody tr th:only-of-type {\n",
       "        vertical-align: middle;\n",
       "    }\n",
       "\n",
       "    .dataframe tbody tr th {\n",
       "        vertical-align: top;\n",
       "    }\n",
       "\n",
       "    .dataframe thead th {\n",
       "        text-align: right;\n",
       "    }\n",
       "</style>\n",
       "<table border=\"1\" class=\"dataframe\">\n",
       "  <thead>\n",
       "    <tr style=\"text-align: right;\">\n",
       "      <th></th>\n",
       "      <th>Column1</th>\n",
       "      <th>season</th>\n",
       "      <th>division</th>\n",
       "      <th>round</th>\n",
       "      <th>localTeam</th>\n",
       "      <th>visitorTeam</th>\n",
       "      <th>localGoals</th>\n",
       "      <th>visitorGoals</th>\n",
       "      <th>date</th>\n",
       "      <th>timestamp</th>\n",
       "    </tr>\n",
       "  </thead>\n",
       "  <tbody>\n",
       "    <tr>\n",
       "      <th>0</th>\n",
       "      <td>26201</td>\n",
       "      <td>2005-06-01</td>\n",
       "      <td>1</td>\n",
       "      <td>1</td>\n",
       "      <td>Atletico de Bilbao</td>\n",
       "      <td>Real Sociedad</td>\n",
       "      <td>3</td>\n",
       "      <td>0</td>\n",
       "      <td>2005-08-27</td>\n",
       "      <td>1125093600</td>\n",
       "    </tr>\n",
       "    <tr>\n",
       "      <th>1</th>\n",
       "      <td>26202</td>\n",
       "      <td>2005-06-01</td>\n",
       "      <td>1</td>\n",
       "      <td>1</td>\n",
       "      <td>Alaves</td>\n",
       "      <td>Barcelona</td>\n",
       "      <td>0</td>\n",
       "      <td>0</td>\n",
       "      <td>2005-08-27</td>\n",
       "      <td>1125093600</td>\n",
       "    </tr>\n",
       "    <tr>\n",
       "      <th>2</th>\n",
       "      <td>26203</td>\n",
       "      <td>2005-06-01</td>\n",
       "      <td>1</td>\n",
       "      <td>1</td>\n",
       "      <td>Valencia</td>\n",
       "      <td>Betis</td>\n",
       "      <td>1</td>\n",
       "      <td>0</td>\n",
       "      <td>2005-08-27</td>\n",
       "      <td>1125093600</td>\n",
       "    </tr>\n",
       "    <tr>\n",
       "      <th>3</th>\n",
       "      <td>26204</td>\n",
       "      <td>2005-06-01</td>\n",
       "      <td>1</td>\n",
       "      <td>1</td>\n",
       "      <td>Atletico de Madrid</td>\n",
       "      <td>Zaragoza</td>\n",
       "      <td>0</td>\n",
       "      <td>0</td>\n",
       "      <td>2005-08-28</td>\n",
       "      <td>1125180000</td>\n",
       "    </tr>\n",
       "    <tr>\n",
       "      <th>4</th>\n",
       "      <td>26205</td>\n",
       "      <td>2005-06-01</td>\n",
       "      <td>1</td>\n",
       "      <td>1</td>\n",
       "      <td>Cadiz</td>\n",
       "      <td>Real Madrid</td>\n",
       "      <td>1</td>\n",
       "      <td>2</td>\n",
       "      <td>2005-08-28</td>\n",
       "      <td>1125180000</td>\n",
       "    </tr>\n",
       "  </tbody>\n",
       "</table>\n",
       "</div>"
      ],
      "text/plain": [
       "   Column1     season  division  round           localTeam    visitorTeam  \\\n",
       "0    26201 2005-06-01         1      1  Atletico de Bilbao  Real Sociedad   \n",
       "1    26202 2005-06-01         1      1              Alaves      Barcelona   \n",
       "2    26203 2005-06-01         1      1            Valencia          Betis   \n",
       "3    26204 2005-06-01         1      1  Atletico de Madrid       Zaragoza   \n",
       "4    26205 2005-06-01         1      1               Cadiz    Real Madrid   \n",
       "\n",
       "   localGoals  visitorGoals       date   timestamp  \n",
       "0           3             0 2005-08-27  1125093600  \n",
       "1           0             0 2005-08-27  1125093600  \n",
       "2           1             0 2005-08-27  1125093600  \n",
       "3           0             0 2005-08-28  1125180000  \n",
       "4           1             2 2005-08-28  1125180000  "
      ]
     },
     "execution_count": 50,
     "metadata": {},
     "output_type": "execute_result"
    }
   ],
   "source": [
    "df = pd.read_excel('data/laliga.xlsx',\n",
    "                   sheet_name = 'Hoja4',\n",
    "                  header = 3,\n",
    "                  usecols = 'C:L',\n",
    "                  nrows = 10)\n",
    "df.head()"
   ]
  },
  {
   "cell_type": "code",
   "execution_count": 51,
   "metadata": {},
   "outputs": [
    {
     "data": {
      "text/plain": [
       "4974"
      ]
     },
     "execution_count": 51,
     "metadata": {},
     "output_type": "execute_result"
    }
   ],
   "source": [
    "df = pd.read_excel('data/laliga.xlsx',\n",
    "                   sheet_name = 'Hoja5')\n",
    "len(df)"
   ]
  },
  {
   "cell_type": "markdown",
   "metadata": {},
   "source": [
    "**Escritura de Excel**\n",
    "\n",
    "Al igual que con el CSV, tenemos el método `to_excel()`, para escribir el `DataFame` en un archivo Excel. **Recuerda poner la extensión del Excel (.xlsx) en el nombre del archivo**. Tienes [el enlace a la documentación para ver más detalle](https://pandas.pydata.org/pandas-docs/stable/reference/api/pandas.DataFrame.to_excel.html)."
   ]
  },
  {
   "cell_type": "code",
   "execution_count": 52,
   "metadata": {},
   "outputs": [],
   "source": [
    "df.to_excel('data/laligaExcelWrite.xlsx')"
   ]
  },
  {
   "cell_type": "markdown",
   "metadata": {},
   "source": [
    "## 5. JSON\n",
    "***JavaScript Objet Notation* es otro formato de texto plano que se utiliza para el itercambio de datos**. Originalmente se utilizaba como notación literal de objetos en JavaScript, pero actualmente es un formato de datos independiente del lenguaje. JavaScript es un lenguaje de programción web, por lo que JSON se utiliza mucho en el intercambio de objetos entre cliente y servidor.\n",
    "\n",
    "**¿Qué diferencia hay con un CSV o un Excel?** Ya no tenemos esa estructura de fila/columna, sino que ahora es un formato tipo clave/valor, como si fuese un diccionario. En una tabla en la fila 1, columna 1, tienes un valor. En un JSON no, en la clave \"mi_clave\" puedes tener almacenado un valor, una lista o incluso un objeto. Salimos del formato tabla al que estamos acostubrados para ganar en flexibilidad.\n",
    "\n",
    "Un JSON tiene la siguiente pinta:\n",
    "\n",
    "![imagen](./img/json_image.png)\n"
   ]
  },
  {
   "cell_type": "code",
   "execution_count": 53,
   "metadata": {},
   "outputs": [],
   "source": [
    "data =  {\n",
    "        \"firstName\": \"Jane\",\n",
    "        \"lastName\": \"Doe\",\n",
    "        \"hobbies\": [\"running\", \"sky diving\", \"singing\"],\n",
    "        \"age\": 35,\n",
    "        \"children\": [\n",
    "            {\n",
    "                \"firstName\": \"Alice\",\n",
    "                \"age\": 6\n",
    "            },\n",
    "            {\n",
    "                \"firstName\": \"Bob\",\n",
    "                \"age\": 8\n",
    "            }\n",
    "        ]\n",
    "    }"
   ]
  },
  {
   "cell_type": "code",
   "execution_count": 57,
   "metadata": {},
   "outputs": [
    {
     "data": {
      "text/plain": [
       "'Alice'"
      ]
     },
     "execution_count": 57,
     "metadata": {},
     "output_type": "execute_result"
    }
   ],
   "source": [
    "data['children'][0]['firstName']"
   ]
  },
  {
   "cell_type": "code",
   "execution_count": 58,
   "metadata": {},
   "outputs": [
    {
     "data": {
      "text/plain": [
       "'Bob'"
      ]
     },
     "execution_count": 58,
     "metadata": {},
     "output_type": "execute_result"
    }
   ],
   "source": [
    "data['children'][1]['firstName']"
   ]
  },
  {
   "cell_type": "markdown",
   "metadata": {},
   "source": [
    "**Puedo guardar el JSON en un archivo. Para ello, usamos la librería `json`**, que viene incluida en la instalación de Anaconda."
   ]
  },
  {
   "cell_type": "code",
   "execution_count": 59,
   "metadata": {},
   "outputs": [],
   "source": [
    "import json\n",
    "\n",
    "with open(\"data/data_file.json\", \"w\") as write_file:\n",
    "    json.dump(data, write_file)"
   ]
  },
  {
   "cell_type": "markdown",
   "metadata": {},
   "source": [
    "O también objetos de una clase"
   ]
  },
  {
   "cell_type": "code",
   "execution_count": 60,
   "metadata": {},
   "outputs": [],
   "source": [
    "class Persona:\n",
    "\n",
    "    def __init__(self, firstName, lastName, hobbies):\n",
    "        self.firstName = firstName\n",
    "        self.lastName = lastName\n",
    "        self.hobbies = hobbies\n",
    "\n",
    "pers1 = Persona(\"Pepe\", \"Carrasco\", [\"Bricolaje\", \"Tenis\"])\n",
    "pers2 = Persona(\"Jose\", \"Carrasco\", [\"Bricolaje\", \"Tenis\"])"
   ]
  },
  {
   "cell_type": "code",
   "execution_count": 61,
   "metadata": {},
   "outputs": [
    {
     "data": {
      "text/plain": [
       "<__main__.Persona at 0x1cedf27d250>"
      ]
     },
     "execution_count": 61,
     "metadata": {},
     "output_type": "execute_result"
    }
   ],
   "source": [
    "pers1"
   ]
  },
  {
   "cell_type": "code",
   "execution_count": 62,
   "metadata": {},
   "outputs": [
    {
     "data": {
      "text/plain": [
       "{'firstName': 'Pepe',\n",
       " 'lastName': 'Carrasco',\n",
       " 'hobbies': ['Bricolaje', 'Tenis']}"
      ]
     },
     "execution_count": 62,
     "metadata": {},
     "output_type": "execute_result"
    }
   ],
   "source": [
    "pers1.__dict__"
   ]
  },
  {
   "cell_type": "markdown",
   "metadata": {},
   "source": [
    "Lo puedo guardar en un archivo *pepe.json*"
   ]
  },
  {
   "cell_type": "code",
   "execution_count": 64,
   "metadata": {},
   "outputs": [],
   "source": [
    "with open(\"data/pepe.json\", \"w\") as write_file:\n",
    "    json.dump(pers2.__dict__, write_file)"
   ]
  },
  {
   "cell_type": "markdown",
   "metadata": {},
   "source": [
    "Luego lo puedo volver a cargar"
   ]
  },
  {
   "cell_type": "code",
   "execution_count": 65,
   "metadata": {},
   "outputs": [
    {
     "name": "stdout",
     "output_type": "stream",
     "text": [
      "{'firstName': 'Jose', 'lastName': 'Carrasco', 'hobbies': ['Bricolaje', 'Tenis']}\n",
      "Jose\n"
     ]
    }
   ],
   "source": [
    "with open(\"data/pepe.json\", \"r\") as json_file:\n",
    "    data = json.load(json_file)\n",
    "\n",
    "print(data)\n",
    "print(data['firstName'])"
   ]
  },
  {
   "cell_type": "markdown",
   "metadata": {},
   "source": [
    "Para el siguiente ejemplo, utilizamos `pandas` y leeremos el archivo JSON, de tal manera que nos transforme los datos en formato tabla, en un `DataFrame`."
   ]
  },
  {
   "cell_type": "code",
   "execution_count": 66,
   "metadata": {},
   "outputs": [
    {
     "data": {
      "text/html": [
       "<div>\n",
       "<style scoped>\n",
       "    .dataframe tbody tr th:only-of-type {\n",
       "        vertical-align: middle;\n",
       "    }\n",
       "\n",
       "    .dataframe tbody tr th {\n",
       "        vertical-align: top;\n",
       "    }\n",
       "\n",
       "    .dataframe thead th {\n",
       "        text-align: right;\n",
       "    }\n",
       "</style>\n",
       "<table border=\"1\" class=\"dataframe\">\n",
       "  <thead>\n",
       "    <tr style=\"text-align: right;\">\n",
       "      <th></th>\n",
       "      <th>reviewerID</th>\n",
       "      <th>asin</th>\n",
       "      <th>reviewerName</th>\n",
       "      <th>helpful</th>\n",
       "      <th>reviewText</th>\n",
       "      <th>overall</th>\n",
       "      <th>summary</th>\n",
       "      <th>unixReviewTime</th>\n",
       "      <th>reviewTime</th>\n",
       "    </tr>\n",
       "  </thead>\n",
       "  <tbody>\n",
       "    <tr>\n",
       "      <th>0</th>\n",
       "      <td>A2IBPI20UZIR0U</td>\n",
       "      <td>1384719342</td>\n",
       "      <td>cassandra tu \"Yeah, well, that's just like, u...</td>\n",
       "      <td>[0, 0]</td>\n",
       "      <td>Not much to write about here, but it does exac...</td>\n",
       "      <td>5</td>\n",
       "      <td>good</td>\n",
       "      <td>1393545600</td>\n",
       "      <td>02 28, 2014</td>\n",
       "    </tr>\n",
       "    <tr>\n",
       "      <th>1</th>\n",
       "      <td>A14VAT5EAX3D9S</td>\n",
       "      <td>1384719342</td>\n",
       "      <td>Jake</td>\n",
       "      <td>[13, 14]</td>\n",
       "      <td>The product does exactly as it should and is q...</td>\n",
       "      <td>5</td>\n",
       "      <td>Jake</td>\n",
       "      <td>1363392000</td>\n",
       "      <td>03 16, 2013</td>\n",
       "    </tr>\n",
       "    <tr>\n",
       "      <th>2</th>\n",
       "      <td>A195EZSQDW3E21</td>\n",
       "      <td>1384719342</td>\n",
       "      <td>Rick Bennette \"Rick Bennette\"</td>\n",
       "      <td>[1, 1]</td>\n",
       "      <td>The primary job of this device is to block the...</td>\n",
       "      <td>5</td>\n",
       "      <td>It Does The Job Well</td>\n",
       "      <td>1377648000</td>\n",
       "      <td>08 28, 2013</td>\n",
       "    </tr>\n",
       "    <tr>\n",
       "      <th>3</th>\n",
       "      <td>A2C00NNG1ZQQG2</td>\n",
       "      <td>1384719342</td>\n",
       "      <td>RustyBill \"Sunday Rocker\"</td>\n",
       "      <td>[0, 0]</td>\n",
       "      <td>Nice windscreen protects my MXL mic and preven...</td>\n",
       "      <td>5</td>\n",
       "      <td>GOOD WINDSCREEN FOR THE MONEY</td>\n",
       "      <td>1392336000</td>\n",
       "      <td>02 14, 2014</td>\n",
       "    </tr>\n",
       "    <tr>\n",
       "      <th>4</th>\n",
       "      <td>A94QU4C90B1AX</td>\n",
       "      <td>1384719342</td>\n",
       "      <td>SEAN MASLANKA</td>\n",
       "      <td>[0, 0]</td>\n",
       "      <td>This pop filter is great. It looks and perform...</td>\n",
       "      <td>5</td>\n",
       "      <td>No more pops when I record my vocals.</td>\n",
       "      <td>1392940800</td>\n",
       "      <td>02 21, 2014</td>\n",
       "    </tr>\n",
       "    <tr>\n",
       "      <th>...</th>\n",
       "      <td>...</td>\n",
       "      <td>...</td>\n",
       "      <td>...</td>\n",
       "      <td>...</td>\n",
       "      <td>...</td>\n",
       "      <td>...</td>\n",
       "      <td>...</td>\n",
       "      <td>...</td>\n",
       "      <td>...</td>\n",
       "    </tr>\n",
       "    <tr>\n",
       "      <th>10256</th>\n",
       "      <td>A14B2YH83ZXMPP</td>\n",
       "      <td>B00JBIVXGC</td>\n",
       "      <td>Lonnie M. Adams</td>\n",
       "      <td>[0, 0]</td>\n",
       "      <td>Great, just as expected.  Thank to all.</td>\n",
       "      <td>5</td>\n",
       "      <td>Five Stars</td>\n",
       "      <td>1405814400</td>\n",
       "      <td>07 20, 2014</td>\n",
       "    </tr>\n",
       "    <tr>\n",
       "      <th>10257</th>\n",
       "      <td>A1RPTVW5VEOSI</td>\n",
       "      <td>B00JBIVXGC</td>\n",
       "      <td>Michael J. Edelman</td>\n",
       "      <td>[0, 0]</td>\n",
       "      <td>I've been thinking about trying the Nanoweb st...</td>\n",
       "      <td>5</td>\n",
       "      <td>Long life, and for some players, a good econom...</td>\n",
       "      <td>1404259200</td>\n",
       "      <td>07 2, 2014</td>\n",
       "    </tr>\n",
       "    <tr>\n",
       "      <th>10258</th>\n",
       "      <td>AWCJ12KBO5VII</td>\n",
       "      <td>B00JBIVXGC</td>\n",
       "      <td>Michael L. Knapp</td>\n",
       "      <td>[0, 0]</td>\n",
       "      <td>I have tried coated strings in the past ( incl...</td>\n",
       "      <td>4</td>\n",
       "      <td>Good for coated.</td>\n",
       "      <td>1405987200</td>\n",
       "      <td>07 22, 2014</td>\n",
       "    </tr>\n",
       "    <tr>\n",
       "      <th>10259</th>\n",
       "      <td>A2Z7S8B5U4PAKJ</td>\n",
       "      <td>B00JBIVXGC</td>\n",
       "      <td>Rick Langdon \"Scriptor\"</td>\n",
       "      <td>[0, 0]</td>\n",
       "      <td>Well, MADE by Elixir and DEVELOPED with Taylor...</td>\n",
       "      <td>4</td>\n",
       "      <td>Taylor Made</td>\n",
       "      <td>1404172800</td>\n",
       "      <td>07 1, 2014</td>\n",
       "    </tr>\n",
       "    <tr>\n",
       "      <th>10260</th>\n",
       "      <td>A2WA8TDCTGUADI</td>\n",
       "      <td>B00JBIVXGC</td>\n",
       "      <td>TheTerrorBeyond</td>\n",
       "      <td>[0, 0]</td>\n",
       "      <td>These strings are really quite good, but I wou...</td>\n",
       "      <td>4</td>\n",
       "      <td>These strings are really quite good, but I wou...</td>\n",
       "      <td>1405468800</td>\n",
       "      <td>07 16, 2014</td>\n",
       "    </tr>\n",
       "  </tbody>\n",
       "</table>\n",
       "<p>10261 rows × 9 columns</p>\n",
       "</div>"
      ],
      "text/plain": [
       "           reviewerID        asin  \\\n",
       "0      A2IBPI20UZIR0U  1384719342   \n",
       "1      A14VAT5EAX3D9S  1384719342   \n",
       "2      A195EZSQDW3E21  1384719342   \n",
       "3      A2C00NNG1ZQQG2  1384719342   \n",
       "4       A94QU4C90B1AX  1384719342   \n",
       "...               ...         ...   \n",
       "10256  A14B2YH83ZXMPP  B00JBIVXGC   \n",
       "10257   A1RPTVW5VEOSI  B00JBIVXGC   \n",
       "10258   AWCJ12KBO5VII  B00JBIVXGC   \n",
       "10259  A2Z7S8B5U4PAKJ  B00JBIVXGC   \n",
       "10260  A2WA8TDCTGUADI  B00JBIVXGC   \n",
       "\n",
       "                                           reviewerName   helpful  \\\n",
       "0      cassandra tu \"Yeah, well, that's just like, u...    [0, 0]   \n",
       "1                                                  Jake  [13, 14]   \n",
       "2                         Rick Bennette \"Rick Bennette\"    [1, 1]   \n",
       "3                             RustyBill \"Sunday Rocker\"    [0, 0]   \n",
       "4                                         SEAN MASLANKA    [0, 0]   \n",
       "...                                                 ...       ...   \n",
       "10256                                   Lonnie M. Adams    [0, 0]   \n",
       "10257                                Michael J. Edelman    [0, 0]   \n",
       "10258                                  Michael L. Knapp    [0, 0]   \n",
       "10259                           Rick Langdon \"Scriptor\"    [0, 0]   \n",
       "10260                                   TheTerrorBeyond    [0, 0]   \n",
       "\n",
       "                                              reviewText  overall  \\\n",
       "0      Not much to write about here, but it does exac...        5   \n",
       "1      The product does exactly as it should and is q...        5   \n",
       "2      The primary job of this device is to block the...        5   \n",
       "3      Nice windscreen protects my MXL mic and preven...        5   \n",
       "4      This pop filter is great. It looks and perform...        5   \n",
       "...                                                  ...      ...   \n",
       "10256            Great, just as expected.  Thank to all.        5   \n",
       "10257  I've been thinking about trying the Nanoweb st...        5   \n",
       "10258  I have tried coated strings in the past ( incl...        4   \n",
       "10259  Well, MADE by Elixir and DEVELOPED with Taylor...        4   \n",
       "10260  These strings are really quite good, but I wou...        4   \n",
       "\n",
       "                                                 summary  unixReviewTime  \\\n",
       "0                                                   good      1393545600   \n",
       "1                                                   Jake      1363392000   \n",
       "2                                   It Does The Job Well      1377648000   \n",
       "3                          GOOD WINDSCREEN FOR THE MONEY      1392336000   \n",
       "4                  No more pops when I record my vocals.      1392940800   \n",
       "...                                                  ...             ...   \n",
       "10256                                         Five Stars      1405814400   \n",
       "10257  Long life, and for some players, a good econom...      1404259200   \n",
       "10258                                   Good for coated.      1405987200   \n",
       "10259                                        Taylor Made      1404172800   \n",
       "10260  These strings are really quite good, but I wou...      1405468800   \n",
       "\n",
       "        reviewTime  \n",
       "0      02 28, 2014  \n",
       "1      03 16, 2013  \n",
       "2      08 28, 2013  \n",
       "3      02 14, 2014  \n",
       "4      02 21, 2014  \n",
       "...            ...  \n",
       "10256  07 20, 2014  \n",
       "10257   07 2, 2014  \n",
       "10258  07 22, 2014  \n",
       "10259   07 1, 2014  \n",
       "10260  07 16, 2014  \n",
       "\n",
       "[10261 rows x 9 columns]"
      ]
     },
     "execution_count": 66,
     "metadata": {},
     "output_type": "execute_result"
    }
   ],
   "source": [
    "df = pd.read_json('data/Musical_Instruments_5.json', lines = True)\n",
    "df"
   ]
  },
  {
   "cell_type": "markdown",
   "metadata": {},
   "source": [
    "## 6. TXT\n",
    "**Son simplemente archivos donde hay texto**. Hemos visto que los CSVs y los JSON tienen su propio formato y extension. En el caso del .txt no tienen ninguno específico aunque no quita para que sus elementos estén separados por comas, y se pueda leer igualmente como si fuese un CSV.\n",
    "\n",
    "Cuando almancenamos datos siempre tienen una estructura, por lo que aunque sea un `.txt`, llevará los datos en formato json, separados por comas, tabulaciones, puntos y comas...\n",
    "\n",
    "Por ejemplo, si tenemos los datos de la liga guardados en un `.txt`, separados por tabulaciones, lo podremos leer con el `pd.read_csv()`."
   ]
  },
  {
   "cell_type": "code",
   "execution_count": 67,
   "metadata": {
    "collapsed": true,
    "jupyter": {
     "outputs_hidden": true
    },
    "tags": []
   },
   "outputs": [
    {
     "data": {
      "text/html": [
       "<div>\n",
       "<style scoped>\n",
       "    .dataframe tbody tr th:only-of-type {\n",
       "        vertical-align: middle;\n",
       "    }\n",
       "\n",
       "    .dataframe tbody tr th {\n",
       "        vertical-align: top;\n",
       "    }\n",
       "\n",
       "    .dataframe thead th {\n",
       "        text-align: right;\n",
       "    }\n",
       "</style>\n",
       "<table border=\"1\" class=\"dataframe\">\n",
       "  <thead>\n",
       "    <tr style=\"text-align: right;\">\n",
       "      <th></th>\n",
       "      <th>Unnamed: 0</th>\n",
       "      <th>season</th>\n",
       "      <th>division</th>\n",
       "      <th>round</th>\n",
       "      <th>localTeam</th>\n",
       "      <th>visitorTeam</th>\n",
       "      <th>localGoals</th>\n",
       "      <th>visitorGoals</th>\n",
       "      <th>date</th>\n",
       "      <th>timestamp</th>\n",
       "    </tr>\n",
       "  </thead>\n",
       "  <tbody>\n",
       "    <tr>\n",
       "      <th>0</th>\n",
       "      <td>26201</td>\n",
       "      <td>2005-06</td>\n",
       "      <td>1</td>\n",
       "      <td>1</td>\n",
       "      <td>Atletico de Bilbao</td>\n",
       "      <td>Real Sociedad</td>\n",
       "      <td>3</td>\n",
       "      <td>0</td>\n",
       "      <td>27/08/2005</td>\n",
       "      <td>1125093600</td>\n",
       "    </tr>\n",
       "    <tr>\n",
       "      <th>1</th>\n",
       "      <td>26202</td>\n",
       "      <td>2005-06</td>\n",
       "      <td>1</td>\n",
       "      <td>1</td>\n",
       "      <td>Alaves</td>\n",
       "      <td>Barcelona</td>\n",
       "      <td>0</td>\n",
       "      <td>0</td>\n",
       "      <td>27/08/2005</td>\n",
       "      <td>1125093600</td>\n",
       "    </tr>\n",
       "    <tr>\n",
       "      <th>2</th>\n",
       "      <td>26203</td>\n",
       "      <td>2005-06</td>\n",
       "      <td>1</td>\n",
       "      <td>1</td>\n",
       "      <td>Valencia</td>\n",
       "      <td>Betis</td>\n",
       "      <td>1</td>\n",
       "      <td>0</td>\n",
       "      <td>27/08/2005</td>\n",
       "      <td>1125093600</td>\n",
       "    </tr>\n",
       "    <tr>\n",
       "      <th>3</th>\n",
       "      <td>26204</td>\n",
       "      <td>2005-06</td>\n",
       "      <td>1</td>\n",
       "      <td>1</td>\n",
       "      <td>Atletico de Madrid</td>\n",
       "      <td>Zaragoza</td>\n",
       "      <td>0</td>\n",
       "      <td>0</td>\n",
       "      <td>28/08/2005</td>\n",
       "      <td>1125180000</td>\n",
       "    </tr>\n",
       "    <tr>\n",
       "      <th>4</th>\n",
       "      <td>26205</td>\n",
       "      <td>2005-06</td>\n",
       "      <td>1</td>\n",
       "      <td>1</td>\n",
       "      <td>Cadiz</td>\n",
       "      <td>Real Madrid</td>\n",
       "      <td>1</td>\n",
       "      <td>2</td>\n",
       "      <td>28/08/2005</td>\n",
       "      <td>1125180000</td>\n",
       "    </tr>\n",
       "  </tbody>\n",
       "</table>\n",
       "</div>"
      ],
      "text/plain": [
       "   Unnamed: 0   season  division  round           localTeam    visitorTeam  \\\n",
       "0       26201  2005-06         1      1  Atletico de Bilbao  Real Sociedad   \n",
       "1       26202  2005-06         1      1              Alaves      Barcelona   \n",
       "2       26203  2005-06         1      1            Valencia          Betis   \n",
       "3       26204  2005-06         1      1  Atletico de Madrid       Zaragoza   \n",
       "4       26205  2005-06         1      1               Cadiz    Real Madrid   \n",
       "\n",
       "   localGoals  visitorGoals        date   timestamp  \n",
       "0           3             0  27/08/2005  1125093600  \n",
       "1           0             0  27/08/2005  1125093600  \n",
       "2           1             0  27/08/2005  1125093600  \n",
       "3           0             0  28/08/2005  1125180000  \n",
       "4           1             2  28/08/2005  1125180000  "
      ]
     },
     "execution_count": 67,
     "metadata": {},
     "output_type": "execute_result"
    }
   ],
   "source": [
    "df = pd.read_csv('data/laligaTXT.txt', sep='\\t')\n",
    "df.head()"
   ]
  },
  {
   "cell_type": "markdown",
   "metadata": {},
   "source": [
    "Recuerda que la separación por tabulaciones, también tiene su propia extensión: el `.tsv`, que igualmente lo podremos leer con `read_csv()`."
   ]
  },
  {
   "cell_type": "code",
   "execution_count": 68,
   "metadata": {
    "collapsed": true,
    "jupyter": {
     "outputs_hidden": true
    },
    "tags": []
   },
   "outputs": [
    {
     "data": {
      "text/html": [
       "<div>\n",
       "<style scoped>\n",
       "    .dataframe tbody tr th:only-of-type {\n",
       "        vertical-align: middle;\n",
       "    }\n",
       "\n",
       "    .dataframe tbody tr th {\n",
       "        vertical-align: top;\n",
       "    }\n",
       "\n",
       "    .dataframe thead th {\n",
       "        text-align: right;\n",
       "    }\n",
       "</style>\n",
       "<table border=\"1\" class=\"dataframe\">\n",
       "  <thead>\n",
       "    <tr style=\"text-align: right;\">\n",
       "      <th></th>\n",
       "      <th>Unnamed: 0</th>\n",
       "      <th>season</th>\n",
       "      <th>division</th>\n",
       "      <th>round</th>\n",
       "      <th>localTeam</th>\n",
       "      <th>visitorTeam</th>\n",
       "      <th>localGoals</th>\n",
       "      <th>visitorGoals</th>\n",
       "      <th>date</th>\n",
       "      <th>timestamp</th>\n",
       "    </tr>\n",
       "  </thead>\n",
       "  <tbody>\n",
       "    <tr>\n",
       "      <th>0</th>\n",
       "      <td>26201</td>\n",
       "      <td>2005-06</td>\n",
       "      <td>1</td>\n",
       "      <td>1</td>\n",
       "      <td>Atletico de Bilbao</td>\n",
       "      <td>Real Sociedad</td>\n",
       "      <td>3</td>\n",
       "      <td>0</td>\n",
       "      <td>27/08/2005</td>\n",
       "      <td>1125093600</td>\n",
       "    </tr>\n",
       "    <tr>\n",
       "      <th>1</th>\n",
       "      <td>26202</td>\n",
       "      <td>2005-06</td>\n",
       "      <td>1</td>\n",
       "      <td>1</td>\n",
       "      <td>Alaves</td>\n",
       "      <td>Barcelona</td>\n",
       "      <td>0</td>\n",
       "      <td>0</td>\n",
       "      <td>27/08/2005</td>\n",
       "      <td>1125093600</td>\n",
       "    </tr>\n",
       "    <tr>\n",
       "      <th>2</th>\n",
       "      <td>26203</td>\n",
       "      <td>2005-06</td>\n",
       "      <td>1</td>\n",
       "      <td>1</td>\n",
       "      <td>Valencia</td>\n",
       "      <td>Betis</td>\n",
       "      <td>1</td>\n",
       "      <td>0</td>\n",
       "      <td>27/08/2005</td>\n",
       "      <td>1125093600</td>\n",
       "    </tr>\n",
       "    <tr>\n",
       "      <th>3</th>\n",
       "      <td>26204</td>\n",
       "      <td>2005-06</td>\n",
       "      <td>1</td>\n",
       "      <td>1</td>\n",
       "      <td>Atletico de Madrid</td>\n",
       "      <td>Zaragoza</td>\n",
       "      <td>0</td>\n",
       "      <td>0</td>\n",
       "      <td>28/08/2005</td>\n",
       "      <td>1125180000</td>\n",
       "    </tr>\n",
       "    <tr>\n",
       "      <th>4</th>\n",
       "      <td>26205</td>\n",
       "      <td>2005-06</td>\n",
       "      <td>1</td>\n",
       "      <td>1</td>\n",
       "      <td>Cadiz</td>\n",
       "      <td>Real Madrid</td>\n",
       "      <td>1</td>\n",
       "      <td>2</td>\n",
       "      <td>28/08/2005</td>\n",
       "      <td>1125180000</td>\n",
       "    </tr>\n",
       "  </tbody>\n",
       "</table>\n",
       "</div>"
      ],
      "text/plain": [
       "   Unnamed: 0   season  division  round           localTeam    visitorTeam  \\\n",
       "0       26201  2005-06         1      1  Atletico de Bilbao  Real Sociedad   \n",
       "1       26202  2005-06         1      1              Alaves      Barcelona   \n",
       "2       26203  2005-06         1      1            Valencia          Betis   \n",
       "3       26204  2005-06         1      1  Atletico de Madrid       Zaragoza   \n",
       "4       26205  2005-06         1      1               Cadiz    Real Madrid   \n",
       "\n",
       "   localGoals  visitorGoals        date   timestamp  \n",
       "0           3             0  27/08/2005  1125093600  \n",
       "1           0             0  27/08/2005  1125093600  \n",
       "2           1             0  27/08/2005  1125093600  \n",
       "3           0             0  28/08/2005  1125180000  \n",
       "4           1             2  28/08/2005  1125180000  "
      ]
     },
     "execution_count": 68,
     "metadata": {},
     "output_type": "execute_result"
    }
   ],
   "source": [
    "df = pd.read_csv('data/laligaTSV.tsv', sep='\\t')\n",
    "df.head()"
   ]
  },
  {
   "cell_type": "markdown",
   "metadata": {},
   "source": [
    "El método `read_csv()` no se ciñe únicamente a leer CSVs, sino a prácticamente cualquier archivo que lleve un acarácter concreto en la separación de sus campos. Si conocemos ese caracter, sabremos leer el archivo con `pandas`."
   ]
  },
  {
   "cell_type": "markdown",
   "metadata": {},
   "source": [
    "## 7. ZIP\n",
    "En ocasiones los datos que recibimos en nuestros programas están comprimidos, ya sea en un formato `.zip`, `.rar`, `.7z`, u otro tipo de archivo.\n",
    "\n",
    "En este apartado verás un ejemplo de cómo descomprimir archivos `.zip`. Para ello empleamos la librería `zipfile` que viene incluida en la instalación de Anaconda. [Tienes el enlace a la documentación para más detalle](https://docs.python.org/3/library/zipfile.html#zipfile-objects).\n",
    "\n",
    "Para extraer todos los archivos:"
   ]
  },
  {
   "cell_type": "code",
   "execution_count": 70,
   "metadata": {},
   "outputs": [],
   "source": [
    "import zipfile\n",
    "\n",
    "with zipfile.ZipFile('data/laligaZIP.zip') as zip_ref:\n",
    "    zip_ref.extractall('data')"
   ]
  },
  {
   "cell_type": "markdown",
   "metadata": {},
   "source": [
    "Si quieres descomprimir un archivo `.rar` [tendrás que descargarte un paquete como por ejemplo `unrar`.](https://pypi.org/project/unrar/)"
   ]
  },
  {
   "cell_type": "markdown",
   "metadata": {},
   "source": [
    "<table align=\"left\">\n",
    " <tr><td width=\"80\"><img src=\"./img/ejercicio.png\" style=\"width:auto;height:auto\"></td>\n",
    "     <td style=\"text-align:left\">\n",
    "         <h3>Ejercicio zip</h3>\n",
    "\n",
    "Consulta la documentación para extrar un único archivo, por nombre\n",
    "         \n",
    " </td></tr>\n",
    "</table>"
   ]
  },
  {
   "cell_type": "code",
   "execution_count": 72,
   "metadata": {},
   "outputs": [],
   "source": [
    "with zipfile.ZipFile('data/laligaZIP.zip') as zip_ref:\n",
    "    zip_ref.extract('laligaZIP.csv','data/extracted_files')\n",
    "    # data/extract_files es donde extraigo el archivo\n",
    "    # especificado. que en este caso es laligaZIP.csv"
   ]
  },
  {
   "cell_type": "markdown",
   "metadata": {},
   "source": [
    "## 8. pickle\n",
    "**`pickle` es el módulo que nos permite serializar y deserializar un objeto de Pyhton**. Esta operación lo que hace es traducirlo a un stream de bytes.\n",
    "\n",
    "A efectos prácticos, lo que nos permite es guardar objetos de Python, y recuperarlos más adelante."
   ]
  },
  {
   "cell_type": "code",
   "execution_count": 73,
   "metadata": {},
   "outputs": [],
   "source": [
    "import pickle\n",
    "# pickle se usa para almacenar algoritmos de prediccion\n",
    "# entrenados, por ejemplo\n",
    "\n",
    "df = pd.read_csv(\"data/laliga.csv\")\n",
    "\n",
    "with open('data/pepe.json') as json_file:\n",
    "    data = json.load(json_file)\n",
    "\n",
    "with open('data/importante', 'wb') as f:\n",
    "    pickle.dump(pers1, f)\n",
    "    pickle.dump(df, f)\n",
    "    pickle.dump(data, f)"
   ]
  },
  {
   "cell_type": "code",
   "execution_count": 74,
   "metadata": {},
   "outputs": [
    {
     "name": "stdout",
     "output_type": "stream",
     "text": [
      "<__main__.Persona object at 0x000001CEDF1E89D0>\n",
      "      Unnamed: 0   season  division  round           localTeam    visitorTeam  \\\n",
      "0          26201  2005-06         1      1  Atletico de Bilbao  Real Sociedad   \n",
      "1          26202  2005-06         1      1              Alaves      Barcelona   \n",
      "2          26203  2005-06         1      1            Valencia          Betis   \n",
      "3          26204  2005-06         1      1  Atletico de Madrid       Zaragoza   \n",
      "4          26205  2005-06         1      1               Cadiz    Real Madrid   \n",
      "...          ...      ...       ...    ...                 ...            ...   \n",
      "4935       36680  2017-18         1     38          Villarreal    Real Madrid   \n",
      "4936       36681  2017-18         1     38  Atletico de Bilbao        Espanol   \n",
      "4937       36682  2017-18         1     38           Barcelona  Real Sociedad   \n",
      "4938       36683  2017-18         1     38            Valencia      Deportivo   \n",
      "4939       36684  2017-18         1     38  Atletico de Madrid          Eibar   \n",
      "\n",
      "      localGoals  visitorGoals        date   timestamp  \n",
      "0              3             0  27/08/2005  1125093600  \n",
      "1              0             0  27/08/2005  1125093600  \n",
      "2              1             0  27/08/2005  1125093600  \n",
      "3              0             0  28/08/2005  1125180000  \n",
      "4              1             2  28/08/2005  1125180000  \n",
      "...          ...           ...         ...         ...  \n",
      "4935           2             2  19/05/2018  1526680800  \n",
      "4936           0             1  20/05/2018  1526767200  \n",
      "4937           1             0  20/05/2018  1526767200  \n",
      "4938           2             1  20/05/2018  1526767200  \n",
      "4939           2             2  20/05/2018  1526767200  \n",
      "\n",
      "[4940 rows x 10 columns]\n",
      "{'firstName': 'Jose', 'lastName': 'Carrasco', 'hobbies': ['Bricolaje', 'Tenis']}\n"
     ]
    }
   ],
   "source": [
    "with open('data/importante', 'rb') as f:\n",
    "    a = pickle.load(f)\n",
    "    b = pickle.load(f)\n",
    "    c = pickle.load(f)\n",
    "\n",
    "print(a)\n",
    "print(b)\n",
    "print(c)"
   ]
  },
  {
   "cell_type": "markdown",
   "metadata": {},
   "source": [
    "## 9. Encoding\n",
    "**Los strings se almacenan internamente en un conjunto de bytes**, caracter a caracter. Esta operación es lo que se conoce como ***encoding***, mientras que pasar de bytes a string sería *decoding*. Bien, ¿y eso en qué nos afecta? Dependiendo del encoding, se suelen almacenar en un espacio de bits de 0 a 255, es decir, en esa combinación de bits tienen que entrar todos los caracteres del lenguaje.\n",
    "\n",
    "El problema es que en toda esa combinación de bits no entran todos los caracteres del planeta, por lo que **dependiendo del encoding que usemos, una combinación de bits significará una cosa u otra**. Por ejemplo, una A mayuscula será lo mismo en el encodig europeo que en el americano, pero los bits reservados para representar una Ñ, en el encodig americano se traduce en otro caracter.\n",
    "\n",
    "Por tanto, **hay que tener claro en qué encoding está el archivo y con qué encoding lo vamos a leer**. [En la documentación](https://docs.python.org/3/library/codecs.html#encodings-and-unicode) puedes realizar esta comprobación. Hay algunos que te tienen que ir sonando:\n",
    "\n",
    "1. 'utf-8': normalmente se trabaja con este encodig que engloba la mayor parte de caracteres.\n",
    "2. 'unicode': estándar universal con el que no deberiamos tener problemas.\n",
    "3. 'ascii': encoding americano. Solo tiene 128 caracteres.\n",
    "4. 'latin': para oeste de Europa, Oceanía y Latinoamérica\n",
    "\n",
    "![imagen](./img/encoding.jpg)"
   ]
  },
  {
   "cell_type": "code",
   "execution_count": 75,
   "metadata": {},
   "outputs": [
    {
     "data": {
      "text/html": [
       "<div>\n",
       "<style scoped>\n",
       "    .dataframe tbody tr th:only-of-type {\n",
       "        vertical-align: middle;\n",
       "    }\n",
       "\n",
       "    .dataframe tbody tr th {\n",
       "        vertical-align: top;\n",
       "    }\n",
       "\n",
       "    .dataframe thead th {\n",
       "        text-align: right;\n",
       "    }\n",
       "</style>\n",
       "<table border=\"1\" class=\"dataframe\">\n",
       "  <thead>\n",
       "    <tr style=\"text-align: right;\">\n",
       "      <th></th>\n",
       "      <th>País</th>\n",
       "      <th>Comida</th>\n",
       "    </tr>\n",
       "  </thead>\n",
       "  <tbody>\n",
       "    <tr>\n",
       "      <th>0</th>\n",
       "      <td>España</td>\n",
       "      <td>paella</td>\n",
       "    </tr>\n",
       "    <tr>\n",
       "      <th>1</th>\n",
       "      <td>Japón</td>\n",
       "      <td>sushi</td>\n",
       "    </tr>\n",
       "    <tr>\n",
       "      <th>2</th>\n",
       "      <td>Francia</td>\n",
       "      <td>La Lamproie à la Bordelaise</td>\n",
       "    </tr>\n",
       "  </tbody>\n",
       "</table>\n",
       "</div>"
      ],
      "text/plain": [
       "      País                       Comida\n",
       "0   España                       paella\n",
       "1    Japón                        sushi\n",
       "2  Francia  La Lamproie à la Bordelaise"
      ]
     },
     "execution_count": 75,
     "metadata": {},
     "output_type": "execute_result"
    }
   ],
   "source": [
    "pd.read_csv('data/encoding.csv', encoding = 'utf-8')"
   ]
  },
  {
   "cell_type": "code",
   "execution_count": 76,
   "metadata": {},
   "outputs": [
    {
     "data": {
      "text/html": [
       "<div>\n",
       "<style scoped>\n",
       "    .dataframe tbody tr th:only-of-type {\n",
       "        vertical-align: middle;\n",
       "    }\n",
       "\n",
       "    .dataframe tbody tr th {\n",
       "        vertical-align: top;\n",
       "    }\n",
       "\n",
       "    .dataframe thead th {\n",
       "        text-align: right;\n",
       "    }\n",
       "</style>\n",
       "<table border=\"1\" class=\"dataframe\">\n",
       "  <thead>\n",
       "    <tr style=\"text-align: right;\">\n",
       "      <th></th>\n",
       "      <th>PaÃ­s</th>\n",
       "      <th>Comida</th>\n",
       "    </tr>\n",
       "  </thead>\n",
       "  <tbody>\n",
       "    <tr>\n",
       "      <th>0</th>\n",
       "      <td>EspaÃąa</td>\n",
       "      <td>paella</td>\n",
       "    </tr>\n",
       "    <tr>\n",
       "      <th>1</th>\n",
       "      <td>JapÃģn</td>\n",
       "      <td>sushi</td>\n",
       "    </tr>\n",
       "    <tr>\n",
       "      <th>2</th>\n",
       "      <td>Francia</td>\n",
       "      <td>La Lamproie Ã  la Bordelaise</td>\n",
       "    </tr>\n",
       "  </tbody>\n",
       "</table>\n",
       "</div>"
      ],
      "text/plain": [
       "     PaÃ­s                        Comida\n",
       "0  EspaÃąa                        paella\n",
       "1   JapÃģn                         sushi\n",
       "2  Francia  La Lamproie Ã  la Bordelaise"
      ]
     },
     "execution_count": 76,
     "metadata": {},
     "output_type": "execute_result"
    }
   ],
   "source": [
    "pd.read_csv('data/encoding.csv', encoding='iso8859_10')"
   ]
  },
  {
   "cell_type": "code",
   "execution_count": 77,
   "metadata": {},
   "outputs": [
    {
     "data": {
      "text/html": [
       "<div>\n",
       "<style scoped>\n",
       "    .dataframe tbody tr th:only-of-type {\n",
       "        vertical-align: middle;\n",
       "    }\n",
       "\n",
       "    .dataframe tbody tr th {\n",
       "        vertical-align: top;\n",
       "    }\n",
       "\n",
       "    .dataframe thead th {\n",
       "        text-align: right;\n",
       "    }\n",
       "</style>\n",
       "<table border=\"1\" class=\"dataframe\">\n",
       "  <thead>\n",
       "    <tr style=\"text-align: right;\">\n",
       "      <th></th>\n",
       "      <th>PaÃ­s</th>\n",
       "      <th>Comida</th>\n",
       "    </tr>\n",
       "  </thead>\n",
       "  <tbody>\n",
       "    <tr>\n",
       "      <th>0</th>\n",
       "      <td>EspaÃ±a</td>\n",
       "      <td>paella</td>\n",
       "    </tr>\n",
       "    <tr>\n",
       "      <th>1</th>\n",
       "      <td>JapÃ³n</td>\n",
       "      <td>sushi</td>\n",
       "    </tr>\n",
       "    <tr>\n",
       "      <th>2</th>\n",
       "      <td>Francia</td>\n",
       "      <td>La Lamproie Ã  la Bordelaise</td>\n",
       "    </tr>\n",
       "  </tbody>\n",
       "</table>\n",
       "</div>"
      ],
      "text/plain": [
       "     PaÃ­s                        Comida\n",
       "0  EspaÃ±a                        paella\n",
       "1   JapÃ³n                         sushi\n",
       "2  Francia  La Lamproie Ã  la Bordelaise"
      ]
     },
     "execution_count": 77,
     "metadata": {},
     "output_type": "execute_result"
    }
   ],
   "source": [
    "pd.read_csv('data/encoding.csv', encoding = 'latin1')"
   ]
  },
  {
   "cell_type": "markdown",
   "metadata": {},
   "source": [
    "## 10. Archivos y carpetas\n",
    "Resulta de gran utilidad automatizar lecturas/escrituras/borrado/movimientos de archivos entre carpetas. Si tenemos un proceso definido en Python, podremos ejecutarlo tantas veces queramos y de este modo evitar dedicarle tiempo tareas tediosas y rutinarias. Para ello tendremos que apoyarnos en el módulo de Python `os`.\n",
    "\n",
    "Lo primero de todo es saber en qué directorio estamos trabajando. Esto es fundamental para elegir bien la ruta relativa."
   ]
  },
  {
   "cell_type": "code",
   "execution_count": 78,
   "metadata": {},
   "outputs": [
    {
     "data": {
      "text/plain": [
       "'c:\\\\Users\\\\Usuario\\\\Documents\\\\Data Science BBK\\\\Data_Analyst\\\\3-Sources\\\\Archivos\\\\Teoria'"
      ]
     },
     "execution_count": 78,
     "metadata": {},
     "output_type": "execute_result"
    }
   ],
   "source": [
    "import os\n",
    "os.getcwd()"
   ]
  },
  {
   "cell_type": "markdown",
   "metadata": {},
   "source": [
    "El directorio de trabajo lo podríamos cambiar si quisiéramos, por ejemplo, al escritorio."
   ]
  },
  {
   "cell_type": "code",
   "execution_count": 82,
   "metadata": {},
   "outputs": [
    {
     "name": "stdout",
     "output_type": "stream",
     "text": [
      "c:\\Users\\Usuario\\Desktop\n",
      "c:\\Users\\Usuario\\Documents\\Data Science BBK\\Data_Analyst\\3-Sources\\Archivos\\Teoria\n"
     ]
    }
   ],
   "source": [
    "os.chdir('c:/Users/Usuario/Desktop') # Indicar el directorio del escritorio\n",
    "print(os.getcwd())\n",
    "os.chdir('c:\\\\Users\\\\Usuario\\\\Documents\\\\Data Science BBK\\\\Data_Analyst\\\\3-Sources\\\\Archivos\\\\Teoria') # Indicar el directorio de este notebook\n",
    "print(os.getcwd())"
   ]
  },
  {
   "cell_type": "markdown",
   "metadata": {},
   "source": [
    "Podemos juntar rutas en un único path. Realiza un concatenado con barras entendibles por Windows."
   ]
  },
  {
   "cell_type": "code",
   "execution_count": 85,
   "metadata": {},
   "outputs": [
    {
     "data": {
      "text/plain": [
       "'c:\\\\Users\\\\Usuario\\\\Documents\\\\Data Science BBK\\\\Data_Analyst\\\\3-Sources\\\\Archivos\\\\Teoria'"
      ]
     },
     "execution_count": 85,
     "metadata": {},
     "output_type": "execute_result"
    }
   ],
   "source": [
    "os.path.join('c:\\\\Users\\\\Usuario\\\\Documents\\\\Data Science BBK\\\\Data_Analyst\\\\3-Sources\\\\Archivos', 'Teoria')\n",
    "# Indicar el directorio de este notebook menos el nombre de la\n",
    "# carpeta 'Teoria'."
   ]
  },
  {
   "cell_type": "markdown",
   "metadata": {},
   "source": [
    "Si quieres buscar algún tipo de archivo concreto, tienes varias opciones:\n",
    "- Buscar por nombre\n",
    "- Buscar por extensión\n",
    "\n",
    "En función de lo que encuentres, realizarás una operación u otra. Ahora bien, igualmente para buscar, tendrás que recorrer todos los archivos que estén en un directorio o en varios directorios. Para listar todos los ARCHIVOS y CARPETAS que hay en el directorio actual de trabajo, utilizamos `os.listdir()`."
   ]
  },
  {
   "cell_type": "code",
   "execution_count": 86,
   "metadata": {},
   "outputs": [
    {
     "data": {
      "text/plain": [
       "'c:\\\\Users\\\\Usuario\\\\Documents\\\\Data Science BBK\\\\Data_Analyst\\\\3-Sources\\\\Archivos\\\\Teoria'"
      ]
     },
     "execution_count": 86,
     "metadata": {},
     "output_type": "execute_result"
    }
   ],
   "source": [
    "os.getcwd()"
   ]
  },
  {
   "cell_type": "code",
   "execution_count": 81,
   "metadata": {},
   "outputs": [
    {
     "data": {
      "text/plain": [
       "['data', 'img', 'Lectura_Escritura_Archivos.ipynb']"
      ]
     },
     "execution_count": 81,
     "metadata": {},
     "output_type": "execute_result"
    }
   ],
   "source": [
    "os.listdir()"
   ]
  },
  {
   "cell_type": "markdown",
   "metadata": {},
   "source": [
    "Voy a quedarme con todos los notebooks del actual directorio de trabajo."
   ]
  },
  {
   "cell_type": "code",
   "execution_count": 87,
   "metadata": {},
   "outputs": [
    {
     "name": "stdout",
     "output_type": "stream",
     "text": [
      "Notebook Lectura_Escritura_Archivos.ipynb\n"
     ]
    }
   ],
   "source": [
    "for i in os.listdir():\n",
    "    if i.endswith('.ipynb'):\n",
    "        print(\"Notebook\", i)"
   ]
  },
  {
   "cell_type": "markdown",
   "metadata": {},
   "source": [
    "Si quiero acceder sólo a los directorios"
   ]
  },
  {
   "cell_type": "code",
   "execution_count": 91,
   "metadata": {},
   "outputs": [
    {
     "name": "stdout",
     "output_type": "stream",
     "text": [
      "directorio data\n",
      "directorio img\n"
     ]
    }
   ],
   "source": [
    "for i in os.listdir():\n",
    "    if '.' not in i:\n",
    "        print(\"directorio\", i)"
   ]
  },
  {
   "cell_type": "markdown",
   "metadata": {},
   "source": [
    "Otro método interesante para bucear en los archivos y carpetas de un directorio concreto es el `os.walk()`. Va a devoler un iterable que podremos recorrer en un for y obtener en formato tupla todos los archivos, subcarpetas y ficheros de subcarpetas. Para cada elemento de la tupla tenemos:\n",
    "- El directorio donde está apuntando.\n",
    "- Los directorios que hay ahí.\n",
    "- Los archivos que hay ahí."
   ]
  },
  {
   "cell_type": "code",
   "execution_count": 93,
   "metadata": {},
   "outputs": [
    {
     "data": {
      "text/plain": [
       "[('c:\\\\Users\\\\Usuario\\\\Documents\\\\Data Science BBK\\\\Data_Analyst\\\\3-Sources\\\\Archivos\\\\Teoria',\n",
       "  ['data', 'img'],\n",
       "  ['Lectura_Escritura_Archivos.ipynb']),\n",
       " ('c:\\\\Users\\\\Usuario\\\\Documents\\\\Data Science BBK\\\\Data_Analyst\\\\3-Sources\\\\Archivos\\\\Teoria\\\\data',\n",
       "  ['extracted_files'],\n",
       "  ['class_hlf.py',\n",
       "   'class_hlf.txt',\n",
       "   'data_file.json',\n",
       "   'dog_breeds.txt',\n",
       "   'ejercicio.csv',\n",
       "   'ejercicio_clase.csv',\n",
       "   'encoding.csv',\n",
       "   'file_write.txt',\n",
       "   'file_writes.txt',\n",
       "   'importante',\n",
       "   'importante.txt',\n",
       "   'laliga.csv',\n",
       "   'laliga.xlsx',\n",
       "   'laliga4.csv',\n",
       "   'laligaExcelWrite.xlsx',\n",
       "   'laligaPC.csv',\n",
       "   'laligaTSV.tsv',\n",
       "   'laligaTXT.txt',\n",
       "   'laligaWrite.csv',\n",
       "   'laligaZIP.csv',\n",
       "   'laligaZIP.zip',\n",
       "   'Musical_Instruments_5.json',\n",
       "   'pepe.json',\n",
       "   'poblacion.csv',\n",
       "   'preguntas.py',\n",
       "   'prueba.py']),\n",
       " ('c:\\\\Users\\\\Usuario\\\\Documents\\\\Data Science BBK\\\\Data_Analyst\\\\3-Sources\\\\Archivos\\\\Teoria\\\\data\\\\extracted_files',\n",
       "  [],\n",
       "  ['laligaZIP.csv']),\n",
       " ('c:\\\\Users\\\\Usuario\\\\Documents\\\\Data Science BBK\\\\Data_Analyst\\\\3-Sources\\\\Archivos\\\\Teoria\\\\img',\n",
       "  [],\n",
       "  ['ejercicio.png',\n",
       "   'ejercicios.png',\n",
       "   'encoding.jpg',\n",
       "   'error.png',\n",
       "   'file.png',\n",
       "   'importante',\n",
       "   'json_image.png',\n",
       "   'path.png',\n",
       "   'python.jpg',\n",
       "   'python.png'])]"
      ]
     },
     "execution_count": 93,
     "metadata": {},
     "output_type": "execute_result"
    }
   ],
   "source": [
    "result_generator = os.walk(os.getcwd())\n",
    "\n",
    "files_result = [x for x in result_generator]\n",
    "files_result"
   ]
  },
  {
   "cell_type": "markdown",
   "metadata": {},
   "source": [
    "¿Qué podemos hacer dentro de un directorio, aparte de listar ficheros y subdirectorios? Las principales operaciones serían:\n",
    "- Crear o eliminar directorios\n",
    "- Crear o eliminar ficheros\n",
    "- Mover ficheros"
   ]
  },
  {
   "cell_type": "code",
   "execution_count": 94,
   "metadata": {},
   "outputs": [],
   "source": [
    "os.mkdir('direct_prueba')"
   ]
  },
  {
   "cell_type": "code",
   "execution_count": 95,
   "metadata": {},
   "outputs": [],
   "source": [
    "os.rmdir('direct_prueba')"
   ]
  },
  {
   "cell_type": "code",
   "execution_count": 96,
   "metadata": {},
   "outputs": [],
   "source": [
    "f = open(\"fichero.txt\", \"w\")\n",
    "\n",
    "for i in range(10):\n",
    "    f.write(\"Line:\" + str(i))\n",
    "\n",
    "f.close()"
   ]
  },
  {
   "cell_type": "code",
   "execution_count": 97,
   "metadata": {},
   "outputs": [
    {
     "data": {
      "text/plain": [
       "'data\\\\importante.txt'"
      ]
     },
     "execution_count": 97,
     "metadata": {},
     "output_type": "execute_result"
    }
   ],
   "source": [
    "f = open(\"importante.txt\", \"w\")\n",
    "\n",
    "for i in range(10):\n",
    "    f.write(\"Line:\" + str(i))\n",
    "\n",
    "f.close()\n",
    "\n",
    "\n",
    "import shutil\n",
    "shutil.move(\"importante.txt\", \"data\")"
   ]
  },
  {
   "cell_type": "code",
   "execution_count": 98,
   "metadata": {},
   "outputs": [],
   "source": [
    "os.remove('fichero.txt')"
   ]
  },
  {
   "cell_type": "code",
   "execution_count": 99,
   "metadata": {},
   "outputs": [
    {
     "data": {
      "text/plain": [
       "'c:\\\\Users\\\\Usuario\\\\Documents\\\\Data Science BBK\\\\Data_Analyst\\\\3-Sources\\\\Archivos\\\\Teoria'"
      ]
     },
     "execution_count": 99,
     "metadata": {},
     "output_type": "execute_result"
    }
   ],
   "source": [
    "os.path.dirname(os.path.abspath('__file__'))"
   ]
  },
  {
   "cell_type": "code",
   "execution_count": 100,
   "metadata": {},
   "outputs": [
    {
     "data": {
      "text/plain": [
       "'c:\\\\Users\\\\Usuario\\\\Documents\\\\Data Science BBK\\\\Data_Analyst\\\\3-Sources\\\\Archivos\\\\Teoria\\\\__file__'"
      ]
     },
     "execution_count": 100,
     "metadata": {},
     "output_type": "execute_result"
    }
   ],
   "source": [
    "os.path.abspath('__file__')"
   ]
  }
 ],
 "metadata": {
  "kernelspec": {
   "display_name": "base",
   "language": "python",
   "name": "python3"
  },
  "language_info": {
   "codemirror_mode": {
    "name": "ipython",
    "version": 3
   },
   "file_extension": ".py",
   "mimetype": "text/x-python",
   "name": "python",
   "nbconvert_exporter": "python",
   "pygments_lexer": "ipython3",
   "version": "3.11.3"
  },
  "vscode": {
   "interpreter": {
    "hash": "3c06e3e46abf38078fe4dac36a0085ec2b134ebbd73dd076183d243eeca6918f"
   }
  }
 },
 "nbformat": 4,
 "nbformat_minor": 4
}
