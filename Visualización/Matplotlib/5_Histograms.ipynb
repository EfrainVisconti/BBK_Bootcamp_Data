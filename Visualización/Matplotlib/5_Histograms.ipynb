{
 "cells": [
  {
   "attachments": {},
   "cell_type": "markdown",
   "metadata": {
    "colab_type": "text",
    "id": "Y-C_w4xZ0U2G"
   },
   "source": [
    "# Histogramas"
   ]
  },
  {
   "attachments": {},
   "cell_type": "markdown",
   "metadata": {
    "colab_type": "text",
    "id": "6vMugtnS0U2G"
   },
   "source": [
    "Un histograma simple puede ser un excelente primer paso para comprender un conjunto de datos.\n",
    "Anteriormente, vimos una vista previa de la función de histograma de Matplotlib, que crea un histograma básico en una línea, una vez que se realizan las importaciones normales de texto estándar:"
   ]
  },
  {
   "cell_type": "code",
   "execution_count": 2,
   "metadata": {
    "colab": {},
    "colab_type": "code",
    "id": "ojCjBbF-0U2H"
   },
   "outputs": [],
   "source": [
    "%matplotlib inline\n",
    "import numpy as np\n",
    "import matplotlib.pyplot as plt\n",
    "plt.style.use('seaborn-v0_8-white')\n",
    "\n",
    "data = np.random.randn(1000)"
   ]
  },
  {
   "cell_type": "code",
   "execution_count": 3,
   "metadata": {},
   "outputs": [
    {
     "data": {
      "text/plain": [
       "array([-2.46209478e-01, -4.05752899e-02, -2.70067303e+00, -7.90976870e-01,\n",
       "       -7.59468079e-01, -2.84017998e+00, -3.12513523e-01,  5.72897518e-01,\n",
       "        8.78564274e-01,  1.41758921e+00, -6.12480385e-01, -1.18566568e+00,\n",
       "        6.79169626e-01,  8.10386040e-02, -2.35768131e+00, -1.00653951e+00,\n",
       "        1.88239911e+00,  2.26032418e-01, -9.07266971e-01,  2.53544783e-01,\n",
       "        1.80575730e+00, -1.28065024e-02,  2.12416617e-01, -1.31591859e+00,\n",
       "        1.50924274e+00, -1.27233869e+00,  2.74714029e-02, -7.14488710e-01,\n",
       "        1.03620247e+00,  1.31596947e+00,  4.48228064e-01, -7.37333661e-01,\n",
       "        1.32410349e+00,  3.09451026e-02, -5.95037819e-01, -1.33709853e+00,\n",
       "       -1.55260402e-01,  5.73121941e-02,  3.13334518e-01,  8.66026880e-01,\n",
       "        2.16520234e+00, -3.61999552e-01, -1.42364083e+00, -7.14184025e-01,\n",
       "        3.18655562e-01, -8.30945841e-01, -1.47295510e+00, -1.54597952e+00,\n",
       "       -1.18412483e+00, -1.44357009e-01, -1.30112389e+00,  4.93729096e-01,\n",
       "       -5.13366297e-01,  8.82211508e-01,  6.09554042e-01, -3.02464680e-01,\n",
       "       -7.05713714e-01,  4.26576624e-01, -1.13855500e+00, -1.47561241e+00,\n",
       "        1.10584142e+00,  6.86296719e-02, -4.90502121e-01,  1.22985955e+00,\n",
       "       -3.48968624e-01,  7.11040276e-01,  2.55218619e+00,  7.11259546e-01,\n",
       "       -9.41879966e-02,  1.78929480e-01, -4.45429796e-01, -2.02240491e+00,\n",
       "        1.62348848e+00, -1.05263761e+00, -5.07430270e-01, -8.33039266e-01,\n",
       "        6.10816748e-01, -2.05726811e+00, -2.12153897e-01, -5.20310279e-02,\n",
       "       -3.73660534e-01, -9.03300558e-01,  2.62122639e-01,  4.52407785e-01,\n",
       "       -4.74671841e-01,  4.57358477e-01,  1.18649089e+00, -6.69653814e-01,\n",
       "        8.53546712e-01,  2.20484509e-01,  1.81322046e-01, -1.39680985e+00,\n",
       "        3.07602363e-01, -2.19713677e-01,  6.90147923e-01,  7.28696202e-01,\n",
       "        3.64776025e-02,  5.03006643e-01, -2.55540654e-01, -1.01748696e+00,\n",
       "        4.94197404e-01,  3.12475122e-02,  5.43083357e-01, -2.77446308e-01,\n",
       "        6.62000313e-02,  4.51803991e-01,  1.14411649e+00,  4.34891893e-03,\n",
       "       -4.70242296e-01, -3.03354729e-01, -7.68644761e-02, -8.98434899e-01,\n",
       "       -6.64956196e-01, -2.86264023e-01,  5.51919956e-01, -3.01593657e-01,\n",
       "        9.10457397e-01,  1.42489579e+00, -1.46023632e+00,  3.29408268e-01,\n",
       "       -1.93129522e+00,  2.61558561e-01, -5.41129414e-01,  2.25054742e+00,\n",
       "        9.92467912e-01,  3.58427024e-01,  5.80339428e-01,  3.66438309e-01,\n",
       "        4.64535004e-01,  4.15065074e-01,  5.67195164e-01,  2.93570364e-01,\n",
       "        2.08839475e+00, -2.34474533e+00,  1.56256287e+00,  5.52578444e-02,\n",
       "       -1.81970829e+00, -1.88353065e+00,  1.84654966e+00, -1.48063698e+00,\n",
       "       -4.76795690e-01,  2.09349709e+00,  1.58292937e+00,  8.06959604e-01,\n",
       "        1.81632018e-01, -1.21298439e-02,  1.44825071e-01,  3.12386883e-01,\n",
       "        1.16524063e+00,  4.86714814e-01,  1.23563412e+00, -2.48751953e-01,\n",
       "       -1.27738989e+00, -3.61452963e-01, -1.16415624e+00,  9.85190960e-02,\n",
       "       -5.99003963e-01, -2.38989722e-01, -7.95898472e-01, -1.13255557e+00,\n",
       "       -5.09417272e-01,  5.73382606e-01, -4.95500366e-01,  3.25584055e-01,\n",
       "       -8.57996357e-01,  2.06502520e+00, -9.24952769e-01,  1.47536188e+00,\n",
       "        1.34754351e+00, -2.17868690e+00,  7.03494021e-02, -1.83522377e-02,\n",
       "        1.56808993e+00, -2.87097626e-02, -4.60524533e-01, -1.29400630e+00,\n",
       "        1.05483783e+00,  1.21360868e+00, -1.73276010e+00,  8.83027076e-01,\n",
       "        1.68645081e+00,  6.52441486e-02, -5.78469254e-02, -6.01804947e-01,\n",
       "       -9.32118535e-01, -8.62084868e-01,  1.43060799e+00, -6.46131490e-02,\n",
       "        1.18529344e+00,  1.61607684e-01,  7.77528544e-01,  8.71509214e-02,\n",
       "        1.21465039e+00,  6.88431323e-01,  5.46730395e-01,  1.55910161e+00,\n",
       "       -1.40608280e+00, -5.22700216e-01,  1.00273615e+00,  1.06342957e+00,\n",
       "       -8.15734641e-01,  8.39267287e-01, -5.03003727e-02,  8.50306186e-01,\n",
       "       -3.19169686e-01,  1.07838040e+00,  5.66955409e-01,  3.70945196e-01,\n",
       "       -3.82583341e-01,  1.89993636e-01,  7.38726221e-01, -2.58387839e-01,\n",
       "       -1.14411060e+00,  6.96399135e-01,  6.60992616e-01, -2.15564781e+00,\n",
       "       -8.63124370e-01,  2.54696325e+00, -5.77930768e-01, -1.17536559e+00,\n",
       "       -1.82699592e-01, -9.69490365e-01,  3.85254118e-01,  7.79668411e-01,\n",
       "        2.29669420e+00,  3.60131664e-01, -1.98927515e+00, -1.53132262e+00,\n",
       "        5.81533327e-01, -9.25582623e-01, -1.21209552e+00, -3.03512562e-01,\n",
       "       -9.46468765e-02,  3.97357594e-01,  4.21431395e-01, -1.09840273e-01,\n",
       "       -1.01707012e-01, -3.85756033e-01, -1.23038743e+00,  4.26350157e-01,\n",
       "        2.69439700e-01,  1.58749646e+00, -2.06249717e+00, -1.53734130e-01,\n",
       "       -1.09082415e+00,  1.40704326e-01,  2.10999186e+00,  1.39742441e+00,\n",
       "       -9.14793630e-01, -2.31496766e+00, -4.86181566e-01,  3.40398204e-01,\n",
       "        7.30625420e-01,  1.64248899e-01,  1.08683098e+00, -6.32920463e-01,\n",
       "        6.00476850e-01,  1.14883953e+00,  5.80050057e-01, -6.57718300e-01,\n",
       "        6.55113912e-01,  4.45033286e-01,  2.84596364e-01,  1.17091786e-01,\n",
       "        7.95348740e-01,  2.85565769e+00,  8.72537259e-01,  2.08108301e-01,\n",
       "        1.32065123e+00, -2.34276030e-01,  2.50332603e-02, -6.27983243e-01,\n",
       "        1.96795577e+00, -1.33875750e+00, -1.31697107e+00, -3.05187240e-01,\n",
       "       -2.35724202e-01,  3.48117171e-01,  8.93325239e-01, -6.47981620e-01,\n",
       "       -1.52490836e+00, -2.96519284e-01,  1.17866659e+00, -1.98884458e+00,\n",
       "        2.38051525e+00, -3.30082276e-01, -2.77194769e-01, -4.09776357e-01,\n",
       "       -1.70706568e+00,  9.18478976e-01, -1.68217403e-04, -1.99097139e-01,\n",
       "        6.04085290e-01,  6.76473018e-01,  2.57721932e-01, -2.59163060e-01,\n",
       "       -1.44435593e+00,  3.35423446e-01, -2.89270928e+00, -1.11497092e-01,\n",
       "       -5.53602073e-02, -5.39975423e-01,  7.22919377e-01, -1.45722225e+00,\n",
       "        8.58519582e-01,  9.50587213e-01,  3.39196754e-01,  7.94534949e-01,\n",
       "        6.21426916e-01,  1.36045671e+00, -2.30393960e-01, -2.02257366e+00,\n",
       "        8.59559762e-01,  5.39863727e-01, -2.66785358e-01, -8.40699231e-01,\n",
       "        2.74618272e+00, -1.51282138e+00,  1.30652140e+00, -4.99293091e-01,\n",
       "        1.33251864e+00, -1.05797522e+00,  2.38543740e-02,  1.29724333e+00,\n",
       "       -5.81729977e-01, -1.01427771e-01, -5.87023333e-01,  3.17826988e-01,\n",
       "        1.09191786e+00,  1.39449306e-02,  1.37932136e-01,  9.97904830e-01,\n",
       "       -9.48054868e-01,  1.92206780e+00,  5.44155497e-01,  8.22301565e-01,\n",
       "        2.91632795e-01,  1.13544251e+00,  8.00401130e-01,  1.52487579e+00,\n",
       "        4.13502680e-01, -1.22620111e+00, -4.27435555e-01,  1.56952161e-01,\n",
       "        2.29009528e+00,  1.06555178e+00,  6.19036397e-01, -6.20641814e-01,\n",
       "       -1.52364022e-01, -5.93065947e-01,  4.20316368e-01,  1.84443432e+00,\n",
       "       -1.49733035e+00, -3.32021875e-01,  3.22206549e-01,  1.86940742e-01,\n",
       "        1.62028999e+00,  2.24108161e-01, -5.92246722e-02, -1.98307551e+00,\n",
       "       -8.35613040e-01,  1.25435200e+00,  5.58673874e-01,  9.15997392e-01,\n",
       "        1.14674635e+00, -6.88481118e-01,  1.08538400e+00,  7.46533780e-01,\n",
       "        5.99251683e-01, -8.63369703e-01,  6.84552610e-01,  1.12397659e+00,\n",
       "       -3.03304647e-01,  5.28200896e-01,  3.80664636e-01,  6.54767817e-01,\n",
       "        2.38703274e-01,  5.15695451e-01,  3.63539026e-02, -4.45944621e-01,\n",
       "        2.20874203e-01, -5.39088209e-01,  1.17393945e+00, -2.13115754e+00,\n",
       "       -4.13016138e-01, -1.85966354e+00, -1.62971655e+00, -6.20909478e-01,\n",
       "        5.12067561e-01, -3.63421242e-01,  4.99722356e-01,  4.10196590e-01,\n",
       "       -1.30025433e-02,  3.84275436e-01, -5.61918181e-01,  4.19450878e-01,\n",
       "        4.81145629e-01,  7.09474554e-01,  1.23307735e-01,  1.01223411e-01,\n",
       "        1.46209414e+00, -3.26528643e-01, -1.17789678e+00, -1.23988782e-01,\n",
       "       -3.82227365e-01,  1.42657792e+00,  1.68695797e+00, -1.47762505e+00,\n",
       "       -4.62392380e-01, -6.78621577e-01, -5.02193208e-01, -5.28310103e-01,\n",
       "       -2.63080706e+00, -2.58911885e+00,  2.12659776e-01,  7.48271235e-01,\n",
       "        1.67212453e+00, -2.75797500e-01, -8.84331421e-01,  3.29567697e-01,\n",
       "       -7.56550058e-01,  1.78610127e+00,  1.92359146e-01,  2.25405250e-01,\n",
       "        1.99036655e-01,  1.85037460e-01, -2.77908299e-01,  3.21867630e-01,\n",
       "       -1.08835077e+00, -2.01549230e-01,  9.33991808e-01,  2.56398219e-01,\n",
       "        1.56134481e-02, -2.47698335e+00,  8.76596321e-01, -8.70062876e-01,\n",
       "       -6.31548756e-01, -3.18886517e-01,  5.05417571e-02, -1.04270377e+00,\n",
       "       -2.06934450e+00, -6.42816455e-01,  5.97479938e-01,  1.52655430e-01,\n",
       "        1.14051074e+00,  2.62277627e-01, -1.89198447e+00, -1.90138492e+00,\n",
       "        1.38047003e-02,  1.59512934e-01, -9.41493901e-01, -4.65185038e-01,\n",
       "       -3.63019015e-01,  1.71844312e+00, -7.96187846e-02, -7.17733360e-01,\n",
       "        8.46447854e-01,  2.04835665e+00, -1.70090420e+00, -6.06395542e-01,\n",
       "        4.07889045e-01,  1.84812197e+00, -5.00273881e-01, -5.86055071e-01,\n",
       "       -5.56239445e-01, -1.35164617e+00,  1.01076399e+00,  8.89072566e-01,\n",
       "        1.35782570e+00,  1.07980653e+00, -4.24776084e-01,  4.88552344e-01,\n",
       "       -3.75000042e-01,  4.56800043e-01,  2.47607957e+00, -1.93031177e+00,\n",
       "       -6.71290210e-01, -9.75881037e-01, -8.00307871e-02,  2.09364193e+00,\n",
       "       -1.52628180e-01,  8.63367345e-01, -7.82378130e-01, -1.48541307e-01,\n",
       "       -7.44317724e-01,  2.07404120e-01, -8.38512110e-02,  6.83154479e-01,\n",
       "        4.75037145e-01, -6.26545011e-02, -4.96454054e-01, -7.45194054e-02,\n",
       "        1.19794064e-02, -6.58642441e-01,  4.76385946e-01,  4.67346957e-01,\n",
       "        8.50533694e-01,  2.31426494e+00, -1.81193200e+00,  3.09577564e-01,\n",
       "        8.25121841e-01,  3.08278034e-01, -8.01888948e-01, -3.94513029e-01,\n",
       "        2.90517616e-02, -4.34502702e-01, -1.50429367e-01, -1.60886969e+00,\n",
       "       -2.35290236e-01,  1.01643701e+00,  1.28120180e+00, -1.79842326e-01,\n",
       "       -2.86918656e-03,  1.49059812e-01, -8.48744598e-01, -4.62898682e-01,\n",
       "        1.54779503e+00,  3.96201783e-01,  1.66101173e+00, -1.55747848e+00,\n",
       "        9.72625938e-01,  1.50809457e+00, -7.43550052e-01, -2.05986793e+00,\n",
       "       -1.51982721e-01,  1.46012971e+00, -2.00135110e-01,  2.49955207e-01,\n",
       "       -5.52600493e-01, -1.24966325e+00, -1.55043566e-01, -2.30674145e-01,\n",
       "        4.58664799e-01,  3.46658928e-01, -4.91750085e-01,  2.80037668e-01,\n",
       "        1.00135427e+00, -7.83570432e-01, -1.67382035e+00, -1.36573310e+00,\n",
       "        4.50367940e-01, -8.07073917e-01,  1.60478857e+00,  6.34021084e-01,\n",
       "        3.27519245e-01,  5.77449007e-01,  1.37637628e+00, -1.01528547e+00,\n",
       "        3.47793134e-01,  2.74156580e-01,  3.37488846e-01,  2.29839638e+00,\n",
       "       -1.53105013e-01,  4.33706978e-01, -2.70478543e-01, -1.55973023e+00,\n",
       "        3.05430994e-01, -3.55699224e-01, -1.11175826e+00,  2.46767866e+00,\n",
       "        8.80596280e-01,  2.14092082e+00, -1.16685993e+00, -1.28639592e+00,\n",
       "       -1.20788439e+00,  1.45683417e-01,  1.27310500e+00,  1.39697746e+00,\n",
       "        9.26996248e-01,  4.55150458e-01, -2.10372682e+00, -1.88615017e+00,\n",
       "       -1.40945361e-01,  8.50090188e-01,  1.86407372e-01,  6.32519871e-01,\n",
       "        6.36541705e-01, -9.50803896e-01,  1.07275269e+00, -8.23054529e-01,\n",
       "        9.48401894e-01,  9.63421427e-01, -6.24287240e-02,  1.39948560e+00,\n",
       "        8.42328977e-01, -1.31368834e-01, -9.84744519e-01,  3.29258797e-02,\n",
       "       -1.22865025e+00,  1.55507965e+00, -1.77645775e+00, -4.61920254e-01,\n",
       "       -1.75076547e+00,  3.48445482e-01,  8.13086007e-01,  4.29161933e-01,\n",
       "       -8.14448772e-01, -2.03071099e-01, -2.86765564e-01, -1.59250828e-01,\n",
       "       -1.61331437e+00, -9.86313379e-01, -1.77217327e+00,  1.48552932e+00,\n",
       "        4.31951596e-01, -8.27298270e-02,  1.97311427e+00, -2.09533157e-01,\n",
       "       -7.58175565e-01, -8.76247330e-01, -9.12687363e-02, -1.46205123e-01,\n",
       "       -2.21557282e-01, -1.84960966e-01, -7.62185336e-01,  8.26130121e-01,\n",
       "        2.59511498e-01, -1.04349201e+00,  1.89342762e+00,  1.79449512e+00,\n",
       "       -6.02179766e-02,  1.16105053e+00,  1.46460034e+00, -3.84981071e-01,\n",
       "       -1.51399611e+00, -2.77633206e-01, -1.15106622e+00,  5.62089806e-01,\n",
       "        1.38950320e+00,  4.61810053e-01,  8.63939618e-01,  2.47891139e+00,\n",
       "       -9.98027801e-01, -2.26391365e+00, -1.64220501e+00,  2.03086340e-01,\n",
       "        2.25000733e-01, -1.69464578e+00,  1.12540414e+00, -1.33187742e+00,\n",
       "       -5.74240148e-03, -3.29630432e+00, -3.12985514e-01,  2.74602368e-01,\n",
       "       -9.98471492e-01, -1.37759929e+00,  7.42410197e-01,  9.19024825e-01,\n",
       "        8.70330844e-01, -1.97426073e-01, -1.71330850e+00, -7.58161387e-01,\n",
       "        5.37542863e-01,  5.92077567e-01, -1.03674173e-01,  7.71166722e-01,\n",
       "        1.05323427e+00,  2.43264972e+00,  6.67353794e-01,  6.40491271e-01,\n",
       "        2.06207788e-01,  7.98304923e-01, -1.83922650e+00, -1.47629945e-01,\n",
       "        3.12558598e-01,  1.75038977e-02,  4.57123166e-01, -7.31591814e-01,\n",
       "        1.42272120e-02, -1.22809736e+00,  6.94541136e-01, -1.48245082e+00,\n",
       "       -9.20730498e-01, -1.65731998e+00,  3.36948406e-01,  1.13841216e+00,\n",
       "       -1.18726488e+00,  2.57289848e-01, -1.79951367e+00,  5.82658226e-01,\n",
       "       -8.24308877e-01, -1.89394151e-01,  6.74788443e-01,  6.27516935e-01,\n",
       "       -7.39850339e-01, -1.44672790e+00, -3.42048520e-01,  3.88390436e-02,\n",
       "       -1.53299533e+00, -2.05218928e-01,  2.83993474e-01, -7.54975415e-01,\n",
       "        1.19797571e+00,  6.40069028e-01, -5.99704348e-01, -1.33121439e+00,\n",
       "        4.04746830e-01, -1.15742256e-01,  1.24224370e+00, -2.52072612e+00,\n",
       "       -1.11341552e+00, -7.69263976e-01, -5.84622443e-01, -9.07313814e-02,\n",
       "       -1.36005634e-01, -4.78948434e-01, -2.13988716e+00,  6.98092623e-01,\n",
       "       -1.92273192e-01,  3.26750980e-01, -2.26754129e-01,  6.08252398e-01,\n",
       "        1.39095613e+00,  2.09468365e-01, -5.54775398e-01, -5.30262777e-01,\n",
       "        5.28485163e-01, -1.48198118e+00, -8.77042063e-01,  4.02758734e-01,\n",
       "        2.75079801e-02,  1.12944521e+00, -1.51411720e+00,  7.44608967e-01,\n",
       "        6.06426705e-01,  1.13558536e+00, -2.25714826e-01, -4.17827360e-01,\n",
       "        2.48503959e-01, -7.76904855e-01, -8.43587119e-01,  1.20698193e+00,\n",
       "        3.49974634e-01, -1.17775998e+00,  8.69805774e-01,  9.77933394e-01,\n",
       "       -9.02391967e-02,  6.29532229e-01, -2.82429434e-01, -6.31970027e-01,\n",
       "       -1.83278978e+00, -5.49505990e-01, -2.57938871e-01,  6.45687125e-01,\n",
       "       -1.72597825e-01, -1.22589235e+00,  9.06951913e-01, -3.76094455e-01,\n",
       "        9.15383374e-01,  2.19077184e-02,  2.38123344e-01, -4.42017290e-01,\n",
       "        5.28487079e-01, -8.39759606e-01, -3.93206029e-01, -8.57572908e-02,\n",
       "       -7.49849211e-01, -1.03460126e+00,  4.83966825e-01,  6.04214548e-01,\n",
       "       -1.37398590e+00, -1.17074887e+00,  1.73943135e+00, -1.47148506e+00,\n",
       "        4.46934840e-01, -4.55304477e-01,  1.20505313e+00,  7.43748281e-01,\n",
       "        2.00892743e-01, -1.69132750e-01,  9.37849691e-01, -1.54471003e+00,\n",
       "        5.35910776e-01,  6.59910359e-01, -8.98095018e-02,  2.56322575e-01,\n",
       "       -4.60103403e-01, -7.49470762e-01,  5.78635675e-01,  2.62835173e-01,\n",
       "       -1.97600815e+00, -5.93488711e-01, -9.88067446e-01,  1.79998662e-01,\n",
       "        3.75770050e-01,  3.29614775e-01,  1.14009632e+00,  9.62692801e-03,\n",
       "        9.76391617e-02, -5.12257415e-02,  1.74535563e-01,  6.65506603e-01,\n",
       "       -9.13357209e-01, -1.40330839e-01, -3.49373974e-01,  2.19680975e+00,\n",
       "        8.25331520e-01,  9.35523972e-01, -3.06609093e-01, -1.58081278e+00,\n",
       "       -5.86073661e-01,  1.16238471e-01, -2.70330389e-01, -1.24136780e+00,\n",
       "        3.96470450e-01,  1.73110113e+00, -8.52425337e-02, -6.15600554e-01,\n",
       "       -7.81483173e-01, -6.26501089e-01,  9.78432103e-01, -7.52460186e-01,\n",
       "        2.77439550e+00, -7.26171287e-01,  2.70051419e-01, -7.75181792e-01,\n",
       "        1.81450099e-01, -1.56238365e+00, -5.97540750e-01,  2.24013415e-01,\n",
       "       -9.01989642e-01,  9.76357150e-02,  8.12787147e-01, -1.88983662e+00,\n",
       "       -7.05019593e-01, -1.75059964e-01,  2.31370528e-01, -1.08976377e-01,\n",
       "       -1.73443375e+00,  1.66568996e-01, -1.48358817e-01, -1.08804560e-01,\n",
       "       -1.75187915e+00,  1.05338155e+00, -1.18412456e+00,  4.41706522e-01,\n",
       "        4.05666861e-01,  2.15819346e+00,  1.43910381e+00,  5.75114528e-01,\n",
       "        4.30334973e-01,  3.53735437e-02,  2.45755404e-01, -3.36586637e-01,\n",
       "        7.39129959e-01,  7.59417699e-01, -8.92109898e-01,  9.61095507e-02,\n",
       "        1.17794575e+00,  1.22212679e-01, -1.55639428e+00,  9.95705842e-02,\n",
       "        5.40570354e-02, -1.93092422e-01,  4.00961935e-01,  4.84888757e-01,\n",
       "        3.75243116e-03, -7.09783460e-01, -3.13240953e-01, -1.49362887e+00,\n",
       "        5.76690293e-01, -1.53983549e+00,  1.03362246e+00,  2.00492126e-01,\n",
       "        7.31328643e-01, -5.68198046e-01, -3.98086489e-01, -1.83635158e+00,\n",
       "        1.58565884e-01,  7.27864531e-01,  3.49031388e-01,  1.70089899e-02,\n",
       "        1.03609650e+00,  2.41482633e+00,  1.88567138e-01, -2.02570641e+00,\n",
       "       -1.41948151e-01,  2.13093592e-02,  3.75906396e-01,  2.13869367e+00,\n",
       "       -1.88356530e-01,  9.34182347e-01,  9.30659089e-01, -1.72726559e-01,\n",
       "       -6.59945263e-02,  9.13712603e-01,  8.51868393e-01,  7.54989227e-01,\n",
       "       -1.04365079e-01,  3.80208386e-01, -2.77311205e-01, -5.11331673e-01,\n",
       "       -7.25448128e-01, -4.16245609e-01,  5.76222847e-01,  1.85822426e+00,\n",
       "        5.00083516e-01,  1.29225413e-01,  4.91546375e-01,  4.92789564e-01,\n",
       "        3.46012062e-01, -1.53819973e+00,  7.60010166e-02,  1.47033020e+00,\n",
       "       -8.95916364e-01,  1.05889040e+00, -1.87007462e+00,  6.94825983e-01,\n",
       "       -2.39285462e-01,  1.22278662e+00,  3.38677421e-01,  1.61068143e+00,\n",
       "        7.61677102e-01, -2.53736534e-01,  1.29819655e-01,  6.45176190e-01,\n",
       "       -5.70062681e-01, -1.43798553e+00,  1.66893084e+00, -1.97167944e-01,\n",
       "       -9.92235291e-03,  7.27343414e-01, -9.82979937e-01, -6.61875611e-01,\n",
       "        3.73491378e-01,  8.46862557e-01,  4.29865553e-02,  1.61532829e+00,\n",
       "       -1.57174270e+00,  2.41297096e-01, -3.64986198e-01,  1.12203690e+00,\n",
       "       -1.79515012e+00,  4.96348514e-01, -6.25837117e-01, -3.21194042e-01,\n",
       "       -3.00852958e-01, -9.15374398e-01,  2.92996820e-02, -6.28561802e-01,\n",
       "        2.77637677e-01,  7.77350163e-01, -8.15315793e-01, -1.04622693e+00,\n",
       "        4.44552112e-01,  4.67518248e-01, -1.53406401e+00,  1.78964012e+00,\n",
       "        1.57552945e+00,  3.79512432e-03,  1.42983852e+00,  1.16801459e-01,\n",
       "       -4.41086661e-01, -1.34563164e+00,  1.70426105e+00, -8.38418106e-01,\n",
       "        5.67046605e-01,  9.47675777e-01,  3.65939047e-02,  9.22703252e-01,\n",
       "       -9.66118639e-01,  2.55201773e-01, -5.96669311e-01, -1.25856729e+00,\n",
       "       -8.09090836e-01,  5.40237857e-01, -8.23846787e-01, -1.67749291e+00,\n",
       "       -1.47359475e-01,  1.20160695e+00, -1.18684132e+00,  5.61855533e-02,\n",
       "        1.54846377e-01, -4.01224942e-01,  1.10742829e+00, -9.00234063e-01,\n",
       "        1.90241662e-01,  2.91004064e-02, -7.55937247e-01,  1.32453860e+00,\n",
       "        2.55972144e-01,  1.07825686e+00,  1.53043033e+00,  7.79670369e-01,\n",
       "        6.59098758e-01, -1.05283556e+00, -1.09499940e+00,  1.07257198e+00,\n",
       "       -8.53703138e-01,  4.23192264e-01, -1.94690902e-01, -1.00220146e+00,\n",
       "       -8.83714788e-01, -1.60037274e+00, -7.90712370e-01, -9.21920774e-01,\n",
       "       -3.71995263e-01, -4.55089826e-01,  6.12223815e-01, -8.41851368e-01])"
      ]
     },
     "execution_count": 3,
     "metadata": {},
     "output_type": "execute_result"
    }
   ],
   "source": [
    "data"
   ]
  },
  {
   "cell_type": "code",
   "execution_count": 4,
   "metadata": {
    "colab": {
     "base_uri": "https://localhost:8080/",
     "height": 273
    },
    "colab_type": "code",
    "collapsed": false,
    "id": "K_oqUj7K0U2I",
    "jupyter": {
     "outputs_hidden": false
    },
    "outputId": "d46aa15c-5d3f-4ab2-d533-cd0fa9e7764f"
   },
   "outputs": [
    {
     "data": {
      "image/png": "[encoded data removed]",
      "text/plain": [
       "<Figure size 640x480 with 1 Axes>"
      ]
     },
     "metadata": {},
     "output_type": "display_data"
    }
   ],
   "source": [
    "plt.hist(data);"
   ]
  },
  {
   "cell_type": "code",
   "execution_count": 5,
   "metadata": {},
   "outputs": [
    {
     "name": "stdout",
     "output_type": "stream",
     "text": [
      "[  4  14  72 107 196 254 206  98  33  16]\n",
      "[-3.29630432 -2.68110812 -2.06591192 -1.45071572 -0.83551952 -0.22032332\n",
      "  0.39487289  1.01006909  1.62526529  2.24046149  2.85565769]\n"
     ]
    }
   ],
   "source": [
    "counts, bin_edges = np.histogram(data, bins=10)\n",
    "print(counts)\n",
    "print(bin_edges)"
   ]
  },
  {
   "cell_type": "code",
   "execution_count": 6,
   "metadata": {},
   "outputs": [
    {
     "data": {
      "text/plain": [
       "-3.296304324599283"
      ]
     },
     "metadata": {},
     "output_type": "display_data"
    },
    {
     "data": {
      "text/plain": [
       "2.8556576916604857"
      ]
     },
     "metadata": {},
     "output_type": "display_data"
    },
    {
     "data": {
      "text/plain": [
       "6.151962016259769"
      ]
     },
     "metadata": {},
     "output_type": "display_data"
    },
    {
     "data": {
      "text/plain": [
       "0.6151962016259769"
      ]
     },
     "metadata": {},
     "output_type": "display_data"
    },
    {
     "name": "stdout",
     "output_type": "stream",
     "text": [
      "-3.296304324599283 -2.6811081229733063 -2.0659119213473294 -1.4507157197213525 -0.8355195180953756 -0.22032331646939873 0.39487288515657815 1.0100690867825546 1.625265288408532 2.2404614900345092 2.8556576916604857\n"
     ]
    }
   ],
   "source": [
    "display(min(data), max(data), max(data)-min(data), (max(data)-min(data))/10)\n",
    "\n",
    "inter = (max(data)-min(data))/10\n",
    "print(min(data), min(data)+inter,min(data)+2*inter,min(data)+3*inter, min(data)+4*inter, min(data)+5*inter,\n",
    "        min(data)+6*inter, min(data)+7*inter, min(data)+8*inter, min(data)+9*inter, min(data)+10*inter)"
   ]
  },
  {
   "attachments": {},
   "cell_type": "markdown",
   "metadata": {
    "colab_type": "text",
    "id": "ZNMo4mBW0U2J"
   },
   "source": [
    "La función ``hist()`` tiene muchas opciones para ajustar tanto el cálculo como la visualización;\n",
    "Aquí hay un ejemplo de un histograma más personalizado:"
   ]
  },
  {
   "cell_type": "code",
   "execution_count": 7,
   "metadata": {
    "colab": {
     "base_uri": "https://localhost:8080/",
     "height": 273
    },
    "colab_type": "code",
    "collapsed": false,
    "id": "-XxbzM6O0U2J",
    "jupyter": {
     "outputs_hidden": false
    },
    "outputId": "1b237d64-84b9-476d-82d7-461fa1ca6850"
   },
   "outputs": [
    {
     "data": {
      "image/png": "[encoded data removed]",
      "text/plain": [
       "<Figure size 640x480 with 1 Axes>"
      ]
     },
     "metadata": {},
     "output_type": "display_data"
    }
   ],
   "source": [
    "plt.hist(data,\n",
    "         bins = 100,\n",
    "        alpha = 0.7,\n",
    "        color = 'steelblue');"
   ]
  },
  {
   "attachments": {},
   "cell_type": "markdown",
   "metadata": {
    "colab_type": "text",
    "id": "cUfVoLz40U2K"
   },
   "source": [
    "La documentación ``plt.hist`` tiene más información sobre otras opciones de personalización disponibles.\n",
    "La transparencia ``alpha`` es muy útil al comparar histogramas de varias distribuciones:"
   ]
  },
  {
   "cell_type": "code",
   "execution_count": 8,
   "metadata": {
    "colab": {
     "base_uri": "https://localhost:8080/",
     "height": 273
    },
    "colab_type": "code",
    "collapsed": false,
    "id": "Ufxj8fiF0U2K",
    "jupyter": {
     "outputs_hidden": false
    },
    "outputId": "686e3b04-8fe2-412f-e5b8-76f429686f45"
   },
   "outputs": [
    {
     "data": {
      "image/png": "[encoded data removed]",
      "text/plain": [
       "<Figure size 640x480 with 1 Axes>"
      ]
     },
     "metadata": {},
     "output_type": "display_data"
    }
   ],
   "source": [
    "x1 = np.random.normal(0, 0.8, 1000)\n",
    "x2 = np.random.normal(-2, 1, 1000)\n",
    "x3 = np.random.normal(3, 2, 1000)\n",
    "\n",
    "kwargs = dict(alpha = 0.5, bins = 20)\n",
    "\n",
    "plt.hist(x1, **kwargs)\n",
    "plt.hist(x2, **kwargs)\n",
    "plt.hist(x3, **kwargs);"
   ]
  },
  {
   "attachments": {},
   "cell_type": "markdown",
   "metadata": {
    "colab_type": "text",
    "id": "3JWU7L-z0U2M"
   },
   "source": [
    "Si desea simplemente calcular el histograma (es decir, contar el número de puntos en una sección/bin determinada) y no mostrarlo, la función ``np.histogram()`` está disponible:"
   ]
  },
  {
   "cell_type": "code",
   "execution_count": 9,
   "metadata": {
    "colab": {},
    "colab_type": "code",
    "collapsed": false,
    "id": "ZFkGjxpT0U2M",
    "jupyter": {
     "outputs_hidden": false
    },
    "outputId": "f9d714a5-2db8-4270-c581-50da10791fc6"
   },
   "outputs": [
    {
     "name": "stdout",
     "output_type": "stream",
     "text": [
      "[  4  14  72 107 196 254 206  98  33  16]\n"
     ]
    }
   ],
   "source": [
    "counts, bin_edges = np.histogram(data, bins=10)\n",
    "print(counts)"
   ]
  },
  {
   "cell_type": "code",
   "execution_count": 10,
   "metadata": {},
   "outputs": [
    {
     "data": {
      "text/plain": [
       "array([-3.29630432, -2.68110812, -2.06591192, -1.45071572, -0.83551952,\n",
       "       -0.22032332,  0.39487289,  1.01006909,  1.62526529,  2.24046149,\n",
       "        2.85565769])"
      ]
     },
     "execution_count": 10,
     "metadata": {},
     "output_type": "execute_result"
    }
   ],
   "source": [
    "bin_edges"
   ]
  },
  {
   "attachments": {},
   "cell_type": "markdown",
   "metadata": {
    "colab_type": "text",
    "id": "ShcOcBx60U2N"
   },
   "source": [
    "## Histogramas bidimensionales y binnings\n",
    "\n",
    "Así como creamos histogramas en una dimensión dividiendo la recta numérica en secciones/bins, también podemos crear histogramas en dos dimensiones dividiendo puntos entre secciones/bins bidimensionales.\n",
    "Aquí veremos brevemente varias formas de hacer esto.\n",
    "Comenzaremos definiendo algunos datos: una matriz ``x`` e ``y`` extraída de una distribución gaussiana multivariada:"
   ]
  },
  {
   "cell_type": "code",
   "execution_count": 11,
   "metadata": {
    "colab": {},
    "colab_type": "code",
    "collapsed": false,
    "id": "C-QZ_iuW0U2N",
    "jupyter": {
     "outputs_hidden": false
    }
   },
   "outputs": [],
   "source": [
    "mean = [0, 0]\n",
    "cov = [[1, 1], [1, 2]]\n",
    "x, y = np.random.multivariate_normal(mean, cov, 10000).T"
   ]
  },
  {
   "attachments": {},
   "cell_type": "markdown",
   "metadata": {
    "colab_type": "text",
    "id": "Q1VuQlMf0U2P"
   },
   "source": [
    "### ``plt.hist2d``: histograma bidimensional\n",
    "\n",
    "Una forma sencilla de trazar un histograma bidimensional es utilizar la función ``plt.hist2d`` de Matplotlib:"
   ]
  },
  {
   "cell_type": "code",
   "execution_count": 12,
   "metadata": {},
   "outputs": [
    {
     "data": {
      "image/png": "[encoded data removed]",
      "text/plain": [
       "<Figure size 640x480 with 1 Axes>"
      ]
     },
     "metadata": {},
     "output_type": "display_data"
    }
   ],
   "source": [
    "plt.hist(x);"
   ]
  },
  {
   "cell_type": "code",
   "execution_count": 13,
   "metadata": {},
   "outputs": [
    {
     "data": {
      "image/png": "[encoded data removed]",
      "text/plain": [
       "<Figure size 640x480 with 1 Axes>"
      ]
     },
     "metadata": {},
     "output_type": "display_data"
    }
   ],
   "source": [
    "plt.hist(y);"
   ]
  },
  {
   "cell_type": "code",
   "execution_count": 24,
   "metadata": {
    "colab": {},
    "colab_type": "code",
    "collapsed": false,
    "id": "pbNv12zQ0U2P",
    "jupyter": {
     "outputs_hidden": false
    },
    "outputId": "8b08dea5-4430-40ab-f8be-e0e9716ba3cf"
   },
   "outputs": [
    {
     "data": {
      "image/png": "[encoded data removed]",
      "text/plain": [
       "<Figure size 640x480 with 2 Axes>"
      ]
     },
     "metadata": {},
     "output_type": "display_data"
    }
   ],
   "source": [
    "plt.hist2d(x, y, bins = 10, cmap = 'Blues');\n",
    "cb = plt.colorbar() # paleta de colores\n",
    "cb.set_label('counts in bin');"
   ]
  },
  {
   "attachments": {},
   "cell_type": "markdown",
   "metadata": {
    "colab_type": "text",
    "id": "7ViPYof40U2Q"
   },
   "source": [
    "Al igual que con ``plt.hist``, ``plt.hist2d`` tiene una serie de opciones adicionales para ajustar la gráfica y el agrupamiento, que están muy bien definidas en la documentación de la función.\n",
    "Además, así como ``plt.hist`` tiene una contraparte en ``np.histogram``, ``plt.hist2d`` tiene una contraparte en ``np.histogram2d``, que puede usarse de la siguiente manera:"
   ]
  },
  {
   "cell_type": "code",
   "execution_count": 21,
   "metadata": {
    "colab": {},
    "colab_type": "code",
    "collapsed": false,
    "id": "BgiBlR7d0U2Q",
    "jupyter": {
     "outputs_hidden": false
    }
   },
   "outputs": [],
   "source": [
    "counts, xedges, yedges = np.histogram2d(x, y, bins=10)"
   ]
  },
  {
   "cell_type": "code",
   "execution_count": 25,
   "metadata": {},
   "outputs": [
    {
     "data": {
      "text/plain": [
       "array([-4.21079736, -3.4339441 , -2.65709084, -1.88023757, -1.10338431,\n",
       "       -0.32653104,  0.45032222,  1.22717549,  2.00402875,  2.78088201,\n",
       "        3.55773528])"
      ]
     },
     "metadata": {},
     "output_type": "display_data"
    },
    {
     "data": {
      "text/plain": [
       "array([-5.61931543, -4.51435228, -3.40938914, -2.30442599, -1.19946284,\n",
       "       -0.09449969,  1.01046345,  2.1154266 ,  3.22038975,  4.3253529 ,\n",
       "        5.43031604])"
      ]
     },
     "metadata": {},
     "output_type": "display_data"
    },
    {
     "data": {
      "text/plain": [
       "array([[2.000e+00, 3.000e+00, 1.000e+00, 0.000e+00, 0.000e+00, 0.000e+00,\n",
       "        0.000e+00, 0.000e+00, 0.000e+00, 0.000e+00],\n",
       "       [5.000e+00, 8.000e+00, 1.600e+01, 9.000e+00, 1.000e+00, 0.000e+00,\n",
       "        0.000e+00, 0.000e+00, 0.000e+00, 0.000e+00],\n",
       "       [3.000e+00, 2.100e+01, 9.300e+01, 8.200e+01, 3.500e+01, 5.000e+00,\n",
       "        0.000e+00, 0.000e+00, 0.000e+00, 0.000e+00],\n",
       "       [1.000e+00, 2.200e+01, 1.740e+02, 3.890e+02, 3.530e+02, 8.700e+01,\n",
       "        7.000e+00, 0.000e+00, 0.000e+00, 0.000e+00],\n",
       "       [0.000e+00, 1.100e+01, 1.140e+02, 5.880e+02, 9.270e+02, 5.390e+02,\n",
       "        1.160e+02, 8.000e+00, 1.000e+00, 0.000e+00],\n",
       "       [0.000e+00, 1.000e+00, 3.900e+01, 2.970e+02, 1.019e+03, 1.186e+03,\n",
       "        4.850e+02, 5.300e+01, 2.000e+00, 0.000e+00],\n",
       "       [0.000e+00, 0.000e+00, 1.000e+00, 4.700e+01, 3.560e+02, 8.870e+02,\n",
       "        6.760e+02, 1.970e+02, 2.600e+01, 0.000e+00],\n",
       "       [0.000e+00, 0.000e+00, 0.000e+00, 3.000e+00, 3.700e+01, 2.090e+02,\n",
       "        3.690e+02, 2.150e+02, 3.700e+01, 4.000e+00],\n",
       "       [0.000e+00, 0.000e+00, 0.000e+00, 0.000e+00, 3.000e+00, 2.900e+01,\n",
       "        5.700e+01, 7.500e+01, 4.200e+01, 2.000e+00],\n",
       "       [0.000e+00, 0.000e+00, 0.000e+00, 0.000e+00, 0.000e+00, 0.000e+00,\n",
       "        3.000e+00, 1.100e+01, 9.000e+00, 2.000e+00]])"
      ]
     },
     "metadata": {},
     "output_type": "display_data"
    }
   ],
   "source": [
    "display(xedges, yedges, counts)"
   ]
  },
  {
   "attachments": {},
   "cell_type": "markdown",
   "metadata": {
    "colab_type": "text",
    "id": "O6pgLxpI0U2R"
   },
   "source": [
    "Para conocer la generalización de este histograma agrupado en dimensiones superiores a dos, consulte la función ``np.histogramdd``."
   ]
  },
  {
   "attachments": {},
   "cell_type": "markdown",
   "metadata": {
    "colab_type": "text",
    "id": "_UbnczsI0U2T"
   },
   "source": [
    "### ``plt.hexbin``: secciones/bins hexagonales\n",
    "\n",
    "El histograma bidimensional crea un mosaico de cuadrados a lo largo de los ejes.\n",
    "Otra forma natural para este tipo de mosaico es el hexágono regular.\n",
    "Para este propósito, Matplotlib proporciona la rutina ``plt.hexbin``, que representará un conjunto de datos bidimensional agrupado dentro de una cuadrícula de hexágonos:"
   ]
  },
  {
   "cell_type": "code",
   "execution_count": 23,
   "metadata": {
    "colab": {},
    "colab_type": "code",
    "collapsed": false,
    "id": "WpvIhfLO0U2T",
    "jupyter": {
     "outputs_hidden": false
    },
    "outputId": "f16a8c65-9ec5-46a4-a797-e32999272357"
   },
   "outputs": [
    {
     "data": {
      "image/png": "[encoded data removed]",
      "text/plain": [
       "<Figure size 640x480 with 2 Axes>"
      ]
     },
     "metadata": {},
     "output_type": "display_data"
    }
   ],
   "source": [
    "plt.hexbin(x, y, gridsize = 20, cmap = 'Blues')\n",
    "cb = plt.colorbar(label='count in bin');"
   ]
  },
  {
   "attachments": {},
   "cell_type": "markdown",
   "metadata": {
    "colab_type": "text",
    "id": "O88qiHmH0U2U"
   },
   "source": [
    "``plt.hexbin`` tiene varias opciones interesantes, incluida la capacidad de especificar pesos para cada punto y cambiar la salida en cada sección/bin a cualquier agregado NumPy (media ponderada, desviación estándar ponderada, etc.)."
   ]
  }
 ],
 "metadata": {
  "colab": {
   "name": "EDA-Intro-visualization_MatplotLib.ipynb",
   "provenance": []
  },
  "kernelspec": {
   "display_name": "base",
   "language": "python",
   "name": "python3"
  },
  "language_info": {
   "codemirror_mode": {
    "name": "ipython",
    "version": 3
   },
   "file_extension": ".py",
   "mimetype": "text/x-python",
   "name": "python",
   "nbconvert_exporter": "python",
   "pygments_lexer": "ipython3",
   "version": "3.11.3"
  },
  "vscode": {
   "interpreter": {
    "hash": "3c06e3e46abf38078fe4dac36a0085ec2b134ebbd73dd076183d243eeca6918f"
   }
  }
 },
 "nbformat": 4,
 "nbformat_minor": 4
}
