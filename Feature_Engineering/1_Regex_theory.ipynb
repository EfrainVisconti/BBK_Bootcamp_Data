{
 "cells": [
  {
   "attachments": {},
   "cell_type": "markdown",
   "metadata": {},
   "source": [
    "# REGEX\n",
    "## (Regular Expressions)\n",
    "\n",
    "Los datos no siempre están organizados, formateados ni estructurados de forma homogénea.\n",
    "\n",
    "Una parte importante del trabajo de un _Data Scientist_ consiste en limpiar los datos **(Data Cleaning)**\n",
    "\n",
    "Para ello, existen técnicas como **Regex**\n",
    "\n",
    "Las expresiones regulares están conformadas por secuencias de caracteres que nos permiten encontrar patrones de búsqueda.\n",
    "\n",
    "# [¡VAMOS A ELLO!](https://regex101.com/)"
   ]
  },
  {
   "cell_type": "code",
   "execution_count": 1,
   "metadata": {},
   "outputs": [],
   "source": [
    "import re\n",
    "\n",
    "text_to_search = '''\n",
    "abcdefghijklmnopqurtuvwxyz\n",
    "ABCDEFGHIJKLMNOPQRSTUVWXYZ\n",
    "áéíóú\n",
    "1234567890\n",
    "Ha HaHa ?Ha\n",
    "MetaCharacters (Need to be escaped):\n",
    ". ^ $ * + ? { } [ ] \\ | ( )\n",
    "miguelnievas*com\n",
    "miguelnievas.com\n",
    "miguelnievasocom\n",
    "miguelnievas hola\n",
    "321-555-4321\n",
    "123.555.1234\n",
    "123*555*1234\n",
    "800-555-1234\n",
    "900-555-1234\n",
    "9005551234\n",
    "900055501234\n",
    "Mr. Scha2fer\n",
    "Mr Smith\n",
    "Ms Davis\n",
    "Mrs. Robinson\n",
    "Mr. T\n",
    "Mr. ()\n",
    "\n",
    "cat\n",
    "mat\n",
    "pat\n",
    "bat\n",
    "at\n",
    "'''\n"
   ]
  },
  {
   "cell_type": "code",
   "execution_count": 2,
   "metadata": {},
   "outputs": [
    {
     "data": {
      "text/plain": [
       "'\\nabcdefghijklmnopqurtuvwxyz\\nABCDEFGHIJKLMNOPQRSTUVWXYZ\\náéíóú\\n1234567890\\nHa HaHa ?Ha\\nMetaCharacters (Need to be escaped):\\n. ^ $ * + ? { } [ ] \\\\ | ( )\\nmiguelnievas*com\\nmiguelnievas.com\\nmiguelnievasocom\\nmiguelnievas hola\\n321-555-4321\\n123.555.1234\\n123*555*1234\\n800-555-1234\\n900-555-1234\\n9005551234\\n900055501234\\nMr. Scha2fer\\nMr Smith\\nMs Davis\\nMrs. Robinson\\nMr. T\\nMr. ()\\n\\ncat\\nmat\\npat\\nbat\\nat\\n'"
      ]
     },
     "execution_count": 2,
     "metadata": {},
     "output_type": "execute_result"
    }
   ],
   "source": [
    "text_to_search"
   ]
  },
  {
   "attachments": {},
   "cell_type": "markdown",
   "metadata": {},
   "source": [
    "## Utilizamos las raw_strings para obtener la literalidad del texto:\n",
    "\n",
    "### `print(r'\\tTabulador')`"
   ]
  },
  {
   "cell_type": "code",
   "execution_count": 3,
   "metadata": {},
   "outputs": [
    {
     "name": "stdout",
     "output_type": "stream",
     "text": [
      "Tabulador sin raw string: \tTabulador\n",
      "Tabulador con raw string: \\tTabulador\n"
     ]
    }
   ],
   "source": [
    "print('Tabulador sin raw string: \\tTabulador')\n",
    "print(r'Tabulador con raw string: \\tTabulador')"
   ]
  },
  {
   "attachments": {},
   "cell_type": "markdown",
   "metadata": {},
   "source": [
    "### Buscamos el patrón `abc` en el texto\n",
    "\n",
    "Para ello utilizamos:\n",
    "- `re.compile()`: para introducir el patrón que queremos buscar\n",
    "- La función `finditer()`: para buscar el patrón en nuestro texto\n",
    "- Iteramos sobre la búsqueda"
   ]
  },
  {
   "cell_type": "code",
   "execution_count": 4,
   "metadata": {},
   "outputs": [
    {
     "data": {
      "text/plain": [
       "'o'"
      ]
     },
     "execution_count": 4,
     "metadata": {},
     "output_type": "execute_result"
    }
   ],
   "source": [
    "mi_string = 'Hola mundo'\n",
    "mi_string[1]"
   ]
  },
  {
   "cell_type": "code",
   "execution_count": 5,
   "metadata": {},
   "outputs": [
    {
     "name": "stdout",
     "output_type": "stream",
     "text": [
      "<re.Match object; span=(1, 4), match='abc'>\n"
     ]
    }
   ],
   "source": [
    "pattern = re.compile(r'abc')\n",
    "\n",
    "matches = pattern.finditer(text_to_search)\n",
    "\n",
    "for match in matches:\n",
    "    print(match)\n",
    "\n",
    "\n",
    "# el span es el índice de inicio y final de la coincidencia.\n",
    "# gracias al span, podemos utilizar las técnicas de string slicing\n",
    "# en python para localizarlo\n",
    "\n",
    "# print(text_to_search[1:4])"
   ]
  },
  {
   "cell_type": "code",
   "execution_count": 6,
   "metadata": {},
   "outputs": [
    {
     "data": {
      "text/plain": [
       "'abc'"
      ]
     },
     "execution_count": 6,
     "metadata": {},
     "output_type": "execute_result"
    }
   ],
   "source": [
    "text_to_search[1:4]"
   ]
  },
  {
   "attachments": {},
   "cell_type": "markdown",
   "metadata": {},
   "source": [
    "### Hay que tener en cuenta que cuando específicamos el pattern, se busca la literalidad de ese patrón.\n",
    "Por ejemplo, si queremos buscar las letras en distinto orden..."
   ]
  },
  {
   "cell_type": "code",
   "execution_count": 7,
   "metadata": {},
   "outputs": [],
   "source": [
    "new_pattern = re.compile(r'cba')\n",
    "new_matches = new_pattern.finditer(text_to_search)\n",
    "\n",
    "for match in new_matches:\n",
    "    print(match)\n",
    "    # no se muestra nada por pantalla"
   ]
  },
  {
   "attachments": {},
   "cell_type": "markdown",
   "metadata": {},
   "source": [
    "## Metacaracteres\n",
    "Son aquellos caracteres que no son alfanuméricos:\n",
    "- Signos de puntuación, exclamación y admiración\n",
    "\n",
    "Si queremos obtenerlos, tenemos que \"escaparlos\""
   ]
  },
  {
   "cell_type": "code",
   "execution_count": 8,
   "metadata": {},
   "outputs": [
    {
     "name": "stdout",
     "output_type": "stream",
     "text": [
      "<re.Match object; span=(1, 2), match='a'>\n",
      "<re.Match object; span=(2, 3), match='b'>\n",
      "<re.Match object; span=(3, 4), match='c'>\n",
      "<re.Match object; span=(4, 5), match='d'>\n",
      "<re.Match object; span=(5, 6), match='e'>\n",
      "<re.Match object; span=(6, 7), match='f'>\n",
      "<re.Match object; span=(7, 8), match='g'>\n",
      "<re.Match object; span=(8, 9), match='h'>\n",
      "<re.Match object; span=(9, 10), match='i'>\n",
      "<re.Match object; span=(10, 11), match='j'>\n",
      "<re.Match object; span=(11, 12), match='k'>\n",
      "<re.Match object; span=(12, 13), match='l'>\n",
      "<re.Match object; span=(13, 14), match='m'>\n",
      "<re.Match object; span=(14, 15), match='n'>\n",
      "<re.Match object; span=(15, 16), match='o'>\n",
      "<re.Match object; span=(16, 17), match='p'>\n",
      "<re.Match object; span=(17, 18), match='q'>\n",
      "<re.Match object; span=(18, 19), match='u'>\n",
      "<re.Match object; span=(19, 20), match='r'>\n",
      "<re.Match object; span=(20, 21), match='t'>\n",
      "<re.Match object; span=(21, 22), match='u'>\n",
      "<re.Match object; span=(22, 23), match='v'>\n",
      "<re.Match object; span=(23, 24), match='w'>\n",
      "<re.Match object; span=(24, 25), match='x'>\n",
      "<re.Match object; span=(25, 26), match='y'>\n",
      "<re.Match object; span=(26, 27), match='z'>\n",
      "<re.Match object; span=(28, 29), match='A'>\n",
      "<re.Match object; span=(29, 30), match='B'>\n",
      "<re.Match object; span=(30, 31), match='C'>\n",
      "<re.Match object; span=(31, 32), match='D'>\n",
      "<re.Match object; span=(32, 33), match='E'>\n",
      "<re.Match object; span=(33, 34), match='F'>\n",
      "<re.Match object; span=(34, 35), match='G'>\n",
      "<re.Match object; span=(35, 36), match='H'>\n",
      "<re.Match object; span=(36, 37), match='I'>\n",
      "<re.Match object; span=(37, 38), match='J'>\n",
      "<re.Match object; span=(38, 39), match='K'>\n",
      "<re.Match object; span=(39, 40), match='L'>\n",
      "<re.Match object; span=(40, 41), match='M'>\n",
      "<re.Match object; span=(41, 42), match='N'>\n",
      "<re.Match object; span=(42, 43), match='O'>\n",
      "<re.Match object; span=(43, 44), match='P'>\n",
      "<re.Match object; span=(44, 45), match='Q'>\n",
      "<re.Match object; span=(45, 46), match='R'>\n",
      "<re.Match object; span=(46, 47), match='S'>\n",
      "<re.Match object; span=(47, 48), match='T'>\n",
      "<re.Match object; span=(48, 49), match='U'>\n",
      "<re.Match object; span=(49, 50), match='V'>\n",
      "<re.Match object; span=(50, 51), match='W'>\n",
      "<re.Match object; span=(51, 52), match='X'>\n",
      "<re.Match object; span=(52, 53), match='Y'>\n",
      "<re.Match object; span=(53, 54), match='Z'>\n",
      "<re.Match object; span=(55, 56), match='á'>\n",
      "<re.Match object; span=(56, 57), match='é'>\n",
      "<re.Match object; span=(57, 58), match='í'>\n",
      "<re.Match object; span=(58, 59), match='ó'>\n",
      "<re.Match object; span=(59, 60), match='ú'>\n",
      "<re.Match object; span=(61, 62), match='1'>\n",
      "<re.Match object; span=(62, 63), match='2'>\n",
      "<re.Match object; span=(63, 64), match='3'>\n",
      "<re.Match object; span=(64, 65), match='4'>\n",
      "<re.Match object; span=(65, 66), match='5'>\n",
      "<re.Match object; span=(66, 67), match='6'>\n",
      "<re.Match object; span=(67, 68), match='7'>\n",
      "<re.Match object; span=(68, 69), match='8'>\n",
      "<re.Match object; span=(69, 70), match='9'>\n",
      "<re.Match object; span=(70, 71), match='0'>\n",
      "<re.Match object; span=(72, 73), match='H'>\n",
      "<re.Match object; span=(73, 74), match='a'>\n",
      "<re.Match object; span=(74, 75), match=' '>\n",
      "<re.Match object; span=(75, 76), match='H'>\n",
      "<re.Match object; span=(76, 77), match='a'>\n",
      "<re.Match object; span=(77, 78), match='H'>\n",
      "<re.Match object; span=(78, 79), match='a'>\n",
      "<re.Match object; span=(79, 80), match=' '>\n",
      "<re.Match object; span=(80, 81), match='?'>\n",
      "<re.Match object; span=(81, 82), match='H'>\n",
      "<re.Match object; span=(82, 83), match='a'>\n",
      "<re.Match object; span=(84, 85), match='M'>\n",
      "<re.Match object; span=(85, 86), match='e'>\n",
      "<re.Match object; span=(86, 87), match='t'>\n",
      "<re.Match object; span=(87, 88), match='a'>\n",
      "<re.Match object; span=(88, 89), match='C'>\n",
      "<re.Match object; span=(89, 90), match='h'>\n",
      "<re.Match object; span=(90, 91), match='a'>\n",
      "<re.Match object; span=(91, 92), match='r'>\n",
      "<re.Match object; span=(92, 93), match='a'>\n",
      "<re.Match object; span=(93, 94), match='c'>\n",
      "<re.Match object; span=(94, 95), match='t'>\n",
      "<re.Match object; span=(95, 96), match='e'>\n",
      "<re.Match object; span=(96, 97), match='r'>\n",
      "<re.Match object; span=(97, 98), match='s'>\n",
      "<re.Match object; span=(98, 99), match=' '>\n",
      "<re.Match object; span=(99, 100), match='('>\n",
      "<re.Match object; span=(100, 101), match='N'>\n",
      "<re.Match object; span=(101, 102), match='e'>\n",
      "<re.Match object; span=(102, 103), match='e'>\n",
      "<re.Match object; span=(103, 104), match='d'>\n",
      "<re.Match object; span=(104, 105), match=' '>\n",
      "<re.Match object; span=(105, 106), match='t'>\n",
      "<re.Match object; span=(106, 107), match='o'>\n",
      "<re.Match object; span=(107, 108), match=' '>\n",
      "<re.Match object; span=(108, 109), match='b'>\n",
      "<re.Match object; span=(109, 110), match='e'>\n",
      "<re.Match object; span=(110, 111), match=' '>\n",
      "<re.Match object; span=(111, 112), match='e'>\n",
      "<re.Match object; span=(112, 113), match='s'>\n",
      "<re.Match object; span=(113, 114), match='c'>\n",
      "<re.Match object; span=(114, 115), match='a'>\n",
      "<re.Match object; span=(115, 116), match='p'>\n",
      "<re.Match object; span=(116, 117), match='e'>\n",
      "<re.Match object; span=(117, 118), match='d'>\n",
      "<re.Match object; span=(118, 119), match=')'>\n",
      "<re.Match object; span=(119, 120), match=':'>\n",
      "<re.Match object; span=(121, 122), match='.'>\n",
      "<re.Match object; span=(122, 123), match=' '>\n",
      "<re.Match object; span=(123, 124), match='^'>\n",
      "<re.Match object; span=(124, 125), match=' '>\n",
      "<re.Match object; span=(125, 126), match='$'>\n",
      "<re.Match object; span=(126, 127), match=' '>\n",
      "<re.Match object; span=(127, 128), match='*'>\n",
      "<re.Match object; span=(128, 129), match=' '>\n",
      "<re.Match object; span=(129, 130), match='+'>\n",
      "<re.Match object; span=(130, 131), match=' '>\n",
      "<re.Match object; span=(131, 132), match='?'>\n",
      "<re.Match object; span=(132, 133), match=' '>\n",
      "<re.Match object; span=(133, 134), match='{'>\n",
      "<re.Match object; span=(134, 135), match=' '>\n",
      "<re.Match object; span=(135, 136), match='}'>\n",
      "<re.Match object; span=(136, 137), match=' '>\n",
      "<re.Match object; span=(137, 138), match='['>\n",
      "<re.Match object; span=(138, 139), match=' '>\n",
      "<re.Match object; span=(139, 140), match=']'>\n",
      "<re.Match object; span=(140, 141), match=' '>\n",
      "<re.Match object; span=(141, 142), match='\\\\'>\n",
      "<re.Match object; span=(142, 143), match=' '>\n",
      "<re.Match object; span=(143, 144), match='|'>\n",
      "<re.Match object; span=(144, 145), match=' '>\n",
      "<re.Match object; span=(145, 146), match='('>\n",
      "<re.Match object; span=(146, 147), match=' '>\n",
      "<re.Match object; span=(147, 148), match=')'>\n",
      "<re.Match object; span=(149, 150), match='m'>\n",
      "<re.Match object; span=(150, 151), match='i'>\n",
      "<re.Match object; span=(151, 152), match='g'>\n",
      "<re.Match object; span=(152, 153), match='u'>\n",
      "<re.Match object; span=(153, 154), match='e'>\n",
      "<re.Match object; span=(154, 155), match='l'>\n",
      "<re.Match object; span=(155, 156), match='n'>\n",
      "<re.Match object; span=(156, 157), match='i'>\n",
      "<re.Match object; span=(157, 158), match='e'>\n",
      "<re.Match object; span=(158, 159), match='v'>\n",
      "<re.Match object; span=(159, 160), match='a'>\n",
      "<re.Match object; span=(160, 161), match='s'>\n",
      "<re.Match object; span=(161, 162), match='*'>\n",
      "<re.Match object; span=(162, 163), match='c'>\n",
      "<re.Match object; span=(163, 164), match='o'>\n",
      "<re.Match object; span=(164, 165), match='m'>\n",
      "<re.Match object; span=(166, 167), match='m'>\n",
      "<re.Match object; span=(167, 168), match='i'>\n",
      "<re.Match object; span=(168, 169), match='g'>\n",
      "<re.Match object; span=(169, 170), match='u'>\n",
      "<re.Match object; span=(170, 171), match='e'>\n",
      "<re.Match object; span=(171, 172), match='l'>\n",
      "<re.Match object; span=(172, 173), match='n'>\n",
      "<re.Match object; span=(173, 174), match='i'>\n",
      "<re.Match object; span=(174, 175), match='e'>\n",
      "<re.Match object; span=(175, 176), match='v'>\n",
      "<re.Match object; span=(176, 177), match='a'>\n",
      "<re.Match object; span=(177, 178), match='s'>\n",
      "<re.Match object; span=(178, 179), match='.'>\n",
      "<re.Match object; span=(179, 180), match='c'>\n",
      "<re.Match object; span=(180, 181), match='o'>\n",
      "<re.Match object; span=(181, 182), match='m'>\n",
      "<re.Match object; span=(183, 184), match='m'>\n",
      "<re.Match object; span=(184, 185), match='i'>\n",
      "<re.Match object; span=(185, 186), match='g'>\n",
      "<re.Match object; span=(186, 187), match='u'>\n",
      "<re.Match object; span=(187, 188), match='e'>\n",
      "<re.Match object; span=(188, 189), match='l'>\n",
      "<re.Match object; span=(189, 190), match='n'>\n",
      "<re.Match object; span=(190, 191), match='i'>\n",
      "<re.Match object; span=(191, 192), match='e'>\n",
      "<re.Match object; span=(192, 193), match='v'>\n",
      "<re.Match object; span=(193, 194), match='a'>\n",
      "<re.Match object; span=(194, 195), match='s'>\n",
      "<re.Match object; span=(195, 196), match='o'>\n",
      "<re.Match object; span=(196, 197), match='c'>\n",
      "<re.Match object; span=(197, 198), match='o'>\n",
      "<re.Match object; span=(198, 199), match='m'>\n",
      "<re.Match object; span=(200, 201), match='m'>\n",
      "<re.Match object; span=(201, 202), match='i'>\n",
      "<re.Match object; span=(202, 203), match='g'>\n",
      "<re.Match object; span=(203, 204), match='u'>\n",
      "<re.Match object; span=(204, 205), match='e'>\n",
      "<re.Match object; span=(205, 206), match='l'>\n",
      "<re.Match object; span=(206, 207), match='n'>\n",
      "<re.Match object; span=(207, 208), match='i'>\n",
      "<re.Match object; span=(208, 209), match='e'>\n",
      "<re.Match object; span=(209, 210), match='v'>\n",
      "<re.Match object; span=(210, 211), match='a'>\n",
      "<re.Match object; span=(211, 212), match='s'>\n",
      "<re.Match object; span=(212, 213), match=' '>\n",
      "<re.Match object; span=(213, 214), match='h'>\n",
      "<re.Match object; span=(214, 215), match='o'>\n",
      "<re.Match object; span=(215, 216), match='l'>\n",
      "<re.Match object; span=(216, 217), match='a'>\n",
      "<re.Match object; span=(218, 219), match='3'>\n",
      "<re.Match object; span=(219, 220), match='2'>\n",
      "<re.Match object; span=(220, 221), match='1'>\n",
      "<re.Match object; span=(221, 222), match='-'>\n",
      "<re.Match object; span=(222, 223), match='5'>\n",
      "<re.Match object; span=(223, 224), match='5'>\n",
      "<re.Match object; span=(224, 225), match='5'>\n",
      "<re.Match object; span=(225, 226), match='-'>\n",
      "<re.Match object; span=(226, 227), match='4'>\n",
      "<re.Match object; span=(227, 228), match='3'>\n",
      "<re.Match object; span=(228, 229), match='2'>\n",
      "<re.Match object; span=(229, 230), match='1'>\n",
      "<re.Match object; span=(231, 232), match='1'>\n",
      "<re.Match object; span=(232, 233), match='2'>\n",
      "<re.Match object; span=(233, 234), match='3'>\n",
      "<re.Match object; span=(234, 235), match='.'>\n",
      "<re.Match object; span=(235, 236), match='5'>\n",
      "<re.Match object; span=(236, 237), match='5'>\n",
      "<re.Match object; span=(237, 238), match='5'>\n",
      "<re.Match object; span=(238, 239), match='.'>\n",
      "<re.Match object; span=(239, 240), match='1'>\n",
      "<re.Match object; span=(240, 241), match='2'>\n",
      "<re.Match object; span=(241, 242), match='3'>\n",
      "<re.Match object; span=(242, 243), match='4'>\n",
      "<re.Match object; span=(244, 245), match='1'>\n",
      "<re.Match object; span=(245, 246), match='2'>\n",
      "<re.Match object; span=(246, 247), match='3'>\n",
      "<re.Match object; span=(247, 248), match='*'>\n",
      "<re.Match object; span=(248, 249), match='5'>\n",
      "<re.Match object; span=(249, 250), match='5'>\n",
      "<re.Match object; span=(250, 251), match='5'>\n",
      "<re.Match object; span=(251, 252), match='*'>\n",
      "<re.Match object; span=(252, 253), match='1'>\n",
      "<re.Match object; span=(253, 254), match='2'>\n",
      "<re.Match object; span=(254, 255), match='3'>\n",
      "<re.Match object; span=(255, 256), match='4'>\n",
      "<re.Match object; span=(257, 258), match='8'>\n",
      "<re.Match object; span=(258, 259), match='0'>\n",
      "<re.Match object; span=(259, 260), match='0'>\n",
      "<re.Match object; span=(260, 261), match='-'>\n",
      "<re.Match object; span=(261, 262), match='5'>\n",
      "<re.Match object; span=(262, 263), match='5'>\n",
      "<re.Match object; span=(263, 264), match='5'>\n",
      "<re.Match object; span=(264, 265), match='-'>\n",
      "<re.Match object; span=(265, 266), match='1'>\n",
      "<re.Match object; span=(266, 267), match='2'>\n",
      "<re.Match object; span=(267, 268), match='3'>\n",
      "<re.Match object; span=(268, 269), match='4'>\n",
      "<re.Match object; span=(270, 271), match='9'>\n",
      "<re.Match object; span=(271, 272), match='0'>\n",
      "<re.Match object; span=(272, 273), match='0'>\n",
      "<re.Match object; span=(273, 274), match='-'>\n",
      "<re.Match object; span=(274, 275), match='5'>\n",
      "<re.Match object; span=(275, 276), match='5'>\n",
      "<re.Match object; span=(276, 277), match='5'>\n",
      "<re.Match object; span=(277, 278), match='-'>\n",
      "<re.Match object; span=(278, 279), match='1'>\n",
      "<re.Match object; span=(279, 280), match='2'>\n",
      "<re.Match object; span=(280, 281), match='3'>\n",
      "<re.Match object; span=(281, 282), match='4'>\n",
      "<re.Match object; span=(283, 284), match='9'>\n",
      "<re.Match object; span=(284, 285), match='0'>\n",
      "<re.Match object; span=(285, 286), match='0'>\n",
      "<re.Match object; span=(286, 287), match='5'>\n",
      "<re.Match object; span=(287, 288), match='5'>\n",
      "<re.Match object; span=(288, 289), match='5'>\n",
      "<re.Match object; span=(289, 290), match='1'>\n",
      "<re.Match object; span=(290, 291), match='2'>\n",
      "<re.Match object; span=(291, 292), match='3'>\n",
      "<re.Match object; span=(292, 293), match='4'>\n",
      "<re.Match object; span=(294, 295), match='9'>\n",
      "<re.Match object; span=(295, 296), match='0'>\n",
      "<re.Match object; span=(296, 297), match='0'>\n",
      "<re.Match object; span=(297, 298), match='0'>\n",
      "<re.Match object; span=(298, 299), match='5'>\n",
      "<re.Match object; span=(299, 300), match='5'>\n",
      "<re.Match object; span=(300, 301), match='5'>\n",
      "<re.Match object; span=(301, 302), match='0'>\n",
      "<re.Match object; span=(302, 303), match='1'>\n",
      "<re.Match object; span=(303, 304), match='2'>\n",
      "<re.Match object; span=(304, 305), match='3'>\n",
      "<re.Match object; span=(305, 306), match='4'>\n",
      "<re.Match object; span=(307, 308), match='M'>\n",
      "<re.Match object; span=(308, 309), match='r'>\n",
      "<re.Match object; span=(309, 310), match='.'>\n",
      "<re.Match object; span=(310, 311), match=' '>\n",
      "<re.Match object; span=(311, 312), match='S'>\n",
      "<re.Match object; span=(312, 313), match='c'>\n",
      "<re.Match object; span=(313, 314), match='h'>\n",
      "<re.Match object; span=(314, 315), match='a'>\n",
      "<re.Match object; span=(315, 316), match='2'>\n",
      "<re.Match object; span=(316, 317), match='f'>\n",
      "<re.Match object; span=(317, 318), match='e'>\n",
      "<re.Match object; span=(318, 319), match='r'>\n",
      "<re.Match object; span=(320, 321), match='M'>\n",
      "<re.Match object; span=(321, 322), match='r'>\n",
      "<re.Match object; span=(322, 323), match=' '>\n",
      "<re.Match object; span=(323, 324), match='S'>\n",
      "<re.Match object; span=(324, 325), match='m'>\n",
      "<re.Match object; span=(325, 326), match='i'>\n",
      "<re.Match object; span=(326, 327), match='t'>\n",
      "<re.Match object; span=(327, 328), match='h'>\n",
      "<re.Match object; span=(329, 330), match='M'>\n",
      "<re.Match object; span=(330, 331), match='s'>\n",
      "<re.Match object; span=(331, 332), match=' '>\n",
      "<re.Match object; span=(332, 333), match='D'>\n",
      "<re.Match object; span=(333, 334), match='a'>\n",
      "<re.Match object; span=(334, 335), match='v'>\n",
      "<re.Match object; span=(335, 336), match='i'>\n",
      "<re.Match object; span=(336, 337), match='s'>\n",
      "<re.Match object; span=(338, 339), match='M'>\n",
      "<re.Match object; span=(339, 340), match='r'>\n",
      "<re.Match object; span=(340, 341), match='s'>\n",
      "<re.Match object; span=(341, 342), match='.'>\n",
      "<re.Match object; span=(342, 343), match=' '>\n",
      "<re.Match object; span=(343, 344), match='R'>\n",
      "<re.Match object; span=(344, 345), match='o'>\n",
      "<re.Match object; span=(345, 346), match='b'>\n",
      "<re.Match object; span=(346, 347), match='i'>\n",
      "<re.Match object; span=(347, 348), match='n'>\n",
      "<re.Match object; span=(348, 349), match='s'>\n",
      "<re.Match object; span=(349, 350), match='o'>\n",
      "<re.Match object; span=(350, 351), match='n'>\n",
      "<re.Match object; span=(352, 353), match='M'>\n",
      "<re.Match object; span=(353, 354), match='r'>\n",
      "<re.Match object; span=(354, 355), match='.'>\n",
      "<re.Match object; span=(355, 356), match=' '>\n",
      "<re.Match object; span=(356, 357), match='T'>\n",
      "<re.Match object; span=(358, 359), match='M'>\n",
      "<re.Match object; span=(359, 360), match='r'>\n",
      "<re.Match object; span=(360, 361), match='.'>\n",
      "<re.Match object; span=(361, 362), match=' '>\n",
      "<re.Match object; span=(362, 363), match='('>\n",
      "<re.Match object; span=(363, 364), match=')'>\n",
      "<re.Match object; span=(366, 367), match='c'>\n",
      "<re.Match object; span=(367, 368), match='a'>\n",
      "<re.Match object; span=(368, 369), match='t'>\n",
      "<re.Match object; span=(370, 371), match='m'>\n",
      "<re.Match object; span=(371, 372), match='a'>\n",
      "<re.Match object; span=(372, 373), match='t'>\n",
      "<re.Match object; span=(374, 375), match='p'>\n",
      "<re.Match object; span=(375, 376), match='a'>\n",
      "<re.Match object; span=(376, 377), match='t'>\n",
      "<re.Match object; span=(378, 379), match='b'>\n",
      "<re.Match object; span=(379, 380), match='a'>\n",
      "<re.Match object; span=(380, 381), match='t'>\n",
      "<re.Match object; span=(382, 383), match='a'>\n",
      "<re.Match object; span=(383, 384), match='t'>\n"
     ]
    }
   ],
   "source": [
    "# Como veis, aquí se muestran prácticamente todos los caracteres\n",
    "pattern = re.compile(r'.')\n",
    "matches = pattern.finditer(text_to_search)\n",
    "\n",
    "for match in matches:\n",
    "    print(match)"
   ]
  },
  {
   "attachments": {},
   "cell_type": "markdown",
   "metadata": {},
   "source": [
    "#### Para escaparlos, tienen que ir precedidos de la barra invertida(`\\`)"
   ]
  },
  {
   "cell_type": "code",
   "execution_count": 9,
   "metadata": {},
   "outputs": [
    {
     "name": "stdout",
     "output_type": "stream",
     "text": [
      "<re.Match object; span=(121, 122), match='.'>\n",
      "<re.Match object; span=(178, 179), match='.'>\n",
      "<re.Match object; span=(234, 235), match='.'>\n",
      "<re.Match object; span=(238, 239), match='.'>\n",
      "<re.Match object; span=(309, 310), match='.'>\n",
      "<re.Match object; span=(341, 342), match='.'>\n",
      "<re.Match object; span=(354, 355), match='.'>\n",
      "<re.Match object; span=(360, 361), match='.'>\n"
     ]
    }
   ],
   "source": [
    "pattern = re.compile(r'\\.')\n",
    "matches = pattern.finditer(text_to_search)\n",
    "\n",
    "for match in matches:\n",
    "    print(match)"
   ]
  },
  {
   "attachments": {},
   "cell_type": "markdown",
   "metadata": {},
   "source": [
    "Para buscar una página web:"
   ]
  },
  {
   "cell_type": "code",
   "execution_count": 10,
   "metadata": {},
   "outputs": [
    {
     "name": "stdout",
     "output_type": "stream",
     "text": [
      "<re.Match object; span=(149, 165), match='miguelnievas*com'>\n",
      "<re.Match object; span=(166, 182), match='miguelnievas.com'>\n",
      "<re.Match object; span=(183, 199), match='miguelnievasocom'>\n"
     ]
    }
   ],
   "source": [
    "pattern = re.compile(r'miguelnievas.com')\n",
    "# . permito cualquier tipo de caracter\n",
    "\n",
    "matches = pattern.finditer(text_to_search)\n",
    "\n",
    "for match in matches:\n",
    "    print(match)"
   ]
  },
  {
   "cell_type": "code",
   "execution_count": 10,
   "metadata": {},
   "outputs": [
    {
     "name": "stdout",
     "output_type": "stream",
     "text": [
      "<re.Match object; span=(166, 182), match='miguelnievas.com'>\n"
     ]
    }
   ],
   "source": [
    "pattern = re.compile(r'miguelnievas\\.com')\n",
    "\n",
    "matches = pattern.finditer(text_to_search)\n",
    "\n",
    "for match in matches:\n",
    "    print(match)"
   ]
  },
  {
   "attachments": {},
   "cell_type": "markdown",
   "metadata": {},
   "source": [
    "Lo realmente interesante de regex no es encontrar simplemente una página web o una frase concreta, sino que nos ayuda a encontrar una serie de patrones en los textos.\n",
    "\n",
    "En este documento podemos ver las principales expresiones regulares para encontrar texto: `snippets.txt`"
   ]
  },
  {
   "cell_type": "code",
   "execution_count": 11,
   "metadata": {},
   "outputs": [
    {
     "name": "stdout",
     "output_type": "stream",
     "text": [
      "<re.Match object; span=(61, 62), match='1'>\n",
      "<re.Match object; span=(62, 63), match='2'>\n",
      "<re.Match object; span=(63, 64), match='3'>\n",
      "<re.Match object; span=(64, 65), match='4'>\n",
      "<re.Match object; span=(65, 66), match='5'>\n",
      "<re.Match object; span=(66, 67), match='6'>\n",
      "<re.Match object; span=(67, 68), match='7'>\n",
      "<re.Match object; span=(68, 69), match='8'>\n",
      "<re.Match object; span=(69, 70), match='9'>\n",
      "<re.Match object; span=(70, 71), match='0'>\n",
      "<re.Match object; span=(218, 219), match='3'>\n",
      "<re.Match object; span=(219, 220), match='2'>\n",
      "<re.Match object; span=(220, 221), match='1'>\n",
      "<re.Match object; span=(222, 223), match='5'>\n",
      "<re.Match object; span=(223, 224), match='5'>\n",
      "<re.Match object; span=(224, 225), match='5'>\n",
      "<re.Match object; span=(226, 227), match='4'>\n",
      "<re.Match object; span=(227, 228), match='3'>\n",
      "<re.Match object; span=(228, 229), match='2'>\n",
      "<re.Match object; span=(229, 230), match='1'>\n",
      "<re.Match object; span=(231, 232), match='1'>\n",
      "<re.Match object; span=(232, 233), match='2'>\n",
      "<re.Match object; span=(233, 234), match='3'>\n",
      "<re.Match object; span=(235, 236), match='5'>\n",
      "<re.Match object; span=(236, 237), match='5'>\n",
      "<re.Match object; span=(237, 238), match='5'>\n",
      "<re.Match object; span=(239, 240), match='1'>\n",
      "<re.Match object; span=(240, 241), match='2'>\n",
      "<re.Match object; span=(241, 242), match='3'>\n",
      "<re.Match object; span=(242, 243), match='4'>\n",
      "<re.Match object; span=(244, 245), match='1'>\n",
      "<re.Match object; span=(245, 246), match='2'>\n",
      "<re.Match object; span=(246, 247), match='3'>\n",
      "<re.Match object; span=(248, 249), match='5'>\n",
      "<re.Match object; span=(249, 250), match='5'>\n",
      "<re.Match object; span=(250, 251), match='5'>\n",
      "<re.Match object; span=(252, 253), match='1'>\n",
      "<re.Match object; span=(253, 254), match='2'>\n",
      "<re.Match object; span=(254, 255), match='3'>\n",
      "<re.Match object; span=(255, 256), match='4'>\n",
      "<re.Match object; span=(257, 258), match='8'>\n",
      "<re.Match object; span=(258, 259), match='0'>\n",
      "<re.Match object; span=(259, 260), match='0'>\n",
      "<re.Match object; span=(261, 262), match='5'>\n",
      "<re.Match object; span=(262, 263), match='5'>\n",
      "<re.Match object; span=(263, 264), match='5'>\n",
      "<re.Match object; span=(265, 266), match='1'>\n",
      "<re.Match object; span=(266, 267), match='2'>\n",
      "<re.Match object; span=(267, 268), match='3'>\n",
      "<re.Match object; span=(268, 269), match='4'>\n",
      "<re.Match object; span=(270, 271), match='9'>\n",
      "<re.Match object; span=(271, 272), match='0'>\n",
      "<re.Match object; span=(272, 273), match='0'>\n",
      "<re.Match object; span=(274, 275), match='5'>\n",
      "<re.Match object; span=(275, 276), match='5'>\n",
      "<re.Match object; span=(276, 277), match='5'>\n",
      "<re.Match object; span=(278, 279), match='1'>\n",
      "<re.Match object; span=(279, 280), match='2'>\n",
      "<re.Match object; span=(280, 281), match='3'>\n",
      "<re.Match object; span=(281, 282), match='4'>\n",
      "<re.Match object; span=(283, 284), match='9'>\n",
      "<re.Match object; span=(284, 285), match='0'>\n",
      "<re.Match object; span=(285, 286), match='0'>\n",
      "<re.Match object; span=(286, 287), match='5'>\n",
      "<re.Match object; span=(287, 288), match='5'>\n",
      "<re.Match object; span=(288, 289), match='5'>\n",
      "<re.Match object; span=(289, 290), match='1'>\n",
      "<re.Match object; span=(290, 291), match='2'>\n",
      "<re.Match object; span=(291, 292), match='3'>\n",
      "<re.Match object; span=(292, 293), match='4'>\n",
      "<re.Match object; span=(294, 295), match='9'>\n",
      "<re.Match object; span=(295, 296), match='0'>\n",
      "<re.Match object; span=(296, 297), match='0'>\n",
      "<re.Match object; span=(297, 298), match='0'>\n",
      "<re.Match object; span=(298, 299), match='5'>\n",
      "<re.Match object; span=(299, 300), match='5'>\n",
      "<re.Match object; span=(300, 301), match='5'>\n",
      "<re.Match object; span=(301, 302), match='0'>\n",
      "<re.Match object; span=(302, 303), match='1'>\n",
      "<re.Match object; span=(303, 304), match='2'>\n",
      "<re.Match object; span=(304, 305), match='3'>\n",
      "<re.Match object; span=(305, 306), match='4'>\n",
      "<re.Match object; span=(315, 316), match='2'>\n"
     ]
    }
   ],
   "source": [
    "pattern = re.compile(r'\\d')\n",
    "\n",
    "matches = pattern.finditer(text_to_search)\n",
    "\n",
    "for match in matches:\n",
    "    print(match)"
   ]
  },
  {
   "attachments": {},
   "cell_type": "markdown",
   "metadata": {},
   "source": [
    "## Anclas\n",
    "\n",
    "Las anclas no buscan caracteres en concreto, pero delimitan nuestra búsqueda."
   ]
  },
  {
   "attachments": {},
   "cell_type": "markdown",
   "metadata": {},
   "source": [
    "Word Boundaries `\\b`: está compuesto por los espacios, tabuladores, nuevas líneas y caracteres no alfanuméricos."
   ]
  },
  {
   "cell_type": "code",
   "execution_count": 12,
   "metadata": {},
   "outputs": [
    {
     "name": "stdout",
     "output_type": "stream",
     "text": [
      "<re.Match object; span=(72, 74), match='Ha'>\n",
      "<re.Match object; span=(75, 77), match='Ha'>\n",
      "<re.Match object; span=(81, 83), match='Ha'>\n"
     ]
    }
   ],
   "source": [
    "pattern = re.compile(r'\\bHa')\n",
    "\n",
    "matches = pattern.finditer(text_to_search)\n",
    "\n",
    "for match in matches:\n",
    "    print(match)"
   ]
  },
  {
   "attachments": {},
   "cell_type": "markdown",
   "metadata": {},
   "source": [
    "No word boundaries `\\B`: lo contrario\n",
    "\n",
    "Muestra el Ha que delante no tiene los boundaries"
   ]
  },
  {
   "cell_type": "code",
   "execution_count": 13,
   "metadata": {},
   "outputs": [
    {
     "name": "stdout",
     "output_type": "stream",
     "text": [
      "<re.Match object; span=(77, 79), match='Ha'>\n"
     ]
    }
   ],
   "source": [
    "pattern = re.compile(r'\\BHa')\n",
    "\n",
    "matches = pattern.finditer(text_to_search)\n",
    "\n",
    "for match in matches:\n",
    "    print(match)"
   ]
  },
  {
   "attachments": {},
   "cell_type": "markdown",
   "metadata": {},
   "source": [
    "### `^` Busca solo el principio del string"
   ]
  },
  {
   "cell_type": "code",
   "execution_count": 14,
   "metadata": {},
   "outputs": [],
   "source": [
    "sentence = 'Start a sentence and then bring it to an end'"
   ]
  },
  {
   "cell_type": "code",
   "execution_count": 15,
   "metadata": {},
   "outputs": [
    {
     "name": "stdout",
     "output_type": "stream",
     "text": [
      "<re.Match object; span=(0, 5), match='Start'>\n"
     ]
    }
   ],
   "source": [
    "pattern = re.compile(r'^Start')\n",
    "\n",
    "matches = pattern.finditer(sentence)\n",
    "\n",
    "for match in matches:\n",
    "    print(match)"
   ]
  },
  {
   "cell_type": "code",
   "execution_count": 16,
   "metadata": {},
   "outputs": [
    {
     "name": "stdout",
     "output_type": "stream",
     "text": [
      "<re.Match object; span=(0, 1), match='\\n'>\n"
     ]
    }
   ],
   "source": [
    "pattern = re.compile(r'^\\n')\n",
    "\n",
    "matches = pattern.finditer(text_to_search)\n",
    "\n",
    "for match in matches:\n",
    "    print(match)"
   ]
  },
  {
   "cell_type": "code",
   "execution_count": 17,
   "metadata": {},
   "outputs": [
    {
     "data": {
      "text/plain": [
       "['\\na',\n",
       " '\\nA',\n",
       " '\\nH',\n",
       " '\\nM',\n",
       " '\\nm',\n",
       " '\\nm',\n",
       " '\\nm',\n",
       " '\\nm',\n",
       " '\\nM',\n",
       " '\\nM',\n",
       " '\\nM',\n",
       " '\\nM',\n",
       " '\\nM',\n",
       " '\\nM',\n",
       " '\\nc',\n",
       " '\\nm',\n",
       " '\\np',\n",
       " '\\nb',\n",
       " '\\na']"
      ]
     },
     "execution_count": 17,
     "metadata": {},
     "output_type": "execute_result"
    }
   ],
   "source": [
    "re.findall(r'\\n[a-zA-Z]', text_to_search)"
   ]
  },
  {
   "attachments": {},
   "cell_type": "markdown",
   "metadata": {},
   "source": [
    "### `$` Solo busca el final del string"
   ]
  },
  {
   "cell_type": "code",
   "execution_count": 18,
   "metadata": {},
   "outputs": [
    {
     "name": "stdout",
     "output_type": "stream",
     "text": [
      "<re.Match object; span=(41, 44), match='end'>\n"
     ]
    }
   ],
   "source": [
    "pattern = re.compile(r'end$')\n",
    "\n",
    "matches = pattern.finditer(sentence)\n",
    "\n",
    "for match in matches:\n",
    "    print(match)"
   ]
  },
  {
   "attachments": {},
   "cell_type": "markdown",
   "metadata": {},
   "source": [
    "## TIME FOR ACTION\n",
    "\n",
    "A continuación, vamos a tratar de obtener los números de teléfono.\n",
    "\n",
    "Como podemos ver en el texto, el número de teléfono sigue la misma estructura: \n",
    "- 3 números\n",
    "- signo de puntuación \n",
    "- 3 números\n",
    "- signo de puntuación\n",
    "- 4 números"
   ]
  },
  {
   "cell_type": "code",
   "execution_count": 19,
   "metadata": {},
   "outputs": [
    {
     "name": "stdout",
     "output_type": "stream",
     "text": [
      "<re.Match object; span=(218, 230), match='321-555-4321'>\n",
      "<re.Match object; span=(231, 243), match='123.555.1234'>\n",
      "<re.Match object; span=(244, 256), match='123*555*1234'>\n",
      "<re.Match object; span=(257, 269), match='800-555-1234'>\n",
      "<re.Match object; span=(270, 282), match='900-555-1234'>\n",
      "<re.Match object; span=(294, 306), match='900055501234'>\n"
     ]
    }
   ],
   "source": [
    "# escribe tu código\n",
    "pattern = re.compile(r'\\d\\d\\d.\\d\\d\\d.\\d\\d\\d\\d')\n",
    "# (r'\\d{3}.\\d{3}.\\d{4}')\n",
    "matches = pattern.finditer(text_to_search)\n",
    "\n",
    "for match in matches:\n",
    "    print(match)"
   ]
  },
  {
   "attachments": {},
   "cell_type": "markdown",
   "metadata": {},
   "source": [
    "### Abrimos `fake_info.txt` para empezar a trabajar"
   ]
  },
  {
   "cell_type": "code",
   "execution_count": 20,
   "metadata": {},
   "outputs": [],
   "source": [
    "with open('fake_info.txt', 'r') as f:\n",
    "    contents = f.read()"
   ]
  },
  {
   "cell_type": "code",
   "execution_count": 21,
   "metadata": {},
   "outputs": [
    {
     "data": {
      "text/plain": [
       "\"Dave Martin\\n615-555-7164\\n173 Main St., Springfield RI 55924\\ndavemartin@bogusemail.com\\n\\nCharles Harris\\n800-555-5669\\n969 High St., Atlantis VA 34075\\ncharlesharris@bogusemail.com\\n\\nEric Williams\\n560-555-5153\\n806 1st St., Faketown AK 86847\\nlaurawilliams@bogusemail.com\\n\\nCorey Jefferson\\n900-555-9340\\n826 Elm St., Epicburg NE 10671\\ncoreyjefferson@bogusemail.com\\n\\nJennifer Martin-White\\n714-555-7405\\n212 Cedar St., Sunnydale CT 74983\\njenniferwhite@bogusemail.com\\n\\nErick Davis\\n800-555-6771\\n519 Washington St., Olympus TN 32425\\ntomdavis@bogusemail.com\\n\\nNeil Patterson\\n783-555-4799\\n625 Oak St., Dawnstar IL 61914\\nneilpatterson@bogusemail.com\\n\\nLaura Jefferson\\n516-555-4615\\n890 Main St., Pythonville LA 29947\\nlaurajefferson@bogusemail.com\\n\\nMaria Johnson\\n127-555-1867\\n884 High St., Braavosâ€Ž ME 43597\\nmariajohnson@bogusemail.com\\n\\nMichael Arnold\\n608-555-4938\\n249 Elm St., Quahog OR 90938\\nmichaelarnold@bogusemail.com\\n\\nMichael Smith\\n568-555-6051\\n619 Park St., Winterfell VA 99000\\nmichaelsmith@bogusemail.com\\n\\nErik Stuart\\n292-555-1875\\n220 Cedar St., Lakeview NY 87282\\nrobertstuart@bogusemail.com\\n\\nLaura Martin\\n900-555-3205\\n391 High St., Smalltown WY 28362\\nlauramartin@bogusemail.com\\n\\nBarbara Martin\\n614-555-1166\\n121 Hill St., Braavosâ€Ž UT 92474\\nbarbaramartin@bogusemail.com\\n\\nLinda Jackson\\n530-555-2676\\n433 Elm St., Westworld TX 61967\\nlindajackson@bogusemail.com\\n\\nEric Miller\\n470-555-2750\\n838 Main St., Balmora MT 56526\\nstevemiller@bogusemail.com\\n\\nDave Arnold\\n800-555-6089\\n732 High St., Valyria KY 97152\\ndavearnold@bogusemail.com\\n\\nJennifer Jacobs\\n880-555-8319\\n217 High St., Old-town IA 82767\\njenniferjacobs@bogusemail.com\\n\\nNeil Wilson\\n777-555-8378\\n191 Main St., Mordor IL 72160\\nneilwilson@bogusemail.com\\n\\nKurt Jackson\\n998-555-7385\\n607 Washington St., Blackwater NH 97183\\nkurtjackson@bogusemail.com\\n\\nMary Jacobs\\n800-555-7100\\n478 Oak St., Bedrock IA 58176\\nmaryjacobs@bogusemail.com\\n\\nMichael White\\n903-555-8277\\n906 Elm St., Mordor TX 89212\\nmichaelwhite@bogusemail.com\\n\\nJennifer Jenkins\\n196-555-5674\\n949 Main St., Smalltown SC 96962\\njenniferjenkins@bogusemail.com\\n\\nSam Wright\\n900-555-5118\\n835 Pearl St., Smalltown ND 77737\\nsamwright@bogusemail.com\\n\\nJohn Davis\\n905-555-1630\\n451 Lake St., Bedrock GA 34615\\njohndavis@bogusemail.com\\n\\nEric Davis\\n203-555-3475\\n419 Lake St., Balmora OR 30826\\nneildavis@bogusemail.com\\n\\nLaura Jackson\\n884-555-8444\\n443 Maple St., Quahog MS 29348\\nlaurajackson@bogusemail.com\\n\\nJohn Williams\\n904-555-8559\\n756 Hill St., Valyria KY 94854\\njohnwilliams@bogusemail.com\\n\\nMichael Martin\\n889-555-7393\\n216 High St., Olympus NV 21888\\nmichaelmartin@bogusemail.com\\n\\nMaggie Brown\\n195-555-2405\\n806 Lake St., Lakeview MD 59348\\nmaggiebrown@bogusemail.com\\n\\nErik Wilson\\n321-555-9053\\n354 Hill St., Mordor FL 74122\\nkurtwilson@bogusemail.com\\n\\nElizabeth Arnold\\n133-555-1711\\n805 Maple St., Winterfell NV 99431\\nelizabetharnold@bogusemail.com\\n\\nJane Martin\\n900-555-5428\\n418 Park St., Metropolis ID 16576\\njanemartin@bogusemail.com\\n\\nTravis Johnson\\n760-555-7147\\n749 Washington St., Braavosâ€Ž SD 25668\\ntravisjohnson@bogusemail.com\\n\\nLaura Jefferson\\n391-555-6621\\n122 High St., Metropolis ME 29540\\nlaurajefferson@bogusemail.com\\n\\nTom Williams\\n932-555-7724\\n610 High St., Old-town FL 60758\\ntomwilliams@bogusemail.com\\n\\nJennifer Taylor\\n609-555-7908\\n332 Main St., Pythonville OH 78172\\njennifertaylor@bogusemail.com\\n\\nErick Wright\\n800-555-8810\\n858 Hill St., Blackwater NC 79714\\njenniferwright@bogusemail.com\\n\\nSteve Doe\\n149-555-7657\\n441 Elm St., Atlantis MS 87195\\nstevedoe@bogusemail.com\\n\\nKurt Davis\\n130-555-9709\\n404 Oak St., Atlantis ND 85386\\nkurtdavis@bogusemail.com\\n\\nCorey Harris\\n143-555-9295\\n286 Pearl St., Vice City TX 57112\\ncoreyharris@bogusemail.com\\n\\nNicole Taylor\\n903-555-9878\\n465 Hill St., Old-town LA 64102\\nnicoletaylor@bogusemail.com\\n\\nElizabeth Davis\\n574-555-3194\\n151 Lake St., Eerie SD 17880\\nelizabethdavis@bogusemail.com\\n\\nMaggie Jenkins\\n496-555-7533\\n504 Lake St., Gotham PA 46692\\nmaggiejenkins@bogusemail.com\\n\\nLinda Davis\\n210-555-3757\\n201 Pine St., Vice City AR 78455\\nlindadavis@bogusemail.com\\n\\nDave Moore\\n900-555-9598\\n251 Pine St., Old-town OK 29087\\ndavemoore@bogusemail.com\\n\\nLinda Jenkins\\n866-555-9844\\n117 High St., Bedrock NE 11899\\nlindajenkins@bogusemail.com\\n\\nEric White\\n669-555-7159\\n650 Oak St., Smalltown TN 43281\\nsamwhite@bogusemail.com\\n\\nLaura Robinson\\n152-555-7417\\n377 Pine St., Valyria NC 78036\\nlaurarobinson@bogusemail.com\\n\\nCharles Patterson\\n893-555-9832\\n416 Pearl St., Valyria AK 62260\\ncharlespatterson@bogusemail.com\\n\\nJoe Jackson\\n217-555-7123\\n683 Cedar St., South Park KS 66724\\njoejackson@bogusemail.com\\n\\nMichael Johnson\\n786-555-6544\\n288 Hill St., Smalltown AZ 18586\\nmichaeljohnson@bogusemail.com\\n\\nCorey Miller\\n780-555-2574\\n286 High St., Springfield IA 16272\\ncoreymiller@bogusemail.com\\n\\nJames Moore\\n926-555-8735\\n278 Main St., Gotham KY 89569\\njamesmoore@bogusemail.com\\n\\nJennifer Stuart\\n895-555-3539\\n766 Hill St., King's Landing GA 54999\\njenniferstuart@bogusemail.com\\n\\nCharles Martin\\n874-555-3949\\n775 High St., Faketown PA 89260\\ncharlesmartin@bogusemail.com\\n\\nEric Wilks\\n800-555-2420\\n885 Main St., Blackwater OH 61275\\njoewilks@bogusemail.com\\n\\nElizabeth Arnold\\n936-555-6340\\n528 Hill St., Atlantis NH 88289\\nelizabetharnold@bogusemail.com\\n\\nJohn Miller\\n372-555-9809\\n117 Cedar St., Thundera NM 75205\\njohnmiller@bogusemail.com\\n\\nCorey Jackson\\n890-555-5618\\n115 Oak St., Gotham UT 36433\\ncoreyjackson@bogusemail.com\\n\\nSam Thomas\\n670-555-3005\\n743 Lake St., Springfield MS 25473\\nsamthomas@bogusemail.com\\n\\nPatricia Thomas\\n509-555-5997\\n381 Hill St., Blackwater CT 30958\\npatriciathomas@bogusemail.com\\n\\nJennifer Davis\\n721-555-5632\\n125 Main St., Smalltown MT 62155\\njenniferdavis@bogusemail.com\\n\\nPatricia Brown\\n900-555-3567\\n292 Hill St., Gotham WV 57680\\npatriciabrown@bogusemail.com\\n\\nBarbara Williams\\n147-555-6830\\n514 Park St., Balmora NV 55462\\nbarbarawilliams@bogusemail.com\\n\\nJames Taylor\\n582-555-3426\\n776 Hill St., Dawnstar MA 51312\\njamestaylor@bogusemail.com\\n\\nEric Harris\\n400-555-1706\\n421 Elm St., Smalltown NV 72025\\nbarbaraharris@bogusemail.com\\n\\nTravis Anderson\\n525-555-1793\\n937 Cedar St., Thundera WA 78862\\ntravisanderson@bogusemail.com\\n\\nSam Robinson\\n317-555-6700\\n417 Pine St., Lakeview MD 13147\\nsamrobinson@bogusemail.com\\n\\nSteve Robinson\\n974-555-8301\\n478 Park St., Springfield NM 92369\\nsteverobinson@bogusemail.com\\n\\nMary Wilson\\n800-555-3216\\n708 Maple St., Braavosâ€Ž UT 29551\\nmarywilson@bogusemail.com\\n\\nSam Wilson\\n746-555-4094\\n557 Pearl St., Westworld KS 23225\\nsamwilson@bogusemail.com\\n\\nCharles Jones\\n922-555-1773\\n855 Hill St., Olympus HI 81427\\ncharlesjones@bogusemail.com\\n\\nLaura Brown\\n711-555-4427\\n980 Maple St., Smalltown MO 96421\\nlaurabrown@bogusemail.com\\n\\nTom Harris\\n355-555-1872\\n676 Hill St., Blackwater AR 96698\\ntomharris@bogusemail.com\\n\\nPatricia Taylor\\n852-555-6521\\n588 Pine St., Olympus FL 98412\\npatriciataylor@bogusemail.com\\n\\nBarbara Williams\\n691-555-5773\\n351 Elm St., Sunnydale GA 26245\\nbarbarawilliams@bogusemail.com\\n\\nMaggie Johnson\\n332-555-5441\\n948 Cedar St., Quahog DE 56449\\nmaggiejohnson@bogusemail.com\\n\\nKurt Miller\\n900-555-7755\\n381 Hill St., Quahog AL 97503\\nkurtmiller@bogusemail.com\\n\\nNeil Stuart\\n379-555-3685\\n496 Cedar St., Sunnydale RI 49113\\nneilstuart@bogusemail.com\\n\\nLinda Patterson\\n127-555-9682\\n736 Cedar St., Lakeview KY 47472\\nlindapatterson@bogusemail.com\\n\\nCharles Davis\\n789-555-7032\\n678 Lake St., Mordor MN 11845\\ncharlesdavis@bogusemail.com\\n\\nJennifer Jefferson\\n783-555-5135\\n289 Park St., Sunnydale WA 74526\\njenniferjefferson@bogusemail.com\\n\\nErick Taylor\\n315-555-6507\\n245 Washington St., Bedrock IL 26941\\ncoreytaylor@bogusemail.com\\n\\nRobert Wilks\\n481-555-5835\\n573 Elm St., Sunnydale IL 47182\\nrobertwilks@bogusemail.com\\n\\nTravis Jackson\\n365-555-8287\\n851 Lake St., Metropolis PA 22772\\ntravisjackson@bogusemail.com\\n\\nTravis Jackson\\n911-555-7535\\n489 Oak St., Atlantis HI 73725\\ntravisjackson@bogusemail.com\\n\\nLaura Wilks\\n681-555-2460\\n371 Pearl St., Smalltown SC 47466\\nlaurawilks@bogusemail.com\\n\\nNeil Arnold\\n274-555-9800\\n504 Oak St., Faketown PA 73860\\nneilarnold@bogusemail.com\\n\\nLinda Johnson\\n800-555-1372\\n667 High St., Balmora IN 82473\\nlindajohnson@bogusemail.com\\n\\nJennifer Wilson\\n300-555-7821\\n266 Pine St., Westworld DC 58720\\njenniferwilson@bogusemail.com\\n\\nNicole White\\n133-555-3889\\n276 High St., Braavosâ€Ž IL 57764\\nnicolewhite@bogusemail.com\\n\\nMaria Arnold\\n705-555-6863\\n491 Elm St., Metropolis PA 31836\\nmariaarnold@bogusemail.com\\n\\nJennifer Davis\\n215-555-9449\\n859 Cedar St., Old-town MT 31169\\njenniferdavis@bogusemail.com\\n\\nMary Patterson\\n988-555-6112\\n956 Park St., Valyria CT 81541\\nmarypatterson@bogusemail.com\\n\\nJane Stuart\\n623-555-3006\\n983 Oak St., Old-town RI 15445\\njanestuart@bogusemail.com\\n\\nRobert Davis\\n192-555-4977\\n789 Maple St., Mordor IN 22215\\nrobertdavis@bogusemail.com\\n\\nJames Taylor\\n178-555-4899\\n439 Hill St., Olympus NV 39308\\njamestaylor@bogusemail.com\\n\\nEric Stuart\\n952-555-3089\\n777 High St., King's Landing AZ 16547\\njohnstuart@bogusemail.com\\n\\nCharles Miller\\n900-555-6426\\n207 Washington St., Blackwater MA 24886\\ncharlesmiller@bogusemail.com\""
      ]
     },
     "execution_count": 21,
     "metadata": {},
     "output_type": "execute_result"
    }
   ],
   "source": [
    "contents"
   ]
  },
  {
   "attachments": {},
   "cell_type": "markdown",
   "metadata": {},
   "source": [
    "Como hemos visto, el código de arriba nos ha permitido encontrar la secuencia de números con cualquier signo de puntuación, pero pongamos que queremos obtener solamente los números de teléfono separados por un punto o un guion"
   ]
  },
  {
   "cell_type": "code",
   "execution_count": 22,
   "metadata": {},
   "outputs": [
    {
     "name": "stdout",
     "output_type": "stream",
     "text": [
      "615-555-7164\n",
      "800-555-5669\n",
      "560-555-5153\n",
      "900-555-9340\n",
      "714-555-7405\n",
      "800-555-6771\n",
      "783-555-4799\n",
      "516-555-4615\n",
      "127-555-1867\n",
      "608-555-4938\n",
      "568-555-6051\n",
      "292-555-1875\n",
      "900-555-3205\n",
      "614-555-1166\n",
      "530-555-2676\n",
      "470-555-2750\n",
      "800-555-6089\n",
      "880-555-8319\n",
      "777-555-8378\n",
      "998-555-7385\n",
      "800-555-7100\n",
      "903-555-8277\n",
      "196-555-5674\n",
      "900-555-5118\n",
      "905-555-1630\n",
      "203-555-3475\n",
      "884-555-8444\n",
      "904-555-8559\n",
      "889-555-7393\n",
      "195-555-2405\n",
      "321-555-9053\n",
      "133-555-1711\n",
      "900-555-5428\n",
      "760-555-7147\n",
      "391-555-6621\n",
      "932-555-7724\n",
      "609-555-7908\n",
      "800-555-8810\n",
      "149-555-7657\n",
      "130-555-9709\n",
      "143-555-9295\n",
      "903-555-9878\n",
      "574-555-3194\n",
      "496-555-7533\n",
      "210-555-3757\n",
      "900-555-9598\n",
      "866-555-9844\n",
      "669-555-7159\n",
      "152-555-7417\n",
      "893-555-9832\n",
      "217-555-7123\n",
      "786-555-6544\n",
      "780-555-2574\n",
      "926-555-8735\n",
      "895-555-3539\n",
      "874-555-3949\n",
      "800-555-2420\n",
      "936-555-6340\n",
      "372-555-9809\n",
      "890-555-5618\n",
      "670-555-3005\n",
      "509-555-5997\n",
      "721-555-5632\n",
      "900-555-3567\n",
      "147-555-6830\n",
      "582-555-3426\n",
      "400-555-1706\n",
      "525-555-1793\n",
      "317-555-6700\n",
      "974-555-8301\n",
      "800-555-3216\n",
      "746-555-4094\n",
      "922-555-1773\n",
      "711-555-4427\n",
      "355-555-1872\n",
      "852-555-6521\n",
      "691-555-5773\n",
      "332-555-5441\n",
      "900-555-7755\n",
      "379-555-3685\n",
      "127-555-9682\n",
      "789-555-7032\n",
      "783-555-5135\n",
      "315-555-6507\n",
      "481-555-5835\n",
      "365-555-8287\n",
      "911-555-7535\n",
      "681-555-2460\n",
      "274-555-9800\n",
      "800-555-1372\n",
      "300-555-7821\n",
      "133-555-3889\n",
      "705-555-6863\n",
      "215-555-9449\n",
      "988-555-6112\n",
      "623-555-3006\n",
      "192-555-4977\n",
      "178-555-4899\n",
      "952-555-3089\n",
      "900-555-6426\n"
     ]
    }
   ],
   "source": [
    "# escribe tu código\n",
    "pattern = re.compile(r'\\d\\d\\d.\\d\\d\\d.\\d\\d\\d\\d')\n",
    "\n",
    "matches = pattern.finditer(contents)\n",
    "\n",
    "for match in matches:\n",
    "    print(match.__getitem__(0))"
   ]
  },
  {
   "attachments": {},
   "cell_type": "markdown",
   "metadata": {},
   "source": [
    "## Character sets\n",
    "Sirven para concretar nuestra búsqueda.\n",
    "\n",
    "#### ¡CUIDADO! En ocasiones suele haber confusión con los character sets, porque no cogen más de un elemento."
   ]
  },
  {
   "cell_type": "code",
   "execution_count": 23,
   "metadata": {},
   "outputs": [
    {
     "name": "stdout",
     "output_type": "stream",
     "text": [
      "<re.Match object; span=(257, 269), match='800-555-1234'>\n",
      "<re.Match object; span=(270, 282), match='900-555-1234'>\n"
     ]
    }
   ],
   "source": [
    "# Para encontrar todos los números que empiecen por centenas:\n",
    "# 800 - 900\n",
    "\n",
    "pattern = re.compile(r'[89]00\\D\\d\\d\\d\\D\\d\\d\\d\\d')\n",
    "\n",
    "matches = pattern.finditer(text_to_search)\n",
    "\n",
    "for match in matches:\n",
    "    print(match)"
   ]
  },
  {
   "cell_type": "code",
   "execution_count": null,
   "metadata": {},
   "outputs": [],
   "source": [
    "# pattern = re.compile(r'^9[14]') con esto obtendria los numeros\n",
    "# que empiezan por 91 o 94"
   ]
  },
  {
   "attachments": {},
   "cell_type": "markdown",
   "metadata": {},
   "source": [
    "## Los guiones no solamente sirven para encontrar ese caracter especial, sino que además nos permiten establecer rangos\n",
    "\n",
    "Por ejemplo, para mostrar los números entre el 1 y el 5 de todo el texto"
   ]
  },
  {
   "cell_type": "code",
   "execution_count": 24,
   "metadata": {},
   "outputs": [
    {
     "name": "stdout",
     "output_type": "stream",
     "text": [
      "<re.Match object; span=(61, 62), match='1'>\n",
      "<re.Match object; span=(62, 63), match='2'>\n",
      "<re.Match object; span=(63, 64), match='3'>\n",
      "<re.Match object; span=(64, 65), match='4'>\n",
      "<re.Match object; span=(65, 66), match='5'>\n",
      "<re.Match object; span=(218, 219), match='3'>\n",
      "<re.Match object; span=(219, 220), match='2'>\n",
      "<re.Match object; span=(220, 221), match='1'>\n",
      "<re.Match object; span=(222, 223), match='5'>\n",
      "<re.Match object; span=(223, 224), match='5'>\n",
      "<re.Match object; span=(224, 225), match='5'>\n",
      "<re.Match object; span=(226, 227), match='4'>\n",
      "<re.Match object; span=(227, 228), match='3'>\n",
      "<re.Match object; span=(228, 229), match='2'>\n",
      "<re.Match object; span=(229, 230), match='1'>\n",
      "<re.Match object; span=(231, 232), match='1'>\n",
      "<re.Match object; span=(232, 233), match='2'>\n",
      "<re.Match object; span=(233, 234), match='3'>\n",
      "<re.Match object; span=(235, 236), match='5'>\n",
      "<re.Match object; span=(236, 237), match='5'>\n",
      "<re.Match object; span=(237, 238), match='5'>\n",
      "<re.Match object; span=(239, 240), match='1'>\n",
      "<re.Match object; span=(240, 241), match='2'>\n",
      "<re.Match object; span=(241, 242), match='3'>\n",
      "<re.Match object; span=(242, 243), match='4'>\n",
      "<re.Match object; span=(244, 245), match='1'>\n",
      "<re.Match object; span=(245, 246), match='2'>\n",
      "<re.Match object; span=(246, 247), match='3'>\n",
      "<re.Match object; span=(248, 249), match='5'>\n",
      "<re.Match object; span=(249, 250), match='5'>\n",
      "<re.Match object; span=(250, 251), match='5'>\n",
      "<re.Match object; span=(252, 253), match='1'>\n",
      "<re.Match object; span=(253, 254), match='2'>\n",
      "<re.Match object; span=(254, 255), match='3'>\n",
      "<re.Match object; span=(255, 256), match='4'>\n",
      "<re.Match object; span=(261, 262), match='5'>\n",
      "<re.Match object; span=(262, 263), match='5'>\n",
      "<re.Match object; span=(263, 264), match='5'>\n",
      "<re.Match object; span=(265, 266), match='1'>\n",
      "<re.Match object; span=(266, 267), match='2'>\n",
      "<re.Match object; span=(267, 268), match='3'>\n",
      "<re.Match object; span=(268, 269), match='4'>\n",
      "<re.Match object; span=(274, 275), match='5'>\n",
      "<re.Match object; span=(275, 276), match='5'>\n",
      "<re.Match object; span=(276, 277), match='5'>\n",
      "<re.Match object; span=(278, 279), match='1'>\n",
      "<re.Match object; span=(279, 280), match='2'>\n",
      "<re.Match object; span=(280, 281), match='3'>\n",
      "<re.Match object; span=(281, 282), match='4'>\n",
      "<re.Match object; span=(286, 287), match='5'>\n",
      "<re.Match object; span=(287, 288), match='5'>\n",
      "<re.Match object; span=(288, 289), match='5'>\n",
      "<re.Match object; span=(289, 290), match='1'>\n",
      "<re.Match object; span=(290, 291), match='2'>\n",
      "<re.Match object; span=(291, 292), match='3'>\n",
      "<re.Match object; span=(292, 293), match='4'>\n",
      "<re.Match object; span=(298, 299), match='5'>\n",
      "<re.Match object; span=(299, 300), match='5'>\n",
      "<re.Match object; span=(300, 301), match='5'>\n",
      "<re.Match object; span=(302, 303), match='1'>\n",
      "<re.Match object; span=(303, 304), match='2'>\n",
      "<re.Match object; span=(304, 305), match='3'>\n",
      "<re.Match object; span=(305, 306), match='4'>\n",
      "<re.Match object; span=(315, 316), match='2'>\n"
     ]
    }
   ],
   "source": [
    "pattern = re.compile(r'[1-5]')\n",
    "\n",
    "matches = pattern.finditer(text_to_search)\n",
    "\n",
    "for match in matches:\n",
    "    print(match)"
   ]
  },
  {
   "attachments": {},
   "cell_type": "markdown",
   "metadata": {},
   "source": [
    "### Para Mostrar letras mayúsculas y minúsculas, basta con poner los rangos juntos.\n"
   ]
  },
  {
   "cell_type": "code",
   "execution_count": 25,
   "metadata": {},
   "outputs": [
    {
     "name": "stdout",
     "output_type": "stream",
     "text": [
      "<re.Match object; span=(1, 2), match='a'>\n",
      "<re.Match object; span=(2, 3), match='b'>\n",
      "<re.Match object; span=(3, 4), match='c'>\n",
      "<re.Match object; span=(4, 5), match='d'>\n",
      "<re.Match object; span=(5, 6), match='e'>\n",
      "<re.Match object; span=(6, 7), match='f'>\n",
      "<re.Match object; span=(7, 8), match='g'>\n",
      "<re.Match object; span=(8, 9), match='h'>\n",
      "<re.Match object; span=(9, 10), match='i'>\n",
      "<re.Match object; span=(10, 11), match='j'>\n",
      "<re.Match object; span=(11, 12), match='k'>\n",
      "<re.Match object; span=(12, 13), match='l'>\n",
      "<re.Match object; span=(13, 14), match='m'>\n",
      "<re.Match object; span=(14, 15), match='n'>\n",
      "<re.Match object; span=(15, 16), match='o'>\n",
      "<re.Match object; span=(16, 17), match='p'>\n",
      "<re.Match object; span=(17, 18), match='q'>\n",
      "<re.Match object; span=(18, 19), match='u'>\n",
      "<re.Match object; span=(19, 20), match='r'>\n",
      "<re.Match object; span=(20, 21), match='t'>\n",
      "<re.Match object; span=(21, 22), match='u'>\n",
      "<re.Match object; span=(22, 23), match='v'>\n",
      "<re.Match object; span=(23, 24), match='w'>\n",
      "<re.Match object; span=(24, 25), match='x'>\n",
      "<re.Match object; span=(25, 26), match='y'>\n",
      "<re.Match object; span=(26, 27), match='z'>\n",
      "<re.Match object; span=(28, 29), match='A'>\n",
      "<re.Match object; span=(29, 30), match='B'>\n",
      "<re.Match object; span=(30, 31), match='C'>\n",
      "<re.Match object; span=(31, 32), match='D'>\n",
      "<re.Match object; span=(32, 33), match='E'>\n",
      "<re.Match object; span=(33, 34), match='F'>\n",
      "<re.Match object; span=(34, 35), match='G'>\n",
      "<re.Match object; span=(35, 36), match='H'>\n",
      "<re.Match object; span=(36, 37), match='I'>\n",
      "<re.Match object; span=(37, 38), match='J'>\n",
      "<re.Match object; span=(38, 39), match='K'>\n",
      "<re.Match object; span=(39, 40), match='L'>\n",
      "<re.Match object; span=(40, 41), match='M'>\n",
      "<re.Match object; span=(41, 42), match='N'>\n",
      "<re.Match object; span=(42, 43), match='O'>\n",
      "<re.Match object; span=(43, 44), match='P'>\n",
      "<re.Match object; span=(44, 45), match='Q'>\n",
      "<re.Match object; span=(45, 46), match='R'>\n",
      "<re.Match object; span=(46, 47), match='S'>\n",
      "<re.Match object; span=(47, 48), match='T'>\n",
      "<re.Match object; span=(48, 49), match='U'>\n",
      "<re.Match object; span=(49, 50), match='V'>\n",
      "<re.Match object; span=(50, 51), match='W'>\n",
      "<re.Match object; span=(51, 52), match='X'>\n",
      "<re.Match object; span=(52, 53), match='Y'>\n",
      "<re.Match object; span=(53, 54), match='Z'>\n",
      "<re.Match object; span=(72, 73), match='H'>\n",
      "<re.Match object; span=(73, 74), match='a'>\n",
      "<re.Match object; span=(75, 76), match='H'>\n",
      "<re.Match object; span=(76, 77), match='a'>\n",
      "<re.Match object; span=(77, 78), match='H'>\n",
      "<re.Match object; span=(78, 79), match='a'>\n",
      "<re.Match object; span=(81, 82), match='H'>\n",
      "<re.Match object; span=(82, 83), match='a'>\n",
      "<re.Match object; span=(84, 85), match='M'>\n",
      "<re.Match object; span=(85, 86), match='e'>\n",
      "<re.Match object; span=(86, 87), match='t'>\n",
      "<re.Match object; span=(87, 88), match='a'>\n",
      "<re.Match object; span=(88, 89), match='C'>\n",
      "<re.Match object; span=(89, 90), match='h'>\n",
      "<re.Match object; span=(90, 91), match='a'>\n",
      "<re.Match object; span=(91, 92), match='r'>\n",
      "<re.Match object; span=(92, 93), match='a'>\n",
      "<re.Match object; span=(93, 94), match='c'>\n",
      "<re.Match object; span=(94, 95), match='t'>\n",
      "<re.Match object; span=(95, 96), match='e'>\n",
      "<re.Match object; span=(96, 97), match='r'>\n",
      "<re.Match object; span=(97, 98), match='s'>\n",
      "<re.Match object; span=(100, 101), match='N'>\n",
      "<re.Match object; span=(101, 102), match='e'>\n",
      "<re.Match object; span=(102, 103), match='e'>\n",
      "<re.Match object; span=(103, 104), match='d'>\n",
      "<re.Match object; span=(105, 106), match='t'>\n",
      "<re.Match object; span=(106, 107), match='o'>\n",
      "<re.Match object; span=(108, 109), match='b'>\n",
      "<re.Match object; span=(109, 110), match='e'>\n",
      "<re.Match object; span=(111, 112), match='e'>\n",
      "<re.Match object; span=(112, 113), match='s'>\n",
      "<re.Match object; span=(113, 114), match='c'>\n",
      "<re.Match object; span=(114, 115), match='a'>\n",
      "<re.Match object; span=(115, 116), match='p'>\n",
      "<re.Match object; span=(116, 117), match='e'>\n",
      "<re.Match object; span=(117, 118), match='d'>\n",
      "<re.Match object; span=(149, 150), match='m'>\n",
      "<re.Match object; span=(150, 151), match='i'>\n",
      "<re.Match object; span=(151, 152), match='g'>\n",
      "<re.Match object; span=(152, 153), match='u'>\n",
      "<re.Match object; span=(153, 154), match='e'>\n",
      "<re.Match object; span=(154, 155), match='l'>\n",
      "<re.Match object; span=(155, 156), match='n'>\n",
      "<re.Match object; span=(156, 157), match='i'>\n",
      "<re.Match object; span=(157, 158), match='e'>\n",
      "<re.Match object; span=(158, 159), match='v'>\n",
      "<re.Match object; span=(159, 160), match='a'>\n",
      "<re.Match object; span=(160, 161), match='s'>\n",
      "<re.Match object; span=(162, 163), match='c'>\n",
      "<re.Match object; span=(163, 164), match='o'>\n",
      "<re.Match object; span=(164, 165), match='m'>\n",
      "<re.Match object; span=(166, 167), match='m'>\n",
      "<re.Match object; span=(167, 168), match='i'>\n",
      "<re.Match object; span=(168, 169), match='g'>\n",
      "<re.Match object; span=(169, 170), match='u'>\n",
      "<re.Match object; span=(170, 171), match='e'>\n",
      "<re.Match object; span=(171, 172), match='l'>\n",
      "<re.Match object; span=(172, 173), match='n'>\n",
      "<re.Match object; span=(173, 174), match='i'>\n",
      "<re.Match object; span=(174, 175), match='e'>\n",
      "<re.Match object; span=(175, 176), match='v'>\n",
      "<re.Match object; span=(176, 177), match='a'>\n",
      "<re.Match object; span=(177, 178), match='s'>\n",
      "<re.Match object; span=(179, 180), match='c'>\n",
      "<re.Match object; span=(180, 181), match='o'>\n",
      "<re.Match object; span=(181, 182), match='m'>\n",
      "<re.Match object; span=(183, 184), match='m'>\n",
      "<re.Match object; span=(184, 185), match='i'>\n",
      "<re.Match object; span=(185, 186), match='g'>\n",
      "<re.Match object; span=(186, 187), match='u'>\n",
      "<re.Match object; span=(187, 188), match='e'>\n",
      "<re.Match object; span=(188, 189), match='l'>\n",
      "<re.Match object; span=(189, 190), match='n'>\n",
      "<re.Match object; span=(190, 191), match='i'>\n",
      "<re.Match object; span=(191, 192), match='e'>\n",
      "<re.Match object; span=(192, 193), match='v'>\n",
      "<re.Match object; span=(193, 194), match='a'>\n",
      "<re.Match object; span=(194, 195), match='s'>\n",
      "<re.Match object; span=(195, 196), match='o'>\n",
      "<re.Match object; span=(196, 197), match='c'>\n",
      "<re.Match object; span=(197, 198), match='o'>\n",
      "<re.Match object; span=(198, 199), match='m'>\n",
      "<re.Match object; span=(200, 201), match='m'>\n",
      "<re.Match object; span=(201, 202), match='i'>\n",
      "<re.Match object; span=(202, 203), match='g'>\n",
      "<re.Match object; span=(203, 204), match='u'>\n",
      "<re.Match object; span=(204, 205), match='e'>\n",
      "<re.Match object; span=(205, 206), match='l'>\n",
      "<re.Match object; span=(206, 207), match='n'>\n",
      "<re.Match object; span=(207, 208), match='i'>\n",
      "<re.Match object; span=(208, 209), match='e'>\n",
      "<re.Match object; span=(209, 210), match='v'>\n",
      "<re.Match object; span=(210, 211), match='a'>\n",
      "<re.Match object; span=(211, 212), match='s'>\n",
      "<re.Match object; span=(213, 214), match='h'>\n",
      "<re.Match object; span=(214, 215), match='o'>\n",
      "<re.Match object; span=(215, 216), match='l'>\n",
      "<re.Match object; span=(216, 217), match='a'>\n",
      "<re.Match object; span=(307, 308), match='M'>\n",
      "<re.Match object; span=(308, 309), match='r'>\n",
      "<re.Match object; span=(311, 312), match='S'>\n",
      "<re.Match object; span=(312, 313), match='c'>\n",
      "<re.Match object; span=(313, 314), match='h'>\n",
      "<re.Match object; span=(314, 315), match='a'>\n",
      "<re.Match object; span=(316, 317), match='f'>\n",
      "<re.Match object; span=(317, 318), match='e'>\n",
      "<re.Match object; span=(318, 319), match='r'>\n",
      "<re.Match object; span=(320, 321), match='M'>\n",
      "<re.Match object; span=(321, 322), match='r'>\n",
      "<re.Match object; span=(323, 324), match='S'>\n",
      "<re.Match object; span=(324, 325), match='m'>\n",
      "<re.Match object; span=(325, 326), match='i'>\n",
      "<re.Match object; span=(326, 327), match='t'>\n",
      "<re.Match object; span=(327, 328), match='h'>\n",
      "<re.Match object; span=(329, 330), match='M'>\n",
      "<re.Match object; span=(330, 331), match='s'>\n",
      "<re.Match object; span=(332, 333), match='D'>\n",
      "<re.Match object; span=(333, 334), match='a'>\n",
      "<re.Match object; span=(334, 335), match='v'>\n",
      "<re.Match object; span=(335, 336), match='i'>\n",
      "<re.Match object; span=(336, 337), match='s'>\n",
      "<re.Match object; span=(338, 339), match='M'>\n",
      "<re.Match object; span=(339, 340), match='r'>\n",
      "<re.Match object; span=(340, 341), match='s'>\n",
      "<re.Match object; span=(343, 344), match='R'>\n",
      "<re.Match object; span=(344, 345), match='o'>\n",
      "<re.Match object; span=(345, 346), match='b'>\n",
      "<re.Match object; span=(346, 347), match='i'>\n",
      "<re.Match object; span=(347, 348), match='n'>\n",
      "<re.Match object; span=(348, 349), match='s'>\n",
      "<re.Match object; span=(349, 350), match='o'>\n",
      "<re.Match object; span=(350, 351), match='n'>\n",
      "<re.Match object; span=(352, 353), match='M'>\n",
      "<re.Match object; span=(353, 354), match='r'>\n",
      "<re.Match object; span=(356, 357), match='T'>\n",
      "<re.Match object; span=(358, 359), match='M'>\n",
      "<re.Match object; span=(359, 360), match='r'>\n",
      "<re.Match object; span=(366, 367), match='c'>\n",
      "<re.Match object; span=(367, 368), match='a'>\n",
      "<re.Match object; span=(368, 369), match='t'>\n",
      "<re.Match object; span=(370, 371), match='m'>\n",
      "<re.Match object; span=(371, 372), match='a'>\n",
      "<re.Match object; span=(372, 373), match='t'>\n",
      "<re.Match object; span=(374, 375), match='p'>\n",
      "<re.Match object; span=(375, 376), match='a'>\n",
      "<re.Match object; span=(376, 377), match='t'>\n",
      "<re.Match object; span=(378, 379), match='b'>\n",
      "<re.Match object; span=(379, 380), match='a'>\n",
      "<re.Match object; span=(380, 381), match='t'>\n",
      "<re.Match object; span=(382, 383), match='a'>\n",
      "<re.Match object; span=(383, 384), match='t'>\n"
     ]
    }
   ],
   "source": [
    "pattern = re.compile(r'[a-zA-Z]')\n",
    "\n",
    "matches = pattern.finditer(text_to_search)\n",
    "\n",
    "for match in matches:\n",
    "    print(match)"
   ]
  },
  {
   "cell_type": "code",
   "execution_count": 26,
   "metadata": {},
   "outputs": [
    {
     "name": "stdout",
     "output_type": "stream",
     "text": [
      "<re.Match object; span=(55, 56), match='á'>\n",
      "<re.Match object; span=(56, 57), match='é'>\n",
      "<re.Match object; span=(57, 58), match='í'>\n",
      "<re.Match object; span=(58, 59), match='ó'>\n",
      "<re.Match object; span=(59, 60), match='ú'>\n"
     ]
    }
   ],
   "source": [
    "pattern = re.compile(r'[á-ú]')\n",
    "\n",
    "matches = pattern.finditer(text_to_search)\n",
    "\n",
    "for match in matches:\n",
    "    print(match)"
   ]
  },
  {
   "attachments": {},
   "cell_type": "markdown",
   "metadata": {},
   "source": [
    "## Importante \n",
    "Al poner el símbolo `^` dentro de los corchetes `[]`, significa que **NO** queremos lo que está dentro de él.\n",
    "\n",
    "En este caso, al ejecutar, se muestran solo los caracteres numéricos, los espacios en blanco, los saltos de línea y los caracteres numéricos.\n",
    "\n",
    "**Se niega el set**"
   ]
  },
  {
   "cell_type": "code",
   "execution_count": 27,
   "metadata": {},
   "outputs": [
    {
     "name": "stdout",
     "output_type": "stream",
     "text": [
      "<re.Match object; span=(0, 1), match='\\n'>\n",
      "<re.Match object; span=(27, 28), match='\\n'>\n",
      "<re.Match object; span=(54, 55), match='\\n'>\n",
      "<re.Match object; span=(55, 56), match='á'>\n",
      "<re.Match object; span=(56, 57), match='é'>\n",
      "<re.Match object; span=(57, 58), match='í'>\n",
      "<re.Match object; span=(58, 59), match='ó'>\n",
      "<re.Match object; span=(59, 60), match='ú'>\n",
      "<re.Match object; span=(60, 61), match='\\n'>\n",
      "<re.Match object; span=(61, 62), match='1'>\n",
      "<re.Match object; span=(62, 63), match='2'>\n",
      "<re.Match object; span=(63, 64), match='3'>\n",
      "<re.Match object; span=(64, 65), match='4'>\n",
      "<re.Match object; span=(65, 66), match='5'>\n",
      "<re.Match object; span=(66, 67), match='6'>\n",
      "<re.Match object; span=(67, 68), match='7'>\n",
      "<re.Match object; span=(68, 69), match='8'>\n",
      "<re.Match object; span=(69, 70), match='9'>\n",
      "<re.Match object; span=(70, 71), match='0'>\n",
      "<re.Match object; span=(71, 72), match='\\n'>\n",
      "<re.Match object; span=(74, 75), match=' '>\n",
      "<re.Match object; span=(79, 80), match=' '>\n",
      "<re.Match object; span=(80, 81), match='?'>\n",
      "<re.Match object; span=(83, 84), match='\\n'>\n",
      "<re.Match object; span=(98, 99), match=' '>\n",
      "<re.Match object; span=(99, 100), match='('>\n",
      "<re.Match object; span=(104, 105), match=' '>\n",
      "<re.Match object; span=(107, 108), match=' '>\n",
      "<re.Match object; span=(110, 111), match=' '>\n",
      "<re.Match object; span=(118, 119), match=')'>\n",
      "<re.Match object; span=(119, 120), match=':'>\n",
      "<re.Match object; span=(120, 121), match='\\n'>\n",
      "<re.Match object; span=(121, 122), match='.'>\n",
      "<re.Match object; span=(122, 123), match=' '>\n",
      "<re.Match object; span=(123, 124), match='^'>\n",
      "<re.Match object; span=(124, 125), match=' '>\n",
      "<re.Match object; span=(125, 126), match='$'>\n",
      "<re.Match object; span=(126, 127), match=' '>\n",
      "<re.Match object; span=(127, 128), match='*'>\n",
      "<re.Match object; span=(128, 129), match=' '>\n",
      "<re.Match object; span=(129, 130), match='+'>\n",
      "<re.Match object; span=(130, 131), match=' '>\n",
      "<re.Match object; span=(131, 132), match='?'>\n",
      "<re.Match object; span=(132, 133), match=' '>\n",
      "<re.Match object; span=(133, 134), match='{'>\n",
      "<re.Match object; span=(134, 135), match=' '>\n",
      "<re.Match object; span=(135, 136), match='}'>\n",
      "<re.Match object; span=(136, 137), match=' '>\n",
      "<re.Match object; span=(137, 138), match='['>\n",
      "<re.Match object; span=(138, 139), match=' '>\n",
      "<re.Match object; span=(139, 140), match=']'>\n",
      "<re.Match object; span=(140, 141), match=' '>\n",
      "<re.Match object; span=(141, 142), match='\\\\'>\n",
      "<re.Match object; span=(142, 143), match=' '>\n",
      "<re.Match object; span=(143, 144), match='|'>\n",
      "<re.Match object; span=(144, 145), match=' '>\n",
      "<re.Match object; span=(145, 146), match='('>\n",
      "<re.Match object; span=(146, 147), match=' '>\n",
      "<re.Match object; span=(147, 148), match=')'>\n",
      "<re.Match object; span=(148, 149), match='\\n'>\n",
      "<re.Match object; span=(161, 162), match='*'>\n",
      "<re.Match object; span=(165, 166), match='\\n'>\n",
      "<re.Match object; span=(178, 179), match='.'>\n",
      "<re.Match object; span=(182, 183), match='\\n'>\n",
      "<re.Match object; span=(199, 200), match='\\n'>\n",
      "<re.Match object; span=(212, 213), match=' '>\n",
      "<re.Match object; span=(217, 218), match='\\n'>\n",
      "<re.Match object; span=(218, 219), match='3'>\n",
      "<re.Match object; span=(219, 220), match='2'>\n",
      "<re.Match object; span=(220, 221), match='1'>\n",
      "<re.Match object; span=(221, 222), match='-'>\n",
      "<re.Match object; span=(222, 223), match='5'>\n",
      "<re.Match object; span=(223, 224), match='5'>\n",
      "<re.Match object; span=(224, 225), match='5'>\n",
      "<re.Match object; span=(225, 226), match='-'>\n",
      "<re.Match object; span=(226, 227), match='4'>\n",
      "<re.Match object; span=(227, 228), match='3'>\n",
      "<re.Match object; span=(228, 229), match='2'>\n",
      "<re.Match object; span=(229, 230), match='1'>\n",
      "<re.Match object; span=(230, 231), match='\\n'>\n",
      "<re.Match object; span=(231, 232), match='1'>\n",
      "<re.Match object; span=(232, 233), match='2'>\n",
      "<re.Match object; span=(233, 234), match='3'>\n",
      "<re.Match object; span=(234, 235), match='.'>\n",
      "<re.Match object; span=(235, 236), match='5'>\n",
      "<re.Match object; span=(236, 237), match='5'>\n",
      "<re.Match object; span=(237, 238), match='5'>\n",
      "<re.Match object; span=(238, 239), match='.'>\n",
      "<re.Match object; span=(239, 240), match='1'>\n",
      "<re.Match object; span=(240, 241), match='2'>\n",
      "<re.Match object; span=(241, 242), match='3'>\n",
      "<re.Match object; span=(242, 243), match='4'>\n",
      "<re.Match object; span=(243, 244), match='\\n'>\n",
      "<re.Match object; span=(244, 245), match='1'>\n",
      "<re.Match object; span=(245, 246), match='2'>\n",
      "<re.Match object; span=(246, 247), match='3'>\n",
      "<re.Match object; span=(247, 248), match='*'>\n",
      "<re.Match object; span=(248, 249), match='5'>\n",
      "<re.Match object; span=(249, 250), match='5'>\n",
      "<re.Match object; span=(250, 251), match='5'>\n",
      "<re.Match object; span=(251, 252), match='*'>\n",
      "<re.Match object; span=(252, 253), match='1'>\n",
      "<re.Match object; span=(253, 254), match='2'>\n",
      "<re.Match object; span=(254, 255), match='3'>\n",
      "<re.Match object; span=(255, 256), match='4'>\n",
      "<re.Match object; span=(256, 257), match='\\n'>\n",
      "<re.Match object; span=(257, 258), match='8'>\n",
      "<re.Match object; span=(258, 259), match='0'>\n",
      "<re.Match object; span=(259, 260), match='0'>\n",
      "<re.Match object; span=(260, 261), match='-'>\n",
      "<re.Match object; span=(261, 262), match='5'>\n",
      "<re.Match object; span=(262, 263), match='5'>\n",
      "<re.Match object; span=(263, 264), match='5'>\n",
      "<re.Match object; span=(264, 265), match='-'>\n",
      "<re.Match object; span=(265, 266), match='1'>\n",
      "<re.Match object; span=(266, 267), match='2'>\n",
      "<re.Match object; span=(267, 268), match='3'>\n",
      "<re.Match object; span=(268, 269), match='4'>\n",
      "<re.Match object; span=(269, 270), match='\\n'>\n",
      "<re.Match object; span=(270, 271), match='9'>\n",
      "<re.Match object; span=(271, 272), match='0'>\n",
      "<re.Match object; span=(272, 273), match='0'>\n",
      "<re.Match object; span=(273, 274), match='-'>\n",
      "<re.Match object; span=(274, 275), match='5'>\n",
      "<re.Match object; span=(275, 276), match='5'>\n",
      "<re.Match object; span=(276, 277), match='5'>\n",
      "<re.Match object; span=(277, 278), match='-'>\n",
      "<re.Match object; span=(278, 279), match='1'>\n",
      "<re.Match object; span=(279, 280), match='2'>\n",
      "<re.Match object; span=(280, 281), match='3'>\n",
      "<re.Match object; span=(281, 282), match='4'>\n",
      "<re.Match object; span=(282, 283), match='\\n'>\n",
      "<re.Match object; span=(283, 284), match='9'>\n",
      "<re.Match object; span=(284, 285), match='0'>\n",
      "<re.Match object; span=(285, 286), match='0'>\n",
      "<re.Match object; span=(286, 287), match='5'>\n",
      "<re.Match object; span=(287, 288), match='5'>\n",
      "<re.Match object; span=(288, 289), match='5'>\n",
      "<re.Match object; span=(289, 290), match='1'>\n",
      "<re.Match object; span=(290, 291), match='2'>\n",
      "<re.Match object; span=(291, 292), match='3'>\n",
      "<re.Match object; span=(292, 293), match='4'>\n",
      "<re.Match object; span=(293, 294), match='\\n'>\n",
      "<re.Match object; span=(294, 295), match='9'>\n",
      "<re.Match object; span=(295, 296), match='0'>\n",
      "<re.Match object; span=(296, 297), match='0'>\n",
      "<re.Match object; span=(297, 298), match='0'>\n",
      "<re.Match object; span=(298, 299), match='5'>\n",
      "<re.Match object; span=(299, 300), match='5'>\n",
      "<re.Match object; span=(300, 301), match='5'>\n",
      "<re.Match object; span=(301, 302), match='0'>\n",
      "<re.Match object; span=(302, 303), match='1'>\n",
      "<re.Match object; span=(303, 304), match='2'>\n",
      "<re.Match object; span=(304, 305), match='3'>\n",
      "<re.Match object; span=(305, 306), match='4'>\n",
      "<re.Match object; span=(306, 307), match='\\n'>\n",
      "<re.Match object; span=(309, 310), match='.'>\n",
      "<re.Match object; span=(310, 311), match=' '>\n",
      "<re.Match object; span=(315, 316), match='2'>\n",
      "<re.Match object; span=(319, 320), match='\\n'>\n",
      "<re.Match object; span=(322, 323), match=' '>\n",
      "<re.Match object; span=(328, 329), match='\\n'>\n",
      "<re.Match object; span=(331, 332), match=' '>\n",
      "<re.Match object; span=(337, 338), match='\\n'>\n",
      "<re.Match object; span=(341, 342), match='.'>\n",
      "<re.Match object; span=(342, 343), match=' '>\n",
      "<re.Match object; span=(351, 352), match='\\n'>\n",
      "<re.Match object; span=(354, 355), match='.'>\n",
      "<re.Match object; span=(355, 356), match=' '>\n",
      "<re.Match object; span=(357, 358), match='\\n'>\n",
      "<re.Match object; span=(360, 361), match='.'>\n",
      "<re.Match object; span=(361, 362), match=' '>\n",
      "<re.Match object; span=(362, 363), match='('>\n",
      "<re.Match object; span=(363, 364), match=')'>\n",
      "<re.Match object; span=(364, 365), match='\\n'>\n",
      "<re.Match object; span=(365, 366), match='\\n'>\n",
      "<re.Match object; span=(369, 370), match='\\n'>\n",
      "<re.Match object; span=(373, 374), match='\\n'>\n",
      "<re.Match object; span=(377, 378), match='\\n'>\n",
      "<re.Match object; span=(381, 382), match='\\n'>\n",
      "<re.Match object; span=(384, 385), match='\\n'>\n"
     ]
    }
   ],
   "source": [
    "pattern = re.compile(r'[^a-zA-Z]')\n",
    "\n",
    "matches = pattern.finditer(text_to_search)\n",
    "\n",
    "for match in matches:\n",
    "    print(match)"
   ]
  },
  {
   "attachments": {},
   "cell_type": "markdown",
   "metadata": {},
   "source": [
    "## Búsquedas de patrones en los textos \n",
    "Pongamos que queremos recoger palabras terminadas en at, excepto **bat**\n",
    "Especificamos que no queremos los valores que empiecen por b"
   ]
  },
  {
   "cell_type": "code",
   "execution_count": 28,
   "metadata": {},
   "outputs": [
    {
     "name": "stdout",
     "output_type": "stream",
     "text": [
      "<re.Match object; span=(366, 369), match='cat'>\n",
      "<re.Match object; span=(370, 373), match='mat'>\n",
      "<re.Match object; span=(374, 377), match='pat'>\n",
      "<re.Match object; span=(381, 384), match='\\nat'>\n"
     ]
    }
   ],
   "source": [
    "pattern = re.compile(r'[^b]at')\n",
    "\n",
    "matches = pattern.finditer(text_to_search)\n",
    "\n",
    "for match in matches:\n",
    "    print(match)"
   ]
  },
  {
   "attachments": {},
   "cell_type": "markdown",
   "metadata": {},
   "source": [
    "## Rangos `{}`\n",
    "Como vemos en snippets.txt, las llaves nos permiten establecer rangos. \n",
    "\n",
    "Volviendo al ejemplo de los números de teléfono, otra forma de obtener los patrones"
   ]
  },
  {
   "cell_type": "code",
   "execution_count": 29,
   "metadata": {},
   "outputs": [
    {
     "name": "stdout",
     "output_type": "stream",
     "text": [
      "<re.Match object; span=(218, 230), match='321-555-4321'>\n",
      "<re.Match object; span=(231, 243), match='123.555.1234'>\n",
      "<re.Match object; span=(244, 256), match='123*555*1234'>\n",
      "<re.Match object; span=(257, 269), match='800-555-1234'>\n",
      "<re.Match object; span=(270, 282), match='900-555-1234'>\n"
     ]
    }
   ],
   "source": [
    "pattern = re.compile(r'\\d{3}\\D\\d{3}\\D\\d{4}')\n",
    "\n",
    "matches = pattern.finditer(text_to_search)\n",
    "\n",
    "for match in matches:\n",
    "    print(match)"
   ]
  },
  {
   "cell_type": "code",
   "execution_count": 30,
   "metadata": {},
   "outputs": [
    {
     "name": "stdout",
     "output_type": "stream",
     "text": [
      "<re.Match object; span=(61, 71), match='1234567890'>\n",
      "<re.Match object; span=(218, 230), match='321-555-4321'>\n",
      "<re.Match object; span=(231, 243), match='123.555.1234'>\n",
      "<re.Match object; span=(244, 256), match='123*555*1234'>\n",
      "<re.Match object; span=(257, 269), match='800-555-1234'>\n",
      "<re.Match object; span=(270, 282), match='900-555-1234'>\n",
      "<re.Match object; span=(283, 293), match='9005551234'>\n",
      "<re.Match object; span=(294, 306), match='900055501234'>\n"
     ]
    }
   ],
   "source": [
    "pattern = re.compile(r'\\d{2,4}.\\d{2,4}.\\d{2,4}')\n",
    "\n",
    "matches = pattern.finditer(text_to_search)\n",
    "\n",
    "for match in matches:\n",
    "    print(match)"
   ]
  },
  {
   "cell_type": "code",
   "execution_count": 31,
   "metadata": {},
   "outputs": [
    {
     "name": "stdout",
     "output_type": "stream",
     "text": [
      "<re.Match object; span=(307, 310), match='Mr.'>\n",
      "<re.Match object; span=(352, 355), match='Mr.'>\n",
      "<re.Match object; span=(358, 361), match='Mr.'>\n"
     ]
    }
   ],
   "source": [
    "# Este ejemplo nos vale porque sabemos exactamente el\n",
    "# patrón que se reproduce.\n",
    "\n",
    "pattern1 = re.compile(r'Mr\\.')\n",
    "\n",
    "matches = pattern1.finditer(text_to_search)\n",
    "\n",
    "for match in matches:\n",
    "    print(match)\n",
    "\n",
    "# Aquí no nos está dando lo que queremos. Solo nos da la secuencia Mr."
   ]
  },
  {
   "attachments": {},
   "cell_type": "markdown",
   "metadata": {},
   "source": [
    "## Operador `?` \n",
    "Nos sirve para añadir 0 o 1 a nuestra selección. Así se va a contemplar lo que hay un espacio después"
   ]
  },
  {
   "cell_type": "code",
   "execution_count": 34,
   "metadata": {},
   "outputs": [
    {
     "name": "stdout",
     "output_type": "stream",
     "text": [
      "<re.Match object; span=(307, 310), match='Mr.'>\n",
      "<re.Match object; span=(320, 323), match='Mr '>\n",
      "<re.Match object; span=(338, 341), match='Mrs'>\n",
      "<re.Match object; span=(352, 355), match='Mr.'>\n",
      "<re.Match object; span=(358, 361), match='Mr.'>\n"
     ]
    }
   ],
   "source": [
    "# Aquí sí aparecen todos los Mr. independientemente de\n",
    "# que tengan punto o no\n",
    "pattern2 = re.compile(r'Mr.')\n",
    "\n",
    "matches = pattern2.finditer(text_to_search)\n",
    "\n",
    "for match in matches:\n",
    "    print(match)"
   ]
  },
  {
   "cell_type": "code",
   "execution_count": 35,
   "metadata": {},
   "outputs": [
    {
     "name": "stdout",
     "output_type": "stream",
     "text": [
      "<re.Match object; span=(307, 310), match='Mr.'>\n",
      "<re.Match object; span=(320, 322), match='Mr'>\n",
      "<re.Match object; span=(338, 340), match='Mr'>\n",
      "<re.Match object; span=(352, 355), match='Mr.'>\n",
      "<re.Match object; span=(358, 361), match='Mr.'>\n"
     ]
    }
   ],
   "source": [
    "# Aquí sí aparecen todos los Mr. independientemente de\n",
    "# que tengan punto o no\n",
    "pattern2 = re.compile(r'Mr\\.?')\n",
    "\n",
    "matches = pattern2.finditer(text_to_search)\n",
    "\n",
    "for match in matches:\n",
    "    print(match)"
   ]
  },
  {
   "cell_type": "code",
   "execution_count": 36,
   "metadata": {},
   "outputs": [
    {
     "name": "stdout",
     "output_type": "stream",
     "text": [
      "<re.Match object; span=(307, 319), match='Mr. Scha2fer'>\n",
      "<re.Match object; span=(320, 328), match='Mr Smith'>\n",
      "<re.Match object; span=(352, 357), match='Mr. T'>\n"
     ]
    }
   ],
   "source": [
    "# Aquí sí aparecen todos los Mr. independientemente de\n",
    "# que tengan punto o no\n",
    "pattern3 = re.compile(r'Mr\\.?\\s\\w+')\n",
    "# El operador + muestra si hay 1 elemento o más a la\n",
    "# derecha de la selección\n",
    "\n",
    "matches = pattern3.finditer(text_to_search)\n",
    "\n",
    "for match in matches:\n",
    "    print(match)"
   ]
  },
  {
   "attachments": {},
   "cell_type": "markdown",
   "metadata": {},
   "source": [
    "## Ahora sí que sí\n",
    "para mostrarlo todo , utilizaremos el cuantificador `*`"
   ]
  },
  {
   "cell_type": "code",
   "execution_count": 37,
   "metadata": {},
   "outputs": [
    {
     "name": "stdout",
     "output_type": "stream",
     "text": [
      "<re.Match object; span=(307, 319), match='Mr. Scha2fer'>\n",
      "<re.Match object; span=(320, 328), match='Mr Smith'>\n",
      "<re.Match object; span=(352, 357), match='Mr. T'>\n",
      "<re.Match object; span=(358, 362), match='Mr. '>\n"
     ]
    }
   ],
   "source": [
    "pattern4 = re.compile(r'Mr\\.?\\s\\w*')\n",
    "\n",
    "matches = pattern4.finditer(text_to_search)\n",
    "\n",
    "for match in matches:\n",
    "    print(match)"
   ]
  },
  {
   "attachments": {},
   "cell_type": "markdown",
   "metadata": {},
   "source": [
    "## Grouping `()`\n",
    "Siguiendo con el ejemplo, para ver todos los Mr, Ms y Mrs, podemos utilizar el operador | (or)"
   ]
  },
  {
   "cell_type": "code",
   "execution_count": 38,
   "metadata": {},
   "outputs": [
    {
     "name": "stdout",
     "output_type": "stream",
     "text": [
      "<re.Match object; span=(307, 319), match='Mr. Scha2fer'>\n",
      "<re.Match object; span=(320, 328), match='Mr Smith'>\n",
      "<re.Match object; span=(329, 337), match='Ms Davis'>\n",
      "<re.Match object; span=(338, 351), match='Mrs. Robinson'>\n",
      "<re.Match object; span=(352, 357), match='Mr. T'>\n",
      "<re.Match object; span=(358, 362), match='Mr. '>\n"
     ]
    }
   ],
   "source": [
    "pattern4 = re.compile(r'(Mr|Ms|Mrs)\\.?\\s\\w*')\n",
    "\n",
    "matches = pattern4.finditer(text_to_search)\n",
    "\n",
    "for match in matches:\n",
    "    print(match)"
   ]
  },
  {
   "cell_type": "code",
   "execution_count": 39,
   "metadata": {},
   "outputs": [
    {
     "data": {
      "text/plain": [
       "'\\nabcdefghijklmnopqurtuvwxyz\\nABCDEFGHIJKLMNOPQRSTUVWXYZ\\náéíóú\\n1234567890\\nHa HaHa ?Ha\\nMetaCharacters (Need to be escaped):\\n. ^ $ * + ? { } [ ] \\\\ | ( )\\nmiguelnievas*com\\nmiguelnievas.com\\nmiguelnievasocom\\nmiguelnievas hola\\n321-555-4321\\n123.555.1234\\n123*555*1234\\n800-555-1234\\n900-555-1234\\n9005551234\\n900055501234\\n999\\n999\\n999\\n999\\n999\\n999()\\n\\ncat\\nmat\\npat\\nbat\\nat\\n'"
      ]
     },
     "execution_count": 39,
     "metadata": {},
     "output_type": "execute_result"
    }
   ],
   "source": [
    "#Para sustituir\n",
    "\n",
    "re.sub(r'(Mr|Ms|Mrs)\\.?\\s\\w*', '999', text_to_search)"
   ]
  }
 ],
 "metadata": {
  "kernelspec": {
   "display_name": "Python 3.7.4 64-bit",
   "language": "python",
   "name": "python3"
  },
  "language_info": {
   "codemirror_mode": {
    "name": "ipython",
    "version": 3
   },
   "file_extension": ".py",
   "mimetype": "text/x-python",
   "name": "python",
   "nbconvert_exporter": "python",
   "pygments_lexer": "ipython3",
   "version": "3.11.3"
  },
  "orig_nbformat": 4,
  "vscode": {
   "interpreter": {
    "hash": "90139cb9a825bf3d63f6f6704e828dbd1ff7edbd4d0c6e906a71235d6efc74af"
   }
  }
 },
 "nbformat": 4,
 "nbformat_minor": 2
}
